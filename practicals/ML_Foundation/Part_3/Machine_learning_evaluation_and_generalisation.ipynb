{
  "cells": [
    {
      "cell_type": "markdown",
      "metadata": {
        "id": "f8vAhgUlCrhn"
      },
      "source": [
        "# **Introduction to DL -- Evaluation, Generalization, and Optimization Algorithms**\n",
        "\n",
        "<img src=\"https://incubator.ucf.edu/wp-content/uploads/2023/07/artificial-intelligence-new-technology-science-futuristic-abstract-human-brain-ai-technology-cpu-central-processor-unit-chipset-big-data-machine-learning-cyber-mind-domination-generative-ai-scaled-1-1500x1000.jpg\" width=\"600\"/>\n"
      ]
    },
    {
      "cell_type": "markdown",
      "metadata": {
        "id": "M0b-9wxi_XDD"
      },
      "source": [
        "<a href=\"https://colab.research.google.com/github/deep-learning-indaba/indaba-pracs-2025/blob/main/practicals/ML_Foundation/Part_3/Machine_learning_evaluation_and_generalisation.ipynb\" target=\"_parent\"><img src=\"https://colab.research.google.com/assets/colab-badge.svg\" alt=\"Open In Colab\"/></a>\n",
        "\n",
        "\n",
        "© Deep Learning Indaba 2025. Apache License 2.0.\n",
        "\n",
        "**Authors:** Ulrich Mbou Sob, Geraud Nangue Tasse\n",
        "\n",
        "**Reviewers:**\n",
        "\n",
        "**Introduction:**\n",
        "In machine learning, our main goal is to **train a model on data** so that it can perform well at a specific task such as **classification** or **regression**.\n",
        "\n",
        "When training a model, we usually minimize a **loss function**.  \n",
        "The loss helps guide the learning process, but it doesn’t always match how we actually measure performance in practice. In this tutorial, we will focus on machine learning model evaluation and introduce different optimization techniques that can be leverage to improve machine learning model's performance.\n",
        "\n",
        "**Topics:**\n",
        "\n",
        "Content: <font color='green'>`Supervised Learning, Evaluation, Optimization`</font>\n",
        "\n",
        "Level: <font color='grey'>`Beginner`</font>\n",
        "\n",
        "**Aims/Learning Objectives:**\n",
        "\n",
        "In this tutorial we will learn the following key concepts:\n",
        "\n",
        "- **Model Evaluation** → How do we measure how good a model really is?  \n",
        "- **Generalization** → How well does a model perform on data it has never seen before?  \n",
        "- **Optimization & Regularization** → What algorithms and techniques can we use to train models more effectively and prevent overfitting?\n",
        "\n",
        "**Prerequisites:**\n",
        "\n",
        "- Practical 1\n",
        "  - Regression\n",
        "  - Basic knowledge of Jax\n",
        "- Practical 2\n",
        "  - Machine learning classification\n",
        "\n",
        "**Outline:**\n",
        "\n",
        ">[Part 1 - Evaluation and Generalization](#scrollTo=zHc7_PbomVIN)\n",
        "\n",
        ">>[Model Evaluation](#scrollTo=nHCa0Tj-0_ZC)\n",
        "\n",
        ">>>[Breast cancer classification](#scrollTo=VnKyBQeS7auc)\n",
        "\n",
        ">>>[Evaluation metrics](#scrollTo=S8cWX6wEe0rN)\n",
        "\n",
        ">>>[✅ Accuracy](#scrollTo=nw5RpOOekkII)\n",
        "\n",
        ">>>[🎯 Precision](#scrollTo=41S2rXHulrai)\n",
        "\n",
        ">>>[🚨 Recall (Sensitivity)](#scrollTo=BshBAzvElsyw)\n",
        "\n",
        ">>>[📊 Aggregate Metrics](#scrollTo=aUlfhmD9tED-)\n",
        "\n",
        ">>>[Cross validation and Generalisation](#scrollTo=KpjY8k_64kjT)\n",
        "\n",
        ">[Part 2 - Optimization algorithms, learning rate schedulers, and hyperparameter tunning](#scrollTo=5HNpEM4DnMNe)\n",
        "\n",
        ">[Appendix](#scrollTo=8dmPgHGhH8oU)\n",
        "\n",
        ">>[References](#scrollTo=d6YYbpyXpqib)\n",
        "\n",
        ">[Feedback](#scrollTo=o1ndpYE50BpG)\n",
        "\n",
        "**Note:** To get the most out of this tutorial, try answering the questions, quizzes, and code tasks on your own before checking the solutions. Actively working through them is the most effective way to learn.\n",
        "\n",
        "**Before you start:**\n",
        "\n",
        "Run the \"Installation and Imports\" cell below."
      ]
    },
    {
      "cell_type": "markdown",
      "metadata": {
        "id": "Ua49uaQKFSGQ"
      },
      "source": [
        "### Installation and Imports"
      ]
    },
    {
      "cell_type": "code",
      "execution_count": 1,
      "metadata": {
        "collapsed": true,
        "id": "spIesIEZFVH1",
        "outputId": "870bef8b-300d-4d7a-ed44-6cfc17cd025b",
        "colab": {
          "base_uri": "https://localhost:8080/"
        }
      },
      "outputs": [
        {
          "output_type": "stream",
          "name": "stdout",
          "text": [
            "\u001b[?25l   \u001b[90m━━━━━━━━━━━━━━━━━━━━━━━━━━━━━━━━━━━━━━━━\u001b[0m \u001b[32m0.0/101.8 kB\u001b[0m \u001b[31m?\u001b[0m eta \u001b[36m-:--:--\u001b[0m\r\u001b[2K   \u001b[90m━━━━━━━━━━━━━━━━━━━━━━━━━━━━━━━━━━━━━━━━\u001b[0m \u001b[32m101.8/101.8 kB\u001b[0m \u001b[31m5.1 MB/s\u001b[0m eta \u001b[36m0:00:00\u001b[0m\n",
            "\u001b[?25h\u001b[?25l   \u001b[90m━━━━━━━━━━━━━━━━━━━━━━━━━━━━━━━━━━━━━━━━\u001b[0m \u001b[32m0.0/76.7 kB\u001b[0m \u001b[31m?\u001b[0m eta \u001b[36m-:--:--\u001b[0m\r\u001b[2K   \u001b[90m━━━━━━━━━━━━━━━━━━━━━━━━━━━━━━━━━━━━━━━━\u001b[0m \u001b[32m76.7/76.7 kB\u001b[0m \u001b[31m5.2 MB/s\u001b[0m eta \u001b[36m0:00:00\u001b[0m\n",
            "\u001b[?25h"
          ]
        }
      ],
      "source": [
        "!pip install jax flax optax clu --quiet\n",
        "\n",
        "import numpy as np\n",
        "import random\n",
        "import matplotlib.pyplot as plt\n",
        "from flax import nnx\n",
        "import jax\n",
        "import jax.numpy as jnp\n",
        "import pandas as pd\n",
        "import copy\n",
        "import math\n",
        "from matplotlib import cm\n",
        "import tensorflow as tf\n",
        "import optax\n",
        "import flax\n",
        "from clu import metrics\n",
        "from flax import struct\n",
        "import flax.linen as nn\n",
        "import tensorflow_datasets as tfds\n",
        "from sklearn.model_selection import train_test_split"
      ]
    },
    {
      "cell_type": "markdown",
      "metadata": {
        "id": "QeUWtf7PtE-K"
      },
      "source": [
        "### Helper functions (Run Cell)"
      ]
    },
    {
      "cell_type": "code",
      "execution_count": 2,
      "metadata": {
        "id": "925nZyXLtLBV"
      },
      "outputs": [],
      "source": [
        "from IPython.display import clear_output\n",
        "from flax.core import freeze, unfreeze\n",
        "\n",
        "@struct.dataclass\n",
        "class TrainMetrics(metrics.Collection):\n",
        "  loss: metrics.Average.from_output('loss')\n",
        "\n",
        "@struct.dataclass\n",
        "class EvalMetrics(metrics.Collection):\n",
        "  loss: metrics.Average.from_output('loss')\n",
        "\n",
        "def train_step(params, model, optimizer, opt_state, loss_grad_fn, metrics, batch):\n",
        "  \"\"\"Train for a single step.\"\"\"\n",
        "  (loss, logits), grads = loss_grad_fn(params, model, batch)\n",
        "  updates, opt_state = optimizer.update(grads, opt_state)\n",
        "  params = optax.apply_updates(params, updates)\n",
        "  labels = batch[1].astype(jnp.int32)\n",
        "  metric_updates = TrainMetrics.single_from_model_output(\n",
        "    logits=logits, labels=labels, loss=loss)\n",
        "\n",
        "  metrics = metrics.merge(metric_updates)\n",
        "  return params, opt_state, metrics\n",
        "\n",
        "def eval_step(params, model, loss_fn, metrics, batch):\n",
        "  loss, logits = loss_fn(params, model, batch)\n",
        "  labels = batch[1].astype(jnp.int32)\n",
        "  metric_updates = EvalMetrics.single_from_model_output(\n",
        "    logits=logits, labels=labels, loss=loss)\n",
        "\n",
        "  metrics = metrics.merge(metric_updates)\n",
        "  return metrics\n",
        "\n",
        "\n",
        "def train(\n",
        "    epochs, params, model, optimizer, opt_state, loss_grad_fn,\n",
        "    loss_fn, train_ds, test_ds, metrics_history,\n",
        "  ):\n",
        "\n",
        "  for i in range(epochs):\n",
        "    train_metrics = TrainMetrics.empty()\n",
        "    for step, batch in enumerate(train_ds.as_numpy_iterator()):\n",
        "      params, opt_state, train_metrics = train_step(params, model, optimizer, opt_state, loss_grad_fn, train_metrics, batch)\n",
        "\n",
        "    for metric, value in train_metrics.compute().items():\n",
        "      metrics_history[f\"train_{metric}\"].append(value)\n",
        "\n",
        "    eval_metrics = EvalMetrics.empty()\n",
        "    for step, batch in enumerate(test_ds.as_numpy_iterator()):\n",
        "      eval_metrics = eval_step(params, model, loss_fn, eval_metrics, batch)\n",
        "\n",
        "    for metric, value in eval_metrics.compute().items():\n",
        "      metrics_history[f\"test_{metric}\"].append(value)\n",
        "\n",
        "  clear_output(wait=True)\n",
        "  # Plot loss and accuracy in subplots\n",
        "  fig, ax = plt.subplots(figsize=(7, 5))\n",
        "  ax.set_title('Loss')\n",
        "  for dataset in ('train', 'test'):\n",
        "    ax.plot(metrics_history[f'{dataset}_loss'], label=f'{dataset}')\n",
        "  ax.legend()\n",
        "  plt.show()\n",
        "\n",
        "  return params, opt_state, metrics_history\n",
        "\n",
        "\n",
        "# Recursively print all parameter names and their shapes\n",
        "def print_param_shapes(params, prefix=\"\"):\n",
        "    for key, val in params.items():\n",
        "        if isinstance(val, dict):\n",
        "            print_param_shapes(val, prefix=f\"{prefix}{key}/\")\n",
        "        else:\n",
        "            print(f\"{prefix}{key}: shape={val.shape}\")"
      ]
    },
    {
      "cell_type": "markdown",
      "metadata": {
        "id": "zHc7_PbomVIN"
      },
      "source": [
        "## Evaluation and Generalization"
      ]
    },
    {
      "cell_type": "markdown",
      "metadata": {
        "id": "nHCa0Tj-0_ZC"
      },
      "source": [
        "### Model Evaluation\n",
        "\n",
        "In simple terms:  \n",
        "- **Evaluation** tells us how well our model is performing on a given dataset.  \n",
        "- **Generalization** tells us how well the model can perform on data it has never seen before.  \n",
        "\n",
        "Our goal is not just to build a model that performs well on the **training data**, but one that learns the **underlying patterns in the data**.  \n",
        "This way, it can make good predictions on **unseen examples** — and even handle slightly different (out-of-distribution) cases.\n"
      ]
    },
    {
      "cell_type": "markdown",
      "metadata": {
        "id": "VnKyBQeS7auc"
      },
      "source": [
        "#### **Breast cancer classification**\n",
        "For this section, we will revisit the breast cancer classification task from Part 2 of the practicals. Here will pay more attention and focus on the performance of our model.\n",
        "\n",
        "Let's load the data"
      ]
    },
    {
      "cell_type": "code",
      "execution_count": 3,
      "metadata": {
        "id": "FERV5Vp292GA",
        "outputId": "adca4aee-86f0-4099-cf98-2ce2c5e54255",
        "colab": {
          "base_uri": "https://localhost:8080/",
          "height": 290
        }
      },
      "outputs": [
        {
          "output_type": "execute_result",
          "data": {
            "text/plain": [
              "   mean radius  mean texture  mean perimeter  mean area  mean smoothness  \\\n",
              "0        17.99         10.38          122.80     1001.0          0.11840   \n",
              "1        20.57         17.77          132.90     1326.0          0.08474   \n",
              "2        19.69         21.25          130.00     1203.0          0.10960   \n",
              "3        11.42         20.38           77.58      386.1          0.14250   \n",
              "4        20.29         14.34          135.10     1297.0          0.10030   \n",
              "\n",
              "   mean compactness  mean concavity  mean concave points  mean symmetry  \\\n",
              "0           0.27760          0.3001              0.14710         0.2419   \n",
              "1           0.07864          0.0869              0.07017         0.1812   \n",
              "2           0.15990          0.1974              0.12790         0.2069   \n",
              "3           0.28390          0.2414              0.10520         0.2597   \n",
              "4           0.13280          0.1980              0.10430         0.1809   \n",
              "\n",
              "   mean fractal dimension  ...  worst texture  worst perimeter  worst area  \\\n",
              "0                 0.07871  ...          17.33           184.60      2019.0   \n",
              "1                 0.05667  ...          23.41           158.80      1956.0   \n",
              "2                 0.05999  ...          25.53           152.50      1709.0   \n",
              "3                 0.09744  ...          26.50            98.87       567.7   \n",
              "4                 0.05883  ...          16.67           152.20      1575.0   \n",
              "\n",
              "   worst smoothness  worst compactness  worst concavity  worst concave points  \\\n",
              "0            0.1622             0.6656           0.7119                0.2654   \n",
              "1            0.1238             0.1866           0.2416                0.1860   \n",
              "2            0.1444             0.4245           0.4504                0.2430   \n",
              "3            0.2098             0.8663           0.6869                0.2575   \n",
              "4            0.1374             0.2050           0.4000                0.1625   \n",
              "\n",
              "   worst symmetry  worst fractal dimension  target  \n",
              "0          0.4601                  0.11890       1  \n",
              "1          0.2750                  0.08902       1  \n",
              "2          0.3613                  0.08758       1  \n",
              "3          0.6638                  0.17300       1  \n",
              "4          0.2364                  0.07678       1  \n",
              "\n",
              "[5 rows x 31 columns]"
            ],
            "text/html": [
              "\n",
              "  <div id=\"df-23ff1768-5b8f-4315-a7af-c7b34b7f4323\" class=\"colab-df-container\">\n",
              "    <div>\n",
              "<style scoped>\n",
              "    .dataframe tbody tr th:only-of-type {\n",
              "        vertical-align: middle;\n",
              "    }\n",
              "\n",
              "    .dataframe tbody tr th {\n",
              "        vertical-align: top;\n",
              "    }\n",
              "\n",
              "    .dataframe thead th {\n",
              "        text-align: right;\n",
              "    }\n",
              "</style>\n",
              "<table border=\"1\" class=\"dataframe\">\n",
              "  <thead>\n",
              "    <tr style=\"text-align: right;\">\n",
              "      <th></th>\n",
              "      <th>mean radius</th>\n",
              "      <th>mean texture</th>\n",
              "      <th>mean perimeter</th>\n",
              "      <th>mean area</th>\n",
              "      <th>mean smoothness</th>\n",
              "      <th>mean compactness</th>\n",
              "      <th>mean concavity</th>\n",
              "      <th>mean concave points</th>\n",
              "      <th>mean symmetry</th>\n",
              "      <th>mean fractal dimension</th>\n",
              "      <th>...</th>\n",
              "      <th>worst texture</th>\n",
              "      <th>worst perimeter</th>\n",
              "      <th>worst area</th>\n",
              "      <th>worst smoothness</th>\n",
              "      <th>worst compactness</th>\n",
              "      <th>worst concavity</th>\n",
              "      <th>worst concave points</th>\n",
              "      <th>worst symmetry</th>\n",
              "      <th>worst fractal dimension</th>\n",
              "      <th>target</th>\n",
              "    </tr>\n",
              "  </thead>\n",
              "  <tbody>\n",
              "    <tr>\n",
              "      <th>0</th>\n",
              "      <td>17.99</td>\n",
              "      <td>10.38</td>\n",
              "      <td>122.80</td>\n",
              "      <td>1001.0</td>\n",
              "      <td>0.11840</td>\n",
              "      <td>0.27760</td>\n",
              "      <td>0.3001</td>\n",
              "      <td>0.14710</td>\n",
              "      <td>0.2419</td>\n",
              "      <td>0.07871</td>\n",
              "      <td>...</td>\n",
              "      <td>17.33</td>\n",
              "      <td>184.60</td>\n",
              "      <td>2019.0</td>\n",
              "      <td>0.1622</td>\n",
              "      <td>0.6656</td>\n",
              "      <td>0.7119</td>\n",
              "      <td>0.2654</td>\n",
              "      <td>0.4601</td>\n",
              "      <td>0.11890</td>\n",
              "      <td>1</td>\n",
              "    </tr>\n",
              "    <tr>\n",
              "      <th>1</th>\n",
              "      <td>20.57</td>\n",
              "      <td>17.77</td>\n",
              "      <td>132.90</td>\n",
              "      <td>1326.0</td>\n",
              "      <td>0.08474</td>\n",
              "      <td>0.07864</td>\n",
              "      <td>0.0869</td>\n",
              "      <td>0.07017</td>\n",
              "      <td>0.1812</td>\n",
              "      <td>0.05667</td>\n",
              "      <td>...</td>\n",
              "      <td>23.41</td>\n",
              "      <td>158.80</td>\n",
              "      <td>1956.0</td>\n",
              "      <td>0.1238</td>\n",
              "      <td>0.1866</td>\n",
              "      <td>0.2416</td>\n",
              "      <td>0.1860</td>\n",
              "      <td>0.2750</td>\n",
              "      <td>0.08902</td>\n",
              "      <td>1</td>\n",
              "    </tr>\n",
              "    <tr>\n",
              "      <th>2</th>\n",
              "      <td>19.69</td>\n",
              "      <td>21.25</td>\n",
              "      <td>130.00</td>\n",
              "      <td>1203.0</td>\n",
              "      <td>0.10960</td>\n",
              "      <td>0.15990</td>\n",
              "      <td>0.1974</td>\n",
              "      <td>0.12790</td>\n",
              "      <td>0.2069</td>\n",
              "      <td>0.05999</td>\n",
              "      <td>...</td>\n",
              "      <td>25.53</td>\n",
              "      <td>152.50</td>\n",
              "      <td>1709.0</td>\n",
              "      <td>0.1444</td>\n",
              "      <td>0.4245</td>\n",
              "      <td>0.4504</td>\n",
              "      <td>0.2430</td>\n",
              "      <td>0.3613</td>\n",
              "      <td>0.08758</td>\n",
              "      <td>1</td>\n",
              "    </tr>\n",
              "    <tr>\n",
              "      <th>3</th>\n",
              "      <td>11.42</td>\n",
              "      <td>20.38</td>\n",
              "      <td>77.58</td>\n",
              "      <td>386.1</td>\n",
              "      <td>0.14250</td>\n",
              "      <td>0.28390</td>\n",
              "      <td>0.2414</td>\n",
              "      <td>0.10520</td>\n",
              "      <td>0.2597</td>\n",
              "      <td>0.09744</td>\n",
              "      <td>...</td>\n",
              "      <td>26.50</td>\n",
              "      <td>98.87</td>\n",
              "      <td>567.7</td>\n",
              "      <td>0.2098</td>\n",
              "      <td>0.8663</td>\n",
              "      <td>0.6869</td>\n",
              "      <td>0.2575</td>\n",
              "      <td>0.6638</td>\n",
              "      <td>0.17300</td>\n",
              "      <td>1</td>\n",
              "    </tr>\n",
              "    <tr>\n",
              "      <th>4</th>\n",
              "      <td>20.29</td>\n",
              "      <td>14.34</td>\n",
              "      <td>135.10</td>\n",
              "      <td>1297.0</td>\n",
              "      <td>0.10030</td>\n",
              "      <td>0.13280</td>\n",
              "      <td>0.1980</td>\n",
              "      <td>0.10430</td>\n",
              "      <td>0.1809</td>\n",
              "      <td>0.05883</td>\n",
              "      <td>...</td>\n",
              "      <td>16.67</td>\n",
              "      <td>152.20</td>\n",
              "      <td>1575.0</td>\n",
              "      <td>0.1374</td>\n",
              "      <td>0.2050</td>\n",
              "      <td>0.4000</td>\n",
              "      <td>0.1625</td>\n",
              "      <td>0.2364</td>\n",
              "      <td>0.07678</td>\n",
              "      <td>1</td>\n",
              "    </tr>\n",
              "  </tbody>\n",
              "</table>\n",
              "<p>5 rows × 31 columns</p>\n",
              "</div>\n",
              "    <div class=\"colab-df-buttons\">\n",
              "\n",
              "  <div class=\"colab-df-container\">\n",
              "    <button class=\"colab-df-convert\" onclick=\"convertToInteractive('df-23ff1768-5b8f-4315-a7af-c7b34b7f4323')\"\n",
              "            title=\"Convert this dataframe to an interactive table.\"\n",
              "            style=\"display:none;\">\n",
              "\n",
              "  <svg xmlns=\"http://www.w3.org/2000/svg\" height=\"24px\" viewBox=\"0 -960 960 960\">\n",
              "    <path d=\"M120-120v-720h720v720H120Zm60-500h600v-160H180v160Zm220 220h160v-160H400v160Zm0 220h160v-160H400v160ZM180-400h160v-160H180v160Zm440 0h160v-160H620v160ZM180-180h160v-160H180v160Zm440 0h160v-160H620v160Z\"/>\n",
              "  </svg>\n",
              "    </button>\n",
              "\n",
              "  <style>\n",
              "    .colab-df-container {\n",
              "      display:flex;\n",
              "      gap: 12px;\n",
              "    }\n",
              "\n",
              "    .colab-df-convert {\n",
              "      background-color: #E8F0FE;\n",
              "      border: none;\n",
              "      border-radius: 50%;\n",
              "      cursor: pointer;\n",
              "      display: none;\n",
              "      fill: #1967D2;\n",
              "      height: 32px;\n",
              "      padding: 0 0 0 0;\n",
              "      width: 32px;\n",
              "    }\n",
              "\n",
              "    .colab-df-convert:hover {\n",
              "      background-color: #E2EBFA;\n",
              "      box-shadow: 0px 1px 2px rgba(60, 64, 67, 0.3), 0px 1px 3px 1px rgba(60, 64, 67, 0.15);\n",
              "      fill: #174EA6;\n",
              "    }\n",
              "\n",
              "    .colab-df-buttons div {\n",
              "      margin-bottom: 4px;\n",
              "    }\n",
              "\n",
              "    [theme=dark] .colab-df-convert {\n",
              "      background-color: #3B4455;\n",
              "      fill: #D2E3FC;\n",
              "    }\n",
              "\n",
              "    [theme=dark] .colab-df-convert:hover {\n",
              "      background-color: #434B5C;\n",
              "      box-shadow: 0px 1px 3px 1px rgba(0, 0, 0, 0.15);\n",
              "      filter: drop-shadow(0px 1px 2px rgba(0, 0, 0, 0.3));\n",
              "      fill: #FFFFFF;\n",
              "    }\n",
              "  </style>\n",
              "\n",
              "    <script>\n",
              "      const buttonEl =\n",
              "        document.querySelector('#df-23ff1768-5b8f-4315-a7af-c7b34b7f4323 button.colab-df-convert');\n",
              "      buttonEl.style.display =\n",
              "        google.colab.kernel.accessAllowed ? 'block' : 'none';\n",
              "\n",
              "      async function convertToInteractive(key) {\n",
              "        const element = document.querySelector('#df-23ff1768-5b8f-4315-a7af-c7b34b7f4323');\n",
              "        const dataTable =\n",
              "          await google.colab.kernel.invokeFunction('convertToInteractive',\n",
              "                                                    [key], {});\n",
              "        if (!dataTable) return;\n",
              "\n",
              "        const docLinkHtml = 'Like what you see? Visit the ' +\n",
              "          '<a target=\"_blank\" href=https://colab.research.google.com/notebooks/data_table.ipynb>data table notebook</a>'\n",
              "          + ' to learn more about interactive tables.';\n",
              "        element.innerHTML = '';\n",
              "        dataTable['output_type'] = 'display_data';\n",
              "        await google.colab.output.renderOutput(dataTable, element);\n",
              "        const docLink = document.createElement('div');\n",
              "        docLink.innerHTML = docLinkHtml;\n",
              "        element.appendChild(docLink);\n",
              "      }\n",
              "    </script>\n",
              "  </div>\n",
              "\n",
              "\n",
              "    <div id=\"df-bb027e71-c11b-4a8d-a3dd-26cbe1424845\">\n",
              "      <button class=\"colab-df-quickchart\" onclick=\"quickchart('df-bb027e71-c11b-4a8d-a3dd-26cbe1424845')\"\n",
              "                title=\"Suggest charts\"\n",
              "                style=\"display:none;\">\n",
              "\n",
              "<svg xmlns=\"http://www.w3.org/2000/svg\" height=\"24px\"viewBox=\"0 0 24 24\"\n",
              "     width=\"24px\">\n",
              "    <g>\n",
              "        <path d=\"M19 3H5c-1.1 0-2 .9-2 2v14c0 1.1.9 2 2 2h14c1.1 0 2-.9 2-2V5c0-1.1-.9-2-2-2zM9 17H7v-7h2v7zm4 0h-2V7h2v10zm4 0h-2v-4h2v4z\"/>\n",
              "    </g>\n",
              "</svg>\n",
              "      </button>\n",
              "\n",
              "<style>\n",
              "  .colab-df-quickchart {\n",
              "      --bg-color: #E8F0FE;\n",
              "      --fill-color: #1967D2;\n",
              "      --hover-bg-color: #E2EBFA;\n",
              "      --hover-fill-color: #174EA6;\n",
              "      --disabled-fill-color: #AAA;\n",
              "      --disabled-bg-color: #DDD;\n",
              "  }\n",
              "\n",
              "  [theme=dark] .colab-df-quickchart {\n",
              "      --bg-color: #3B4455;\n",
              "      --fill-color: #D2E3FC;\n",
              "      --hover-bg-color: #434B5C;\n",
              "      --hover-fill-color: #FFFFFF;\n",
              "      --disabled-bg-color: #3B4455;\n",
              "      --disabled-fill-color: #666;\n",
              "  }\n",
              "\n",
              "  .colab-df-quickchart {\n",
              "    background-color: var(--bg-color);\n",
              "    border: none;\n",
              "    border-radius: 50%;\n",
              "    cursor: pointer;\n",
              "    display: none;\n",
              "    fill: var(--fill-color);\n",
              "    height: 32px;\n",
              "    padding: 0;\n",
              "    width: 32px;\n",
              "  }\n",
              "\n",
              "  .colab-df-quickchart:hover {\n",
              "    background-color: var(--hover-bg-color);\n",
              "    box-shadow: 0 1px 2px rgba(60, 64, 67, 0.3), 0 1px 3px 1px rgba(60, 64, 67, 0.15);\n",
              "    fill: var(--button-hover-fill-color);\n",
              "  }\n",
              "\n",
              "  .colab-df-quickchart-complete:disabled,\n",
              "  .colab-df-quickchart-complete:disabled:hover {\n",
              "    background-color: var(--disabled-bg-color);\n",
              "    fill: var(--disabled-fill-color);\n",
              "    box-shadow: none;\n",
              "  }\n",
              "\n",
              "  .colab-df-spinner {\n",
              "    border: 2px solid var(--fill-color);\n",
              "    border-color: transparent;\n",
              "    border-bottom-color: var(--fill-color);\n",
              "    animation:\n",
              "      spin 1s steps(1) infinite;\n",
              "  }\n",
              "\n",
              "  @keyframes spin {\n",
              "    0% {\n",
              "      border-color: transparent;\n",
              "      border-bottom-color: var(--fill-color);\n",
              "      border-left-color: var(--fill-color);\n",
              "    }\n",
              "    20% {\n",
              "      border-color: transparent;\n",
              "      border-left-color: var(--fill-color);\n",
              "      border-top-color: var(--fill-color);\n",
              "    }\n",
              "    30% {\n",
              "      border-color: transparent;\n",
              "      border-left-color: var(--fill-color);\n",
              "      border-top-color: var(--fill-color);\n",
              "      border-right-color: var(--fill-color);\n",
              "    }\n",
              "    40% {\n",
              "      border-color: transparent;\n",
              "      border-right-color: var(--fill-color);\n",
              "      border-top-color: var(--fill-color);\n",
              "    }\n",
              "    60% {\n",
              "      border-color: transparent;\n",
              "      border-right-color: var(--fill-color);\n",
              "    }\n",
              "    80% {\n",
              "      border-color: transparent;\n",
              "      border-right-color: var(--fill-color);\n",
              "      border-bottom-color: var(--fill-color);\n",
              "    }\n",
              "    90% {\n",
              "      border-color: transparent;\n",
              "      border-bottom-color: var(--fill-color);\n",
              "    }\n",
              "  }\n",
              "</style>\n",
              "\n",
              "      <script>\n",
              "        async function quickchart(key) {\n",
              "          const quickchartButtonEl =\n",
              "            document.querySelector('#' + key + ' button');\n",
              "          quickchartButtonEl.disabled = true;  // To prevent multiple clicks.\n",
              "          quickchartButtonEl.classList.add('colab-df-spinner');\n",
              "          try {\n",
              "            const charts = await google.colab.kernel.invokeFunction(\n",
              "                'suggestCharts', [key], {});\n",
              "          } catch (error) {\n",
              "            console.error('Error during call to suggestCharts:', error);\n",
              "          }\n",
              "          quickchartButtonEl.classList.remove('colab-df-spinner');\n",
              "          quickchartButtonEl.classList.add('colab-df-quickchart-complete');\n",
              "        }\n",
              "        (() => {\n",
              "          let quickchartButtonEl =\n",
              "            document.querySelector('#df-bb027e71-c11b-4a8d-a3dd-26cbe1424845 button');\n",
              "          quickchartButtonEl.style.display =\n",
              "            google.colab.kernel.accessAllowed ? 'block' : 'none';\n",
              "        })();\n",
              "      </script>\n",
              "    </div>\n",
              "\n",
              "    </div>\n",
              "  </div>\n"
            ],
            "application/vnd.google.colaboratory.intrinsic+json": {
              "type": "dataframe",
              "variable_name": "df"
            }
          },
          "metadata": {},
          "execution_count": 3
        }
      ],
      "source": [
        "from sklearn.datasets import load_breast_cancer\n",
        "\n",
        "# Load breast cancer dataset from sklearn\n",
        "data = load_breast_cancer()\n",
        "\n",
        "# Convert the dataset to a pandas DataFrame\n",
        "df = pd.DataFrame(data.data, columns=data.feature_names)\n",
        "\n",
        "# Add the target variable to the DataFrame\n",
        "# We reverse here because sklearn stores \"Malignant\" which is cancerous as 0\n",
        "# and Benign non cancerous as 1\n",
        "df['target'] = 1 - data.target\n",
        "df.head()"
      ]
    },
    {
      "cell_type": "code",
      "execution_count": 4,
      "metadata": {
        "id": "4pNjSOHj__xP",
        "outputId": "16f0189a-1e8f-41d1-ae85-29a085fcee98",
        "colab": {
          "base_uri": "https://localhost:8080/"
        }
      },
      "outputs": [
        {
          "output_type": "stream",
          "name": "stdout",
          "text": [
            "<class 'pandas.core.frame.DataFrame'>\n",
            "RangeIndex: 569 entries, 0 to 568\n",
            "Data columns (total 31 columns):\n",
            " #   Column                   Non-Null Count  Dtype  \n",
            "---  ------                   --------------  -----  \n",
            " 0   mean radius              569 non-null    float64\n",
            " 1   mean texture             569 non-null    float64\n",
            " 2   mean perimeter           569 non-null    float64\n",
            " 3   mean area                569 non-null    float64\n",
            " 4   mean smoothness          569 non-null    float64\n",
            " 5   mean compactness         569 non-null    float64\n",
            " 6   mean concavity           569 non-null    float64\n",
            " 7   mean concave points      569 non-null    float64\n",
            " 8   mean symmetry            569 non-null    float64\n",
            " 9   mean fractal dimension   569 non-null    float64\n",
            " 10  radius error             569 non-null    float64\n",
            " 11  texture error            569 non-null    float64\n",
            " 12  perimeter error          569 non-null    float64\n",
            " 13  area error               569 non-null    float64\n",
            " 14  smoothness error         569 non-null    float64\n",
            " 15  compactness error        569 non-null    float64\n",
            " 16  concavity error          569 non-null    float64\n",
            " 17  concave points error     569 non-null    float64\n",
            " 18  symmetry error           569 non-null    float64\n",
            " 19  fractal dimension error  569 non-null    float64\n",
            " 20  worst radius             569 non-null    float64\n",
            " 21  worst texture            569 non-null    float64\n",
            " 22  worst perimeter          569 non-null    float64\n",
            " 23  worst area               569 non-null    float64\n",
            " 24  worst smoothness         569 non-null    float64\n",
            " 25  worst compactness        569 non-null    float64\n",
            " 26  worst concavity          569 non-null    float64\n",
            " 27  worst concave points     569 non-null    float64\n",
            " 28  worst symmetry           569 non-null    float64\n",
            " 29  worst fractal dimension  569 non-null    float64\n",
            " 30  target                   569 non-null    int64  \n",
            "dtypes: float64(30), int64(1)\n",
            "memory usage: 137.9 KB\n"
          ]
        }
      ],
      "source": [
        "df.info()"
      ]
    },
    {
      "cell_type": "code",
      "execution_count": 5,
      "metadata": {
        "id": "PNfS8AKF_ZNw",
        "outputId": "8b7db9fb-2c51-4885-8be8-021d6eb166e0",
        "colab": {
          "base_uri": "https://localhost:8080/"
        }
      },
      "outputs": [
        {
          "output_type": "stream",
          "name": "stdout",
          "text": [
            "Counts:\n",
            " target\n",
            "0    357\n",
            "1    212\n",
            "Name: count, dtype: int64\n",
            "\n",
            "Proportions:\n",
            " target\n",
            "0    0.627417\n",
            "1    0.372583\n",
            "Name: proportion, dtype: float64\n"
          ]
        }
      ],
      "source": [
        "# Check the proportion of 1s and 0s\n",
        "proportion = df[\"target\"].value_counts(normalize=True)\n",
        "\n",
        "print(\"Counts:\\n\", df[\"target\"].value_counts())\n",
        "print(\"\\nProportions:\\n\", proportion)"
      ]
    },
    {
      "cell_type": "markdown",
      "metadata": {
        "id": "e91oMWDIDgNu"
      },
      "source": [
        "🤔 **Pause and reflect:** If we look at the proportions of our labels more then 62% belong to one class. How do you think this can affect the performance of our model?"
      ]
    },
    {
      "cell_type": "code",
      "execution_count": 6,
      "metadata": {
        "id": "7-HYCrzHGJ_G",
        "outputId": "976c4ea0-1e57-4c91-97ad-cf81c0b96fef",
        "colab": {
          "base_uri": "https://localhost:8080/"
        }
      },
      "outputs": [
        {
          "output_type": "stream",
          "name": "stdout",
          "text": [
            "training data input shape (455, 30)\n",
            "training target shape (455,)\n"
          ]
        }
      ],
      "source": [
        "# split dataset into test and train\n",
        "train_set, test_set = train_test_split(df, test_size=0.2, random_state=42, stratify=df[\"target\"])\n",
        "\n",
        "# split each set into input and target\n",
        "y_train = train_set.pop('target').astype(np.int32)\n",
        "x_train = train_set\n",
        "\n",
        "y_test = test_set.pop('target').astype(np.int32)\n",
        "x_test = test_set\n",
        "\n",
        "print(f\"training data input shape {x_train.shape}\")\n",
        "print(f\"training target shape {y_train.shape}\")\n",
        "\n",
        "train_dataset = tf.data.Dataset.from_tensor_slices((x_train, y_train))\n",
        "test_dataset = tf.data.Dataset.from_tensor_slices((x_test, y_test))"
      ]
    },
    {
      "cell_type": "markdown",
      "metadata": {
        "id": "0hGvJgQCIDV7"
      },
      "source": [
        "Before diving into different evaluation metrics let implement and train a model with out datasets. The [helper function](#scrollTo=QeUWtf7PtE-K) contain the training loop function we will use.\n",
        "\n",
        "💻 Code Task: Train a Multi-Layer Perceptron (MLP) Binary Classifier\n",
        "\n",
        "Your goal is to complete the definition of an MLP model using Flax’s Linen API. This model will take input features from a tumor dataset and output a single logit representing whether the tumor is malignant or benign (binary classification).\n",
        "\n",
        "You'll implement the model by completing the __call__ method of the MLP class.\n",
        "\n",
        "1. Architecture\n",
        "\n",
        "   - Design your own architecture using activation functions we learned previously.\n",
        "   - The input to your MLP should be a list of hidden layers. Previously we passed each hidden layer separately\n",
        "\n",
        "2. Implement the loss function.\n",
        "\n",
        "   - Use the binary cross entropy loss.\n",
        "\n",
        "3.  Call the training loop."
      ]
    },
    {
      "cell_type": "code",
      "execution_count": 7,
      "metadata": {
        "id": "RfGamgULOjtH",
        "outputId": "fb25b918-ba1e-45fd-d947-8d837f22145d",
        "colab": {
          "base_uri": "https://localhost:8080/",
          "height": 106
        }
      },
      "outputs": [
        {
          "output_type": "error",
          "ename": "SyntaxError",
          "evalue": "invalid syntax (ipython-input-130989218.py, line 12)",
          "traceback": [
            "\u001b[0;36m  File \u001b[0;32m\"/tmp/ipython-input-130989218.py\"\u001b[0;36m, line \u001b[0;32m12\u001b[0m\n\u001b[0;31m    for size ... # update me\u001b[0m\n\u001b[0m             ^\u001b[0m\n\u001b[0;31mSyntaxError\u001b[0m\u001b[0;31m:\u001b[0m invalid syntax\n"
          ]
        }
      ],
      "source": [
        "import flax.linen as nn\n",
        "\n",
        "class MLP(nn.Module):\n",
        "\n",
        "  layer_sizes: list  # e.g., [64, 32, 10, 1] (hidden layers + output layer)\n",
        "\n",
        "  @nn.compact\n",
        "  def __call__(self, x):\n",
        "\n",
        "    # Implement the various hidden layers with your choosen activation function\n",
        "    # Hint: loop through all the hidden layers first. Then implement the output layer out of the loop.\n",
        "    for size ... # update me\n",
        "      x =  ... # update me\n",
        "\n",
        "\n",
        "\n",
        "    # Output layer\n",
        "    x = ... # update me\n",
        "\n",
        "\n",
        "    return x"
      ]
    },
    {
      "cell_type": "code",
      "execution_count": 8,
      "metadata": {
        "id": "repTv7GKO7ph"
      },
      "outputs": [],
      "source": [
        "# @title 🔓Solution - MLP in Jax(Try not to peek until you've given it a good try!')\n",
        "class MLP(nn.Module):\n",
        "  layer_sizes: list  # e.g., [64, 32, 10, 1] (hidden layers + output layer)\n",
        "\n",
        "  @nn.compact\n",
        "  def __call__(self, x):\n",
        "      # Apply all hidden layers with GeLU\n",
        "      for size in self.layer_sizes[:-1]:\n",
        "          x = nn.Dense(size)(x)\n",
        "          x = nn.gelu(x)\n",
        "\n",
        "      # Output layer (no activation)\n",
        "      x = nn.Dense(self.layer_sizes[-1])(x)\n",
        "      return x"
      ]
    },
    {
      "cell_type": "code",
      "execution_count": 9,
      "metadata": {
        "id": "5HxL_A01PXjC"
      },
      "outputs": [],
      "source": [
        "\n",
        "def get_model_and_optimizer(input_size, output_sizes=None, seed=32, lr=1e-3):\n",
        "  # Helper function to quickly initialise MLP models\n",
        "  # output sizes is list of different output layer e.g. [10,10,1]\n",
        "  # the final value in the output size should be 1 since this what we want for our MLP\n",
        "\n",
        "  model = MLP(output_sizes)\n",
        "\n",
        "  key = jax.random.PRNGKey(seed)\n",
        "\n",
        "  dummy_data = jnp.zeros((1, input_size), dtype=float)\n",
        "\n",
        "\n",
        "  params = model.init(key, dummy_data)\n",
        "\n",
        "  # Print model parameters\n",
        "  print_param_shapes(params['params'])\n",
        "\n",
        "  optimizer = optax.adam(learning_rate=lr)\n",
        "  opt_state = optimizer.init(params)\n",
        "\n",
        "  return model, params, optimizer, opt_state\n"
      ]
    },
    {
      "cell_type": "code",
      "execution_count": 10,
      "metadata": {
        "id": "Ya7pPg98ULMQ"
      },
      "outputs": [],
      "source": [
        "def loss_func(params, model, batch):\n",
        "  \"\"\"Compute the sigmoid binary cross-entropy loss and return logits.\"\"\"\n",
        "\n",
        "  # Extract inputs and labels from batch\n",
        "\n",
        "  # Calculate the logits\n",
        "\n",
        "  labels = jnp.reshape(labels, logits.shape) # Reshape the labels to match the shape of the logits.\n",
        "\n",
        "  # Compute binary cross-entropy loss\n",
        "\n",
        "  return loss, logits\n",
        "\n",
        "# Calculate gradients on loss here\n",
        "loss_grad_fn = ..."
      ]
    },
    {
      "cell_type": "code",
      "execution_count": 11,
      "metadata": {
        "cellView": "form",
        "id": "mtSSxHhiUg93"
      },
      "outputs": [],
      "source": [
        "# @title 🔓Solution - loss and grads computations (Try not to peek until you've given it a good try!')\n",
        "def loss_func(params, model, batch):\n",
        "  # Your code here\n",
        "  inputs = batch[0]\n",
        "  labels = batch[1]\n",
        "\n",
        "  logits = model.apply(params, inputs)\n",
        "  labels = jnp.reshape(labels, logits.shape)\n",
        "  loss = optax.sigmoid_binary_cross_entropy(\n",
        "      logits=logits, labels=labels\n",
        "  ).mean()\n",
        "  return loss, logits\n",
        "\n",
        "# Calculate gradients on loss here\n",
        "loss_grad_fn = jax.value_and_grad(loss_func, has_aux=True)"
      ]
    },
    {
      "cell_type": "code",
      "execution_count": 12,
      "metadata": {
        "id": "OJ3U2LKZXcQS",
        "outputId": "56d6eb54-e69b-4ae7-90cd-e4d5027f96a7",
        "colab": {
          "base_uri": "https://localhost:8080/",
          "height": 391
        }
      },
      "outputs": [
        {
          "output_type": "error",
          "ename": "TypeError",
          "evalue": "'ellipsis' object is not subscriptable",
          "traceback": [
            "\u001b[0;31m---------------------------------------------------------------------------\u001b[0m",
            "\u001b[0;31mTypeError\u001b[0m                                 Traceback (most recent call last)",
            "\u001b[0;32m/tmp/ipython-input-697109426.py\u001b[0m in \u001b[0;36m<cell line: 0>\u001b[0;34m()\u001b[0m\n\u001b[1;32m     14\u001b[0m \u001b[0minput_size\u001b[0m \u001b[0;34m=\u001b[0m \u001b[0;36m30\u001b[0m\u001b[0;34m\u001b[0m\u001b[0;34m\u001b[0m\u001b[0m\n\u001b[1;32m     15\u001b[0m \u001b[0moutput_sizes\u001b[0m \u001b[0;34m=\u001b[0m \u001b[0;34m...\u001b[0m \u001b[0;31m# update this based on your MLP design\u001b[0m\u001b[0;34m\u001b[0m\u001b[0;34m\u001b[0m\u001b[0m\n\u001b[0;32m---> 16\u001b[0;31m \u001b[0mmodel\u001b[0m\u001b[0;34m,\u001b[0m \u001b[0mparams\u001b[0m\u001b[0;34m,\u001b[0m \u001b[0moptimizer\u001b[0m\u001b[0;34m,\u001b[0m \u001b[0mopt_state\u001b[0m \u001b[0;34m=\u001b[0m \u001b[0mget_model_and_optimizer\u001b[0m\u001b[0;34m(\u001b[0m\u001b[0minput_size\u001b[0m\u001b[0;34m,\u001b[0m \u001b[0moutput_sizes\u001b[0m\u001b[0;34m,\u001b[0m \u001b[0mseed\u001b[0m\u001b[0;34m=\u001b[0m\u001b[0mseed\u001b[0m\u001b[0;34m,\u001b[0m \u001b[0mlr\u001b[0m\u001b[0;34m=\u001b[0m\u001b[0mlr\u001b[0m\u001b[0;34m)\u001b[0m\u001b[0;34m\u001b[0m\u001b[0;34m\u001b[0m\u001b[0m\n\u001b[0m\u001b[1;32m     17\u001b[0m \u001b[0;34m\u001b[0m\u001b[0m\n\u001b[1;32m     18\u001b[0m params, opt_state, metric_history = train(epochs, params, model, optimizer, opt_state,\n",
            "\u001b[0;32m/tmp/ipython-input-1126600248.py\u001b[0m in \u001b[0;36mget_model_and_optimizer\u001b[0;34m(input_size, output_sizes, seed, lr)\u001b[0m\n\u001b[1;32m     11\u001b[0m \u001b[0;34m\u001b[0m\u001b[0m\n\u001b[1;32m     12\u001b[0m \u001b[0;34m\u001b[0m\u001b[0m\n\u001b[0;32m---> 13\u001b[0;31m   \u001b[0mparams\u001b[0m \u001b[0;34m=\u001b[0m \u001b[0mmodel\u001b[0m\u001b[0;34m.\u001b[0m\u001b[0minit\u001b[0m\u001b[0;34m(\u001b[0m\u001b[0mkey\u001b[0m\u001b[0;34m,\u001b[0m \u001b[0mdummy_data\u001b[0m\u001b[0;34m)\u001b[0m\u001b[0;34m\u001b[0m\u001b[0;34m\u001b[0m\u001b[0m\n\u001b[0m\u001b[1;32m     14\u001b[0m \u001b[0;34m\u001b[0m\u001b[0m\n\u001b[1;32m     15\u001b[0m   \u001b[0;31m# Print model parameters\u001b[0m\u001b[0;34m\u001b[0m\u001b[0;34m\u001b[0m\u001b[0m\n",
            "    \u001b[0;31m[... skipping hidden 9 frame]\u001b[0m\n",
            "\u001b[0;32m/tmp/ipython-input-820101522.py\u001b[0m in \u001b[0;36m__call__\u001b[0;34m(self, x)\u001b[0m\n\u001b[1;32m      6\u001b[0m   \u001b[0;32mdef\u001b[0m \u001b[0m__call__\u001b[0m\u001b[0;34m(\u001b[0m\u001b[0mself\u001b[0m\u001b[0;34m,\u001b[0m \u001b[0mx\u001b[0m\u001b[0;34m)\u001b[0m\u001b[0;34m:\u001b[0m\u001b[0;34m\u001b[0m\u001b[0;34m\u001b[0m\u001b[0m\n\u001b[1;32m      7\u001b[0m       \u001b[0;31m# Apply all hidden layers with GeLU\u001b[0m\u001b[0;34m\u001b[0m\u001b[0;34m\u001b[0m\u001b[0m\n\u001b[0;32m----> 8\u001b[0;31m       \u001b[0;32mfor\u001b[0m \u001b[0msize\u001b[0m \u001b[0;32min\u001b[0m \u001b[0mself\u001b[0m\u001b[0;34m.\u001b[0m\u001b[0mlayer_sizes\u001b[0m\u001b[0;34m[\u001b[0m\u001b[0;34m:\u001b[0m\u001b[0;34m-\u001b[0m\u001b[0;36m1\u001b[0m\u001b[0;34m]\u001b[0m\u001b[0;34m:\u001b[0m\u001b[0;34m\u001b[0m\u001b[0;34m\u001b[0m\u001b[0m\n\u001b[0m\u001b[1;32m      9\u001b[0m           \u001b[0mx\u001b[0m \u001b[0;34m=\u001b[0m \u001b[0mnn\u001b[0m\u001b[0;34m.\u001b[0m\u001b[0mDense\u001b[0m\u001b[0;34m(\u001b[0m\u001b[0msize\u001b[0m\u001b[0;34m)\u001b[0m\u001b[0;34m(\u001b[0m\u001b[0mx\u001b[0m\u001b[0;34m)\u001b[0m\u001b[0;34m\u001b[0m\u001b[0;34m\u001b[0m\u001b[0m\n\u001b[1;32m     10\u001b[0m           \u001b[0mx\u001b[0m \u001b[0;34m=\u001b[0m \u001b[0mnn\u001b[0m\u001b[0;34m.\u001b[0m\u001b[0mgelu\u001b[0m\u001b[0;34m(\u001b[0m\u001b[0mx\u001b[0m\u001b[0;34m)\u001b[0m\u001b[0;34m\u001b[0m\u001b[0;34m\u001b[0m\u001b[0m\n",
            "\u001b[0;31mTypeError\u001b[0m: 'ellipsis' object is not subscriptable"
          ]
        }
      ],
      "source": [
        "batch_size = 32 # you can modify this if you wish\n",
        "epochs = 100 # you can modify this if you wish\n",
        "seed = 32 # you can modify this if you wish\n",
        "lr = 1e-3 # you can modify this if you wish\n",
        "\n",
        "metrics_history = {\n",
        "    \"train_loss\": [],\n",
        "    \"test_loss\": [],\n",
        "}\n",
        "\n",
        "train_ds = train_dataset.shuffle(1000).batch(batch_size)\n",
        "test_ds = test_dataset.batch(batch_size)\n",
        "\n",
        "input_size = 30\n",
        "output_sizes = ... # update this based on your MLP design\n",
        "model, params, optimizer, opt_state = get_model_and_optimizer(input_size, output_sizes, seed=seed, lr=lr)\n",
        "\n",
        "params, opt_state, metric_history = train(epochs, params, model, optimizer, opt_state,\n",
        "                                          loss_grad_fn, loss_func, train_ds, test_ds, metrics_history)\n"
      ]
    },
    {
      "cell_type": "code",
      "execution_count": 31,
      "metadata": {
        "id": "iYngbnOXUKtG",
        "outputId": "9f587216-f46c-486e-ccd2-3d73735815de",
        "colab": {
          "base_uri": "https://localhost:8080/",
          "height": 468
        }
      },
      "outputs": [
        {
          "output_type": "display_data",
          "data": {
            "text/plain": [
              "<Figure size 700x500 with 1 Axes>"
            ],
            "image/png": "[encoded data removed]"
          },
          "metadata": {}
        }
      ],
      "source": [
        "# @title 🔓Solution - calling the training loop (Try not to peek until you've given it a good try!')\n",
        "batch_size = 32\n",
        "epochs = 100\n",
        "\n",
        "metrics_history = {\n",
        "    \"train_loss\": [],\n",
        "    \"test_loss\": [],\n",
        "}\n",
        "\n",
        "train_ds = train_dataset.shuffle(1000).batch(batch_size)\n",
        "test_ds = test_dataset.batch(batch_size)\n",
        "\n",
        "input_size = 30\n",
        "output_sizes = [30,30,20,1]\n",
        "model, params, optimizer, opt_state = get_model_and_optimizer(input_size, output_sizes, seed=32, lr=1e-3)\n",
        "\n",
        "params, opt_state, metric_history = train(epochs, params, model, optimizer, opt_state,\n",
        "                                          loss_grad_fn, loss_func, train_ds, test_ds, metrics_history)\n"
      ]
    },
    {
      "cell_type": "markdown",
      "metadata": {
        "id": "S8cWX6wEe0rN"
      },
      "source": [
        "#### Evaluation metrics"
      ]
    },
    {
      "cell_type": "markdown",
      "metadata": {
        "id": "WyaFEtfVfBWX"
      },
      "source": [
        "Now that we have trained our model, we will use different metrics to guage the performance of our model.\n",
        "\n",
        "💻 Code Task: Implement a prediction function for our model.\n",
        "This function should take as input, the model, the paramemters, input features and threshold for classification."
      ]
    },
    {
      "cell_type": "code",
      "execution_count": 32,
      "metadata": {
        "id": "XA59i5mqgcCK",
        "outputId": "e1d20141-8385-4533-b8e2-a0a20c229624",
        "colab": {
          "base_uri": "https://localhost:8080/",
          "height": 106
        }
      },
      "outputs": [
        {
          "output_type": "error",
          "ename": "SyntaxError",
          "evalue": "invalid syntax (ipython-input-243971511.py, line 14)",
          "traceback": [
            "\u001b[0;36m  File \u001b[0;32m\"/tmp/ipython-input-243971511.py\"\u001b[0;36m, line \u001b[0;32m14\u001b[0m\n\u001b[0;31m    logits = model.apply... # update me\u001b[0m\n\u001b[0m                        ^\u001b[0m\n\u001b[0;31mSyntaxError\u001b[0m\u001b[0;31m:\u001b[0m invalid syntax\n"
          ]
        }
      ],
      "source": [
        "def predict(params, model, x, threshold=0.5):\n",
        "    \"\"\"\n",
        "    Apply model and return class predictions based on threshold.\n",
        "\n",
        "    Args:\n",
        "        params: trained model parameters\n",
        "        model: Flax MLP model\n",
        "        x: input array\n",
        "        threshold: decision threshold (default=0.5)\n",
        "\n",
        "    Returns:\n",
        "        jnp.array of predictions (0 or 1)\n",
        "    \"\"\"\n",
        "    logits = model.apply... # update me\n",
        "    probs = ... # update me\n",
        "    preds = ... # update me using threshold\n",
        "\n",
        "\n",
        "    return preds.squeeze()"
      ]
    },
    {
      "cell_type": "code",
      "execution_count": 33,
      "metadata": {
        "cellView": "form",
        "id": "gbyLn2OciBaV"
      },
      "outputs": [],
      "source": [
        "# @title 🔓Solution - calling the training loop (Try not to peek until you've given it a good try!')\n",
        "def predict(params, model, x, threshold=0.5):\n",
        "    \"\"\"\n",
        "    Apply model and return class predictions based on threshold.\n",
        "\n",
        "    Args:\n",
        "        params: trained model parameters\n",
        "        model: Flax MLP model\n",
        "        x: input array\n",
        "        threshold: decision threshold (default=0.5)\n",
        "\n",
        "    Returns:\n",
        "        jnp.array of predictions (0 or 1)\n",
        "    \"\"\"\n",
        "    logits = model.apply(params, x)\n",
        "\n",
        "    probs = nn.sigmoid(logits)\n",
        "    preds = (probs >= threshold).astype(jnp.int32).squeeze()\n",
        "\n",
        "    return preds"
      ]
    },
    {
      "cell_type": "markdown",
      "metadata": {
        "id": "nw5RpOOekkII"
      },
      "source": [
        "Let define the most common metrics used in classification tasks.\n",
        "\n",
        "#### ✅ Accuracy\n",
        "\n",
        "Accuracy measures the proportion of correct predictions out of total predictions:\n",
        "\n",
        "$$\n",
        "\\text{Accuracy} = \\frac{\\text{Number of correct predictions}}{\\text{Total number of predictions}}\n",
        "$$\n",
        "\n",
        "While useful, accuracy can be **misleading**, especially on **imbalanced datasets**. Imagine if only 5% of tumors are malignant. A model that always predicts \"benign\" will still have 95% accuracy, but be completely useless."
      ]
    },
    {
      "cell_type": "markdown",
      "metadata": {
        "id": "41S2rXHulrai"
      },
      "source": [
        "#### 🎯 Precision\n",
        "\n",
        "Precision tells us **how many predicted positives were actually correct**:\n",
        "\n",
        "$$\n",
        "\\text{Precision} = \\frac{TP}{TP + FP}\n",
        "$$\n",
        "\n",
        "Useful when **false positives are costly**, e.g., incorrectly diagnosing a healthy patient as having cancer."
      ]
    },
    {
      "cell_type": "markdown",
      "metadata": {
        "id": "BshBAzvElsyw"
      },
      "source": [
        "#### 🚨 Recall (Sensitivity)\n",
        "\n",
        "Recall tells us **how many actual positives were predicted**:\n",
        "\n",
        "$$\n",
        "\\text{Recall} = \\frac{TP}{TP + FN}\n",
        "$$\n",
        "\n",
        "Important when **missing a true positive case is dangerous** e.g. failing to identify a malignant tumor."
      ]
    },
    {
      "cell_type": "markdown",
      "metadata": {
        "id": "Z56xbQZWl-0h"
      },
      "source": [
        "💻 Code Task: Complete the functions below to implement the above 3 metrics, accuracy, precision and recall."
      ]
    },
    {
      "cell_type": "code",
      "execution_count": 34,
      "metadata": {
        "id": "wjY7tBkemdDD"
      },
      "outputs": [],
      "source": [
        "def accuracy(y_true, y_pred):\n",
        "    \"\"\"Compute accuracy = correct predictions / total\"\"\"\n",
        "    acc = ... # update me\n",
        "    return acc\n",
        "\n",
        "\n",
        "def precision(y_true, y_pred):\n",
        "    \"\"\"Compute precision = TP / (TP + FP)\"\"\"\n",
        "    tp = ... # update me -- true positve\n",
        "    fp = ... # update me -- false positive\n",
        "    result = ... # update me\n",
        "\n",
        "    return result\n",
        "\n",
        "\n",
        "def recall(y_true, y_pred):\n",
        "    \"\"\"Compute recall = TP / (TP + FN)\"\"\"\n",
        "    tp = ... # update me -- true positve\n",
        "    fn = ... # update me -- false negative\n",
        "    result = ... # update me\n",
        "\n",
        "    return result\n"
      ]
    },
    {
      "cell_type": "code",
      "execution_count": 13,
      "metadata": {
        "cellView": "form",
        "id": "9zg7JDb5nYMD"
      },
      "outputs": [],
      "source": [
        "# @title 🔓Solution - accuracy, precision, recall (Try not to peek until you've given it a good try!')\n",
        "def accuracy(y_true, y_pred):\n",
        "    \"\"\"Compute accuracy = correct predictions / total\"\"\"\n",
        "    return jnp.mean(y_true == y_pred)\n",
        "\n",
        "def precision(y_true, y_pred):\n",
        "    \"\"\"Compute precision = TP / (TP + FP)\"\"\"\n",
        "    tp = jnp.sum((y_true == 1) & (y_pred == 1))\n",
        "    fp = jnp.sum((y_true == 0) & (y_pred == 1))\n",
        "    return tp / (tp + fp + 1e-8)  # add epsilon to avoid division by zero\n",
        "\n",
        "\n",
        "def recall(y_true, y_pred):\n",
        "    \"\"\"Compute recall = TP / (TP + FN)\"\"\"\n",
        "    tp = jnp.sum((y_true == 1) & (y_pred == 1))\n",
        "    fn = jnp.sum((y_true == 1) & (y_pred == 0))\n",
        "    return tp / (tp + fn + 1e-8) # add epsilon to avoid division by zero"
      ]
    },
    {
      "cell_type": "markdown",
      "metadata": {
        "id": "XzGer9HFn_by"
      },
      "source": [
        "Let compute these metrics on test and training sets."
      ]
    },
    {
      "cell_type": "code",
      "execution_count": 36,
      "metadata": {
        "id": "7vzdaTFon3eA",
        "outputId": "741ee03f-7592-453f-a3ca-1f1655057f01",
        "colab": {
          "base_uri": "https://localhost:8080/"
        }
      },
      "outputs": [
        {
          "output_type": "stream",
          "name": "stdout",
          "text": [
            "Train Accuracy: 0.9407, Test Accuracy 0.9298\n",
            "Train Precision: 0.9441, Test Precision 1.0000\n",
            "Train Recall: 0.8941, Test Recall 0.8095\n"
          ]
        }
      ],
      "source": [
        "ypreds_train = predict(params, model, x_train, threshold=0.5)\n",
        "ypreds_test = predict(params, model, x_test, threshold=0.5)\n",
        "\n",
        "# convert this to numpy from dataframes\n",
        "y_train = jnp.array(y_train.to_numpy())\n",
        "y_test = jnp.array(y_test.to_numpy())\n",
        "\n",
        "train_acc = accuracy(y_train, ypreds_train)\n",
        "test_acc = accuracy(y_test, ypreds_test)\n",
        "\n",
        "train_precision = precision(y_train, ypreds_train)\n",
        "train_recall = recall(y_train, ypreds_train)\n",
        "\n",
        "test_precision = precision(y_test, ypreds_test)\n",
        "test_recall = recall(y_test, ypreds_test)\n",
        "\n",
        "print(f\"Train Accuracy: {train_acc:.4f}, Test Accuracy {test_acc:.4f}\")\n",
        "print(f\"Train Precision: {train_precision:.4f}, Test Precision {test_precision:.4f}\")\n",
        "print(f\"Train Recall: {train_recall:.4f}, Test Recall {test_recall:.4f}\")"
      ]
    },
    {
      "cell_type": "markdown",
      "metadata": {
        "id": "h_Pf4_B_qeJX"
      },
      "source": [
        "🤔 Pause and reflect: What can you say about your model performance?\n",
        "\n",
        "Is your model performing similarly on the training set and the test set?\n",
        "\n",
        "Are you satisified with your precision and recall scores given their implications?\n",
        "\n",
        "How can we improve our model?"
      ]
    },
    {
      "cell_type": "markdown",
      "metadata": {
        "id": "aUlfhmD9tED-"
      },
      "source": [
        "#### 📊 Aggregate Metrics\n",
        "In the preciding section, we define various metrics which can be analysed independently. Most often in machine learning and science studies, we want to summarise everthing in single number that can tell the full story. Now we look at few other metrics that try exactly to do that."
      ]
    },
    {
      "cell_type": "markdown",
      "metadata": {
        "id": "76Lbanc8va3I"
      },
      "source": [
        "**ROC Curve**\n",
        "\n",
        "The **Receiver Operating Characteristic (ROC) curve** shows how well a binary classifier can separate the two classes across different thresholds.  \n",
        "- The x-axis is the **False Positive Rate (FPR)**  \n",
        "- The y-axis is the **True Positive Rate (TPR / Recall)**  \n",
        "- The closer the curve is to the **top-left corner**, the better the model.  \n",
        "- The **Area Under the Curve (AUC)** summarizes performance:  \n",
        "  - AUC = 1 → perfect classifier  \n",
        "  - AUC = 0.5 → random guessing\n",
        "\n",
        "**F1-Score**\n",
        "\n",
        "The **F1-score** balances **precision** and **recall** in one number.  \n",
        "It is useful when classes are imbalanced.  \n",
        "$$\n",
        "F1 = \\frac{2 \\cdot (\\text{Precision} \\cdot \\text{Recall})}{\\text{Precision} + \\text{Recall}}\n",
        "$$\n",
        "\n",
        "- High F1 means the model has both **good precision** (few false positives) and **good recall** (few false negatives).  \n",
        "- Useful for medical tasks like cancer detection where both errors matter.\n",
        "\n",
        "**Matthews Correlation Coefficient (MCC)**\n",
        "\n",
        "The **MCC** is a more balanced evaluation metric that uses all four confusion matrix values i.e. TP, TN, FP, and FN.  \n",
        "\n",
        "$$\n",
        "\\text{MCC} = \\frac{TP \\cdot TN - FP \\cdot FN}{\\sqrt{(TP+FP)(TP+FN)(TN+FP)(TN+FN)}}\n",
        "$$\n",
        "\n",
        "- MCC = +1 → perfect prediction  \n",
        "- MCC = 0 → random prediction  \n",
        "- MCC = -1 → total disagreement  \n",
        "\n",
        "MCC is especially good for **imbalanced datasets**, where accuracy alone can be misleading."
      ]
    },
    {
      "cell_type": "markdown",
      "metadata": {
        "id": "ni-QsUWMv5KT"
      },
      "source": [
        "💻 Code Task: Complete the functions below to implement the F1 score and the MCC."
      ]
    },
    {
      "cell_type": "code",
      "execution_count": 37,
      "metadata": {
        "id": "kDSBu4F9wYBW"
      },
      "outputs": [],
      "source": [
        "def f1_score(y_true, y_pred):\n",
        "    p = ... # update me -- precision\n",
        "    r = ... # update me -- recall\n",
        "    result = ... # update me\n",
        "    return result\n",
        "\n",
        "def matthews_corrcoef(y_true, y_pred):\n",
        "    tp = np.sum((y_true == 1) & (y_pred == 1))\n",
        "    tn = np.sum((y_true == 0) & (y_pred == 0))\n",
        "    fp = ... # update me --- false positive\n",
        "    fn = ... # update me --- false negative\n",
        "\n",
        "    numerator = (tp * tn) - (fp * fn)\n",
        "    denominator = ... # update me\n",
        "    return numerator / denominator"
      ]
    },
    {
      "cell_type": "code",
      "execution_count": 14,
      "metadata": {
        "id": "fLlidf-2wmw6"
      },
      "outputs": [],
      "source": [
        "def f1_score(y_true, y_pred):\n",
        "    p = precision(y_true, y_pred)\n",
        "    r = recall(y_true, y_pred)\n",
        "    return 2 * (p * r) / (p + r + 1e-8)\n",
        "\n",
        "def matthews_corrcoef(y_true, y_pred):\n",
        "    tp = float(np.sum((y_true == 1) & (y_pred == 1)))\n",
        "    tn = float(np.sum((y_true == 0) & (y_pred == 0)))\n",
        "    fp = float(np.sum((y_true == 0) & (y_pred == 1)))\n",
        "    fn = float(np.sum((y_true == 1) & (y_pred == 0)))\n",
        "\n",
        "    numerator = (tp * tn) - (fp * fn)\n",
        "    denominator = np.sqrt((tp+fp) * (tp+fn) * (tn+fp) * (tn+fn) + 1e-8)\n",
        "    return numerator / denominator"
      ]
    },
    {
      "cell_type": "markdown",
      "metadata": {
        "id": "g2wzqCNTx-S7"
      },
      "source": [
        "Let's compute the F1 score and MCC of our model"
      ]
    },
    {
      "cell_type": "code",
      "execution_count": 39,
      "metadata": {
        "id": "8eHiAk0IyEF2",
        "outputId": "681f45bd-f668-4b37-ab30-c5e72d7dd81e",
        "colab": {
          "base_uri": "https://localhost:8080/"
        }
      },
      "outputs": [
        {
          "output_type": "stream",
          "name": "stdout",
          "text": [
            "Train f1 score: 0.9184, Test f1 score 0.8947\n",
            "Train MCC: 0.8726, Test MCC 0.8536\n"
          ]
        }
      ],
      "source": [
        "train_f1_score = f1_score(y_train, ypreds_train)\n",
        "test_f1_score = f1_score(y_test, ypreds_test)\n",
        "\n",
        "train_mcc = matthews_corrcoef(y_train, ypreds_train)\n",
        "test_mcc = matthews_corrcoef(y_test, ypreds_test)\n",
        "\n",
        "print(f\"Train f1 score: {train_f1_score:.4f}, Test f1 score {test_f1_score:.4f}\")\n",
        "print(f\"Train MCC: {train_mcc:.4f}, Test MCC {test_mcc:.4f}\")"
      ]
    },
    {
      "cell_type": "markdown",
      "metadata": {
        "id": "XyCnrQu-2YIX"
      },
      "source": [
        "🤔 Pause and reflect: What can you say about your model performance based on these metrics?\n"
      ]
    },
    {
      "cell_type": "markdown",
      "metadata": {
        "id": "KpjY8k_64kjT"
      },
      "source": [
        "### Cross validation and Generalisation"
      ]
    },
    {
      "cell_type": "markdown",
      "metadata": {
        "id": "iH4Tv3Ar-yIW"
      },
      "source": [
        "In the previous sections we discussed different metrics which can be use to measure the performance of machine learning models in classifications tasks.\n",
        "\n",
        "So far we've used an approach where we split the data into a training and test set. This implies we are are only measuring the generalisation ability of the model using a fixed training and test set.\n",
        "\n",
        "🤔 Pause and reflect: What approach can we use in our train/test splitting strategy to improve model generalisation?"
      ]
    },
    {
      "cell_type": "markdown",
      "metadata": {
        "id": "oMqYam1oBwn1"
      },
      "source": [
        "\n",
        "**Cross-validation** is a popular machine learning technique used to test the **generalization capability** of models.  \n",
        "\n",
        "In this approach, we split the dataset into several parts (called *folds*). The model is trained on some of these folds and tested on the remaining ones. This process is repeated so that each fold serves as the test set once. Finally, we evaluate the model’s performance on each test set and take the **average score** as the overall performance.  \n",
        "\n",
        "📖 You can read more about different cross-validation techniques [here](https://www.geeksforgeeks.org/machine-learning/cross-validation-machine-learning/).\n"
      ]
    },
    {
      "cell_type": "markdown",
      "metadata": {
        "id": "5HNpEM4DnMNe"
      },
      "source": [
        "## Part 2 — Optimization Algorithms\n",
        "\n",
        "In this part we’ll explore **how** we set parameters and **how** we update them so that training is stable, fast, and generalises well.\n",
        "\n",
        "We’ll cover:\n",
        "1) **Parameter initialization** (random vs. variance scaling like He/Xavier)  \n",
        "2) **Gradient step optimisation** (learning rate, momentum, Adam)  \n",
        "3) **Regularisation** (L2/weight decay, early stopping, and brief notes on other techniques)\n"
      ]
    },
    {
      "cell_type": "markdown",
      "source": [
        "### 1. Parameter Initialization\n",
        "\n",
        "When training deep networks, parameter initialization matters because it controls the **variance of signals** as they propagate forward (activations) and backward (gradients). Poor choices lead to:\n",
        "- **Vanishing** signals (too small), slowing learning.\n",
        "- **Exploding** signals (too large), destabilising learning.\n",
        "\n",
        "A good initialization keeps the variance of activations roughly constant across layers. We will explore various simple and state-of-the-art initialisation schemes, starting with plain random initialisation and then move to **variance scaling** (Xavier/Glorot and He/Kaiming) that preserves variance layer-to-layer under certain activations.\n"
      ],
      "metadata": {
        "id": "xprTxw9s4BCo"
      }
    },
    {
      "cell_type": "markdown",
      "source": [
        "#### 1.1 Random Initialization\n",
        "\n",
        "Most frameworks (like Flax) use normal or uniform random initializations by default.\n",
        "\n",
        "💡 Idea: Let’s observe what happens when we initialize weights randomly.\n",
        "\n",
        "To to this end, let's wire `jax.random.normal` and `jax.random.normal` into our existing `get_model_and_optimizer`. Consider an MLP that takes the initialization type \"kernel_init\" as an additional argument.\n"
      ],
      "metadata": {
        "id": "Gy3rT0eqBNYa"
      }
    },
    {
      "cell_type": "code",
      "source": [
        "class MLP(nn.Module):\n",
        "    layer_sizes: list\n",
        "    kernel_init: callable = nn.initializers.lecun_normal()  # default fallback\n",
        "\n",
        "    @nn.compact\n",
        "    def __call__(self, x):\n",
        "        for size in self.layer_sizes[:-1]:\n",
        "            x = nn.Dense(size, kernel_init=self.kernel_init)(x)\n",
        "            x = nn.gelu(x)\n",
        "        x = nn.Dense(self.layer_sizes[-1], kernel_init=self.kernel_init)(x)\n",
        "        return x"
      ],
      "metadata": {
        "id": "4bySKhWxEp7y"
      },
      "execution_count": 18,
      "outputs": []
    },
    {
      "cell_type": "markdown",
      "source": [
        "**Exercise:** Modify `get_model_and_optimizer` so that:\n",
        "- It accepts `init_type` in `{\"normal\", \"uniform\"}` plus two tunables: `normal_std` and `uniform_limit`.\n",
        "- It passes the corresponding `kernel_init=` to each `nn.Dense`.\n",
        "- Everything else remains the same (optimizer still Adam by default).\n",
        "\n",
        "*Fill the `... # update me` spots; then run the tests cell.*"
      ],
      "metadata": {
        "id": "GYFbqbl7Cgi_"
      }
    },
    {
      "cell_type": "code",
      "source": [
        "#@title EXERCISE: Random initialisation inside get_model_and_optimizer\n",
        "\n",
        "def normal_std(std=0.02):\n",
        "    def _init(key, shape, dtype=jnp.float32):\n",
        "        return ...  # update me:\n",
        "    return _init\n",
        "\n",
        "def uniform_range(limit=0.05):\n",
        "    def _init(key, shape, dtype=jnp.float32):\n",
        "        return ...  # update me:\n",
        "    return _init\n",
        "\n",
        "def get_model_and_optimizer(input_size,\n",
        "                            output_sizes=None,\n",
        "                            seed=32,\n",
        "                            lr=1e-3,\n",
        "                            init_type=\"normal\",\n",
        "                            normal_std_val=0.02,\n",
        "                            uniform_limit_val=0.05):\n",
        "    \"\"\"\n",
        "    Create MLP + Optax optimizer with configurable kernel initialization.\n",
        "    init_type in {\"normal\",\"uniform\"}.\n",
        "    \"\"\"\n",
        "    # choose kernel_init based on init_type\n",
        "    if init_type == \"normal\":\n",
        "        kernel_init = normal_std(normal_std_val)\n",
        "    elif init_type == \"uniform\":\n",
        "        kernel_init = uniform_range(uniform_limit_val)\n",
        "    else:\n",
        "        kernel_init = nn.initializers.lecun_normal()\n",
        "\n",
        "    model = MLP(output_sizes, kernel_init=kernel_init)\n",
        "    key = jax.random.PRNGKey(seed)\n",
        "    dummy = jnp.zeros((1, input_size), dtype=float)\n",
        "    params = model.init(key, dummy)\n",
        "\n",
        "    # Print model parameters\n",
        "    print_param_shapes(params[\"params\"])\n",
        "\n",
        "    optimizer = optax.adam(learning_rate=lr)\n",
        "    opt_state = optimizer.init(params)\n",
        "    return model, params, optimizer, opt_state\n"
      ],
      "metadata": {
        "id": "rjSHyBM36SeI"
      },
      "execution_count": 19,
      "outputs": []
    },
    {
      "cell_type": "code",
      "source": [
        "#@title ✅ SOLUTION: Random initialisation inside get_model_and_optimizer\n",
        "\n",
        "def normal_std(std=0.02):\n",
        "    def _init(key, shape, dtype=jnp.float32):\n",
        "        return std * jax.random.normal(key, shape, dtype)\n",
        "    return _init\n",
        "\n",
        "def uniform_range(limit=0.05):\n",
        "    def _init(key, shape, dtype=jnp.float32):\n",
        "        return jax.random.uniform(key, shape, dtype, minval=-limit, maxval=limit)\n",
        "    return _init\n",
        "\n",
        "def get_model_and_optimizer(input_size,\n",
        "                            output_sizes=None,\n",
        "                            seed=32,\n",
        "                            lr=1e-3,\n",
        "                            init_type=\"normal\",\n",
        "                            normal_std_val=0.02,\n",
        "                            uniform_limit_val=0.05):\n",
        "    if init_type == \"normal\":\n",
        "        kernel_init = normal_std(normal_std_val)\n",
        "    elif init_type == \"uniform\":\n",
        "        kernel_init = uniform_range(uniform_limit_val)\n",
        "    else:\n",
        "        kernel_init = nn.initializers.lecun_normal()\n",
        "\n",
        "    model = MLP(output_sizes, kernel_init=kernel_init)\n",
        "    key = jax.random.PRNGKey(seed)\n",
        "    dummy = jnp.zeros((1, input_size), dtype=float)\n",
        "    params = model.init(key, dummy)\n",
        "\n",
        "    print_param_shapes(params[\"params\"])\n",
        "    optimizer = optax.adam(learning_rate=lr)\n",
        "    opt_state = optimizer.init(params)\n",
        "    return model, params, optimizer, opt_state\n"
      ],
      "metadata": {
        "cellView": "form",
        "id": "90c7KjZlFDNe"
      },
      "execution_count": 20,
      "outputs": []
    },
    {
      "cell_type": "code",
      "source": [
        "#@title 🔬 TEST: Build a model with random normal and uniform initialisation\n",
        "batch_size = 32\n",
        "train_ds = train_dataset.shuffle(1000).batch(batch_size)\n",
        "test_ds  = test_dataset.batch(batch_size)\n",
        "\n",
        "input_size = 30\n",
        "output_sizes = [64, 64, 1]\n",
        "\n",
        "# normal\n",
        "model_n, params_n, opt_n, state_n = get_model_and_optimizer(\n",
        "    input_size, output_sizes, seed=0, lr=1e-3, init_type=\"normal\", normal_std_val=0.05)\n",
        "\n",
        "# uniform\n",
        "model_u, params_u, opt_u, state_u = get_model_and_optimizer(\n",
        "    input_size, output_sizes, seed=0, lr=1e-3, init_type=\"uniform\", uniform_limit_val=0.1)\n",
        "\n",
        "print(\"OK: models initialised with normal and uniform.\")\n"
      ],
      "metadata": {
        "cellView": "form",
        "colab": {
          "base_uri": "https://localhost:8080/"
        },
        "id": "V_-YhUnTFQQu",
        "outputId": "5c94da14-5565-4e9b-e1e4-db3f972f21fd"
      },
      "execution_count": 21,
      "outputs": [
        {
          "output_type": "stream",
          "name": "stdout",
          "text": [
            "Dense_0/kernel: shape=(30, 64)\n",
            "Dense_0/bias: shape=(64,)\n",
            "Dense_1/kernel: shape=(64, 64)\n",
            "Dense_1/bias: shape=(64,)\n",
            "Dense_2/kernel: shape=(64, 1)\n",
            "Dense_2/bias: shape=(1,)\n",
            "Dense_0/kernel: shape=(30, 64)\n",
            "Dense_0/bias: shape=(64,)\n",
            "Dense_1/kernel: shape=(64, 64)\n",
            "Dense_1/bias: shape=(64,)\n",
            "Dense_2/kernel: shape=(64, 1)\n",
            "Dense_2/bias: shape=(1,)\n",
            "OK: models initialised with normal and uniform.\n"
          ]
        }
      ]
    },
    {
      "cell_type": "markdown",
      "source": [
        "**Visualising initial activations across layers**\n",
        "\n",
        "We push a batch of inputs through the untrained network and look at the **activation histograms** per layer. With poor initialisation you’ll see saturation (squashed near 0) or explosion (very wide).\n"
      ],
      "metadata": {
        "id": "YlP7xBeRFVRJ"
      }
    },
    {
      "cell_type": "code",
      "source": [
        "#@title Visualise initial activations layer-by-layer (fixed)\n",
        "import numpy as np\n",
        "import matplotlib.pyplot as plt\n",
        "\n",
        "def forward_activations(params, model, x):\n",
        "    acts = []\n",
        "    variables = {\"params\": params[\"params\"]}\n",
        "    x0 = x\n",
        "    for lyr, _ in enumerate(model.layer_sizes[:-1]):\n",
        "        W = variables[\"params\"][f\"Dense_{lyr}\"][\"kernel\"]\n",
        "        B = variables[\"params\"][f\"Dense_{lyr}\"][\"bias\"]\n",
        "        x0 = jnp.dot(x0, W) + B\n",
        "        x0 = jax.nn.gelu(x0)\n",
        "        acts.append(np.asarray(x0))\n",
        "    return acts\n",
        "\n",
        "# --- get a small batch as a NumPy/JAX array ---\n",
        "# Preferred: as_numpy_iterator (works on eager TF)\n",
        "try:\n",
        "    xb = next(train_ds.as_numpy_iterator())[0]   # (X_batch, y_batch) -> take features\n",
        "except AttributeError:\n",
        "    # Fallback: take(1) + .numpy()\n",
        "    xb = next(iter(train_ds.take(1)))[0].numpy()\n",
        "x_batch = jnp.array(xb)\n",
        "\n",
        "# --- run with a few different inits ---\n",
        "to_run = {\n",
        "    \"normal std=0.01\": get_model_and_optimizer(\n",
        "        input_size=30, output_sizes=[64,64,1], seed=1, lr=1e-3,\n",
        "        init_type=\"normal\", normal_std_val=0.01)[:2],\n",
        "    \"normal std=0.2\": get_model_and_optimizer(\n",
        "        input_size=30, output_sizes=[64,64,1], seed=1, lr=1e-3,\n",
        "        init_type=\"normal\", normal_std_val=0.2)[:2],\n",
        "    \"uniform lim=0.05\": get_model_and_optimizer(\n",
        "        input_size=30, output_sizes=[64,64,1], seed=1, lr=1e-3,\n",
        "        init_type=\"uniform\", uniform_limit_val=0.05)[:2],\n",
        "}\n",
        "\n",
        "for label, (m, p) in to_run.items():\n",
        "    acts = forward_activations(p, m, x_batch)\n",
        "    fig, axes = plt.subplots(1, len(acts), figsize=(12, 3))\n",
        "    fig.suptitle(f\"Initial activations — {label}\")\n",
        "    if len(acts) == 1:\n",
        "        axes = [axes]\n",
        "    for i, a in enumerate(acts):\n",
        "        ax = axes[i]\n",
        "        ax.hist(a.flatten(), bins=30)\n",
        "        ax.set_title(f\"Layer {i+1}\")\n",
        "    plt.show()\n"
      ],
      "metadata": {
        "cellView": "form",
        "id": "t90gNaKlFcxs"
      },
      "execution_count": null,
      "outputs": []
    },
    {
      "cell_type": "markdown",
      "source": [
        "🤔 Pause and reflect:\n",
        "\n",
        "What happens if you increase the standard deviation of initialization?\n",
        "\n",
        "Do activations or losses diverge?"
      ],
      "metadata": {
        "id": "ZCK0BVCpGI8f"
      }
    },
    {
      "cell_type": "markdown",
      "source": [
        "#### 1.2 He Initialisation (and Xavier)\n",
        "\n",
        "To preserve variance across layers, He and Xavier propose scaling the initialization by the number of input units (fan-in) $n_{\\text{in}}$:\n",
        "\n",
        "- **He normal (ReLU-like):**  \n",
        "  $ W \\sim \\mathcal{N}\\!\\left(0,\\ \\frac{2}{n_{\\text{in}}}\\right) $\n",
        "\n",
        "- **Xavier normal (tanh/sigmoid):**  \n",
        "  $ W \\sim \\mathcal{N}\\!\\left(0,\\ \\frac{1}{n_{\\text{in}}}\\right) $\n",
        "\n",
        "**Exercise:** Add `init_type` values `\"he\"` and `\"xavier\"` to `get_model_and_optimizer`, using the corresponding `kernel_init=`.\n"
      ],
      "metadata": {
        "id": "g05u_7iXF6NL"
      }
    },
    {
      "cell_type": "code",
      "source": [
        "#@title EXERCISE: Add He/Xavier to get_model_and_optimizer\n",
        "def get_model_and_optimizer(input_size,\n",
        "                            output_sizes=None,\n",
        "                            seed=32,\n",
        "                            lr=1e-3,\n",
        "                            init_type=\"he\",  # default to he for ReLU/GELU\n",
        "                            normal_std_val=0.02,\n",
        "                            uniform_limit_val=0.05):\n",
        "    # choose kernel_init\n",
        "    if init_type == \"normal\":\n",
        "        kernel_init = ...  # update me\n",
        "    elif init_type == \"uniform\":\n",
        "        kernel_init = ...  # update me\n",
        "    elif init_type == \"he\":\n",
        "        kernel_init = ...  # update me (use he_normal)\n",
        "    elif init_type == \"xavier\":\n",
        "        kernel_init = ...  # update me (use xavier_normal)\n",
        "    else:\n",
        "        kernel_init = nn.initializers.lecun_normal()\n",
        "\n",
        "    model = MLP(output_sizes, kernel_init=kernel_init)\n",
        "    key = jax.random.PRNGKey(seed)\n",
        "    dummy = jnp.zeros((1, input_size), dtype=float)\n",
        "    params = model.init(key, dummy)\n",
        "    print_param_shapes(params[\"params\"])\n",
        "\n",
        "    optimizer = optax.adam(learning_rate=lr)\n",
        "    opt_state = optimizer.init(params)\n",
        "    return model, params, optimizer, opt_state\n"
      ],
      "metadata": {
        "id": "UfGnQaIQGtO1"
      },
      "execution_count": 23,
      "outputs": []
    },
    {
      "cell_type": "code",
      "source": [
        "#@title ✅ SOLUTION: Add He/Xavier to get_model_and_optimizer\n",
        "\n",
        "def he_normal(key, shape, dtype=jnp.float32):\n",
        "    # N(0, 2 / fan_in)\n",
        "    fan_in = shape[0] if len(shape) >= 2 else 1\n",
        "    std = jnp.sqrt(2.0 / fan_in)\n",
        "    return std * jax.random.normal(key, shape, dtype)\n",
        "\n",
        "def xavier_normal(key, shape, dtype=jnp.float32):\n",
        "    # N(0, 1 / fan_in)\n",
        "    fan_in = shape[0] if len(shape) >= 2 else 1\n",
        "    std = jnp.sqrt(1.0 / fan_in)\n",
        "    return std * jax.random.normal(key, shape, dtype)\n",
        "\n",
        "def get_model_and_optimizer(input_size,\n",
        "                            output_sizes=None,\n",
        "                            seed=32,\n",
        "                            lr=1e-3,\n",
        "                            init_type=\"he\",\n",
        "                            normal_std_val=0.02,\n",
        "                            uniform_limit_val=0.05):\n",
        "    if init_type == \"normal\":\n",
        "        kernel_init = normal_std(normal_std_val)\n",
        "    elif init_type == \"uniform\":\n",
        "        kernel_init = uniform_range(uniform_limit_val)\n",
        "    elif init_type == \"he\":\n",
        "        kernel_init = he_normal\n",
        "    elif init_type == \"xavier\":\n",
        "        kernel_init = xavier_normal\n",
        "    else:\n",
        "        kernel_init = nn.initializers.lecun_normal()\n",
        "\n",
        "    model = MLP(output_sizes, kernel_init=kernel_init)\n",
        "    key = jax.random.PRNGKey(seed)\n",
        "    dummy = jnp.zeros((1, input_size), dtype=float)\n",
        "    params = model.init(key, dummy)\n",
        "    print_param_shapes(params[\"params\"])\n",
        "\n",
        "    optimizer = optax.adam(learning_rate=lr)\n",
        "    opt_state = optimizer.init(params)\n",
        "    return model, params, optimizer, opt_state\n"
      ],
      "metadata": {
        "cellView": "form",
        "id": "EX5gije6Gxc6"
      },
      "execution_count": 25,
      "outputs": []
    },
    {
      "cell_type": "markdown",
      "source": [
        "**Demo: random vs. He initialisation**\n",
        "\n",
        "We’ll train short runs with (a) normal std=0.05 and (b) He, then compare train/test losses.\n"
      ],
      "metadata": {
        "id": "RRanEexDHDtl"
      }
    },
    {
      "cell_type": "code",
      "source": [
        "#@title Train & compare: Random (normal) vs He\n",
        "epochs = 60\n",
        "output_sizes = [64, 64, 1]\n",
        "metrics_history_a = {\"train_loss\": [], \"test_loss\": []}\n",
        "metrics_history_b = {\"train_loss\": [], \"test_loss\": []}\n",
        "\n",
        "# (a) random normal\n",
        "model_a, params_a, opt_a, state_a = get_model_and_optimizer(\n",
        "    input_size=30, output_sizes=output_sizes, seed=0, lr=1e-3, init_type=\"normal\", normal_std_val=0.05)\n",
        "params_a, state_a, mh_a = train(epochs, params_a, model_a, opt_a, state_a,\n",
        "                                loss_grad_fn, loss_func, train_ds, test_ds, metrics_history_a)\n",
        "\n",
        "# (b) He\n",
        "model_b, params_b, opt_b, state_b = get_model_and_optimizer(\n",
        "    input_size=30, output_sizes=output_sizes, seed=0, lr=1e-3, init_type=\"he\")\n",
        "params_b, state_b, mh_b = train(epochs, params_b, model_b, opt_b, state_b,\n",
        "                                loss_grad_fn, loss_func, train_ds, test_ds, metrics_history_b)\n"
      ],
      "metadata": {
        "colab": {
          "base_uri": "https://localhost:8080/",
          "height": 460
        },
        "id": "A9Uqgd0bHJtT",
        "outputId": "ee134b49-9d91-4aa9-de07-2e68f444eaaa"
      },
      "execution_count": 26,
      "outputs": [
        {
          "output_type": "stream",
          "name": "stdout",
          "text": [
            "Dense_0/kernel: shape=(30, 64)\n",
            "Dense_0/bias: shape=(64,)\n",
            "Dense_1/kernel: shape=(64, 64)\n",
            "Dense_1/bias: shape=(64,)\n",
            "Dense_2/kernel: shape=(64, 1)\n",
            "Dense_2/bias: shape=(1,)\n"
          ]
        },
        {
          "output_type": "error",
          "ename": "KeyboardInterrupt",
          "evalue": "",
          "traceback": [
            "\u001b[0;31m---------------------------------------------------------------------------\u001b[0m",
            "\u001b[0;31mKeyboardInterrupt\u001b[0m                         Traceback (most recent call last)",
            "\u001b[0;32m/tmp/ipython-input-1868361338.py\u001b[0m in \u001b[0;36m<cell line: 0>\u001b[0;34m()\u001b[0m\n\u001b[1;32m      8\u001b[0m model_a, params_a, opt_a, state_a = get_model_and_optimizer(\n\u001b[1;32m      9\u001b[0m     input_size=30, output_sizes=output_sizes, seed=0, lr=1e-3, init_type=\"normal\", normal_std_val=0.05)\n\u001b[0;32m---> 10\u001b[0;31m params_a, state_a, mh_a = train(epochs, params_a, model_a, opt_a, state_a,\n\u001b[0m\u001b[1;32m     11\u001b[0m                                 loss_grad_fn, loss_func, train_ds, test_ds, metrics_history_a)\n\u001b[1;32m     12\u001b[0m \u001b[0;34m\u001b[0m\u001b[0m\n",
            "\u001b[0;32m/tmp/ipython-input-3697823337.py\u001b[0m in \u001b[0;36mtrain\u001b[0;34m(epochs, params, model, optimizer, opt_state, loss_grad_fn, loss_fn, train_ds, test_ds, metrics_history)\u001b[0m\n\u001b[1;32m     42\u001b[0m       \u001b[0mparams\u001b[0m\u001b[0;34m,\u001b[0m \u001b[0mopt_state\u001b[0m\u001b[0;34m,\u001b[0m \u001b[0mtrain_metrics\u001b[0m \u001b[0;34m=\u001b[0m \u001b[0mtrain_step\u001b[0m\u001b[0;34m(\u001b[0m\u001b[0mparams\u001b[0m\u001b[0;34m,\u001b[0m \u001b[0mmodel\u001b[0m\u001b[0;34m,\u001b[0m \u001b[0moptimizer\u001b[0m\u001b[0;34m,\u001b[0m \u001b[0mopt_state\u001b[0m\u001b[0;34m,\u001b[0m \u001b[0mloss_grad_fn\u001b[0m\u001b[0;34m,\u001b[0m \u001b[0mtrain_metrics\u001b[0m\u001b[0;34m,\u001b[0m \u001b[0mbatch\u001b[0m\u001b[0;34m)\u001b[0m\u001b[0;34m\u001b[0m\u001b[0;34m\u001b[0m\u001b[0m\n\u001b[1;32m     43\u001b[0m \u001b[0;34m\u001b[0m\u001b[0m\n\u001b[0;32m---> 44\u001b[0;31m     \u001b[0;32mfor\u001b[0m \u001b[0mmetric\u001b[0m\u001b[0;34m,\u001b[0m \u001b[0mvalue\u001b[0m \u001b[0;32min\u001b[0m \u001b[0mtrain_metrics\u001b[0m\u001b[0;34m.\u001b[0m\u001b[0mcompute\u001b[0m\u001b[0;34m(\u001b[0m\u001b[0;34m)\u001b[0m\u001b[0;34m.\u001b[0m\u001b[0mitems\u001b[0m\u001b[0;34m(\u001b[0m\u001b[0;34m)\u001b[0m\u001b[0;34m:\u001b[0m\u001b[0;34m\u001b[0m\u001b[0;34m\u001b[0m\u001b[0m\n\u001b[0m\u001b[1;32m     45\u001b[0m       \u001b[0mmetrics_history\u001b[0m\u001b[0;34m[\u001b[0m\u001b[0;34mf\"train_{metric}\"\u001b[0m\u001b[0;34m]\u001b[0m\u001b[0;34m.\u001b[0m\u001b[0mappend\u001b[0m\u001b[0;34m(\u001b[0m\u001b[0mvalue\u001b[0m\u001b[0;34m)\u001b[0m\u001b[0;34m\u001b[0m\u001b[0;34m\u001b[0m\u001b[0m\n\u001b[1;32m     46\u001b[0m \u001b[0;34m\u001b[0m\u001b[0m\n",
            "\u001b[0;32m/usr/local/lib/python3.12/dist-packages/clu/metrics.py\u001b[0m in \u001b[0;36mcompute\u001b[0;34m(self)\u001b[0m\n\u001b[1;32m    620\u001b[0m     })\n\u001b[1;32m    621\u001b[0m \u001b[0;34m\u001b[0m\u001b[0m\n\u001b[0;32m--> 622\u001b[0;31m   \u001b[0;32mdef\u001b[0m \u001b[0mcompute\u001b[0m\u001b[0;34m(\u001b[0m\u001b[0mself\u001b[0m\u001b[0;34m)\u001b[0m \u001b[0;34m->\u001b[0m \u001b[0mdict\u001b[0m\u001b[0;34m[\u001b[0m\u001b[0mstr\u001b[0m\u001b[0;34m,\u001b[0m \u001b[0mjnp\u001b[0m\u001b[0;34m.\u001b[0m\u001b[0mndarray\u001b[0m\u001b[0;34m]\u001b[0m\u001b[0;34m:\u001b[0m\u001b[0;34m\u001b[0m\u001b[0;34m\u001b[0m\u001b[0m\n\u001b[0m\u001b[1;32m    623\u001b[0m     \u001b[0;34m\"\"\"Returns a dictionary mapping metric field name to `Metric.compute()`.\"\"\"\u001b[0m\u001b[0;34m\u001b[0m\u001b[0;34m\u001b[0m\u001b[0m\n\u001b[1;32m    624\u001b[0m     \u001b[0m_check_reduction_counter_ndim\u001b[0m\u001b[0;34m(\u001b[0m\u001b[0mself\u001b[0m\u001b[0;34m.\u001b[0m\u001b[0m_reduction_counter\u001b[0m\u001b[0;34m)\u001b[0m\u001b[0;34m\u001b[0m\u001b[0;34m\u001b[0m\u001b[0m\n",
            "\u001b[0;31mKeyboardInterrupt\u001b[0m: "
          ]
        }
      ]
    },
    {
      "cell_type": "markdown",
      "source": [
        "### 2. Gradient Steps Optimisation\n",
        "\n",
        "Even with good initialisation, **how** we step matters: the **learning rate** controls stability/speed; **momentum** helps traverse ravines; **Adam** adapts per-parameter step sizes with bias correction.\n"
      ],
      "metadata": {
        "id": "4owuWGJDHT8a"
      }
    },
    {
      "cell_type": "markdown",
      "source": [
        "#### 2.1 Effect of Learning Rate\n",
        "\n",
        "First, we’ll see plain gradient descent on a toy quadratic:\n",
        "$$\n",
        "f(\\theta) = \\tfrac12\\,\\theta^\\top A \\theta \\quad(\\text{convex})\n",
        "$$\n",
        "and visualise trajectories with different learning rates.\n",
        "\n",
        "Then we’ll compare train/test curves for a small MLP on our dataset with **low**, **good**, and **high** learning rates.\n"
      ],
      "metadata": {
        "id": "8jvzMdwRHYn2"
      }
    },
    {
      "cell_type": "code",
      "source": [
        "#@title Visualising GD paths on a 2D quadratic for different learning rates\n",
        "import numpy as np\n",
        "import matplotlib.pyplot as plt\n",
        "\n",
        "A = np.array([[3., 0.], [0., 1.]])\n",
        "def f(theta): return 0.5 * theta.T @ A @ theta\n",
        "def grad(theta): return A @ theta\n",
        "\n",
        "def gd(theta0, lr, steps=25):\n",
        "    path = [theta0.copy()]\n",
        "    theta = theta0.copy()\n",
        "    for _ in range(steps):\n",
        "        theta -= lr * grad(theta)\n",
        "        path.append(theta.copy())\n",
        "    return np.array(path)\n",
        "\n",
        "thetas = {}\n",
        "theta0 = np.array([2.5, 1.5])\n",
        "for lr in [0.05, 0.2, 0.6]:\n",
        "    thetas[lr] = gd(theta0, lr, steps=30)\n",
        "\n",
        "# contour plot\n",
        "xs = np.linspace(-3, 3, 200)\n",
        "ys = np.linspace(-3, 3, 200)\n",
        "X, Y = np.meshgrid(xs, ys)\n",
        "Z = 0.5*(3*X**2 + 1*Y**2)\n",
        "\n",
        "plt.figure(figsize=(6,5))\n",
        "cs = plt.contour(X, Y, Z, levels=20)\n",
        "plt.clabel(cs, inline=1, fontsize=8)\n",
        "for lr, path in thetas.items():\n",
        "    plt.plot(path[:,0], path[:,1], marker='o', label=f\"lr={lr}\")\n",
        "plt.legend(); plt.title(\"GD paths on quadratic\")\n",
        "plt.xlabel(\"theta1\"); plt.ylabel(\"theta2\")\n",
        "plt.show()\n"
      ],
      "metadata": {
        "colab": {
          "base_uri": "https://localhost:8080/",
          "height": 487
        },
        "id": "aqz0D3pgHhr6",
        "outputId": "1404ea59-67a6-4ca4-eeaf-8001f3f68a9b"
      },
      "execution_count": 27,
      "outputs": [
        {
          "output_type": "display_data",
          "data": {
            "text/plain": [
              "<Figure size 600x500 with 1 Axes>"
            ],
            "image/png": "[encoded data removed]"
          },
          "metadata": {}
        }
      ]
    },
    {
      "cell_type": "code",
      "source": [
        "#@title Train small MLP with low/good/high learning rates (SGD)\n",
        "def run_lr(lr):\n",
        "    model, params, opt, state = get_model_and_optimizer(\n",
        "        input_size=30, output_sizes=[32, 32, 1], seed=0, lr=lr, init_type=\"he\")\n",
        "    mh = {\"train_loss\": [], \"test_loss\": []}\n",
        "    # swap optimizer to SGD for this experiment\n",
        "    opt = optax.sgd(learning_rate=lr)\n",
        "    state = opt.init(params)\n",
        "    params2, state2, mh = train(epochs=60, params=params, model=model,\n",
        "                                optimizer=opt, opt_state=state,\n",
        "                                loss_grad_fn=loss_grad_fn, loss_fn=loss_func,\n",
        "                                train_ds=train_ds, test_ds=test_ds,\n",
        "                                metrics_history=mh)\n",
        "    return mh\n",
        "\n",
        "mh_low  = run_lr(1e-4)\n",
        "mh_good = run_lr(1e-2)\n",
        "mh_high = run_lr(5e-1)\n"
      ],
      "metadata": {
        "colab": {
          "base_uri": "https://localhost:8080/",
          "height": 468
        },
        "id": "duLEq-vHHplJ",
        "outputId": "2b16e226-a175-44a2-cfa7-6bc1fdc880fb"
      },
      "execution_count": 28,
      "outputs": [
        {
          "output_type": "display_data",
          "data": {
            "text/plain": [
              "<Figure size 700x500 with 1 Axes>"
            ],
            "image/png": "[encoded data removed]"
          },
          "metadata": {}
        }
      ]
    },
    {
      "cell_type": "markdown",
      "source": [
        "#### 2.2 Momentum\n",
        "\n",
        "**Update rule:**\n",
        "$$\n",
        "v_t = \\beta v_{t-1} + (1-\\beta)\\,\\nabla_\\theta L(\\theta),\\quad\n",
        "\\theta \\leftarrow \\theta - \\eta\\, v_t\n",
        "$$\n",
        "Momentum accelerates along shallow valleys and damps oscillations.\n",
        "\n",
        "**Exercise:** Add an `optimizer_name` switch to `get_model_and_optimizer` so we can choose `\"sgd\"`, `\"momentum\"`, or `\"adam\"` (default). For momentum, expose `beta` (e.g., 0.9).\n"
      ],
      "metadata": {
        "id": "INHNJNakHtHf"
      }
    },
    {
      "cell_type": "code",
      "source": [
        "#@title EXERCISE: Add optimizer_name= {\"sgd\", \"momentum\", \"adam\"} to get_model_and_optimizer\n",
        "def get_model_and_optimizer(input_size,\n",
        "                            output_sizes=None,\n",
        "                            seed=32,\n",
        "                            lr=1e-3,\n",
        "                            init_type=\"he\",\n",
        "                            optimizer_name=\"adam\",\n",
        "                            momentum_beta=0.9):\n",
        "    # pick kernel_init (same as before)\n",
        "    if init_type == \"he\":\n",
        "        kernel_init = he_normal\n",
        "    elif init_type == \"xavier\":\n",
        "        kernel_init = xavier_normal\n",
        "    elif init_type == \"normal\":\n",
        "        kernel_init = normal_std(0.05)\n",
        "    elif init_type == \"uniform\":\n",
        "        kernel_init = uniform_range(0.05)\n",
        "    else:\n",
        "        kernel_init = nn.initializers.lecun_normal()\n",
        "\n",
        "    model = MLP(output_sizes, kernel_init=kernel_init)\n",
        "    key = jax.random.PRNGKey(seed)\n",
        "    dummy = jnp.zeros((1, input_size), dtype=float)\n",
        "    params = model.init(key, dummy)\n",
        "\n",
        "    # TODO: select optimizer based on optimizer_name\n",
        "    if optimizer_name == \"sgd\":\n",
        "        optimizer = ...  # update me: optax.sgd(learning_rate=lr)\n",
        "    elif optimizer_name == \"momentum\":\n",
        "        optimizer = ...  # update me: optax.sgd(learning_rate=lr, momentum=momentum_beta, nesterov=False)\n",
        "    else:\n",
        "        optimizer = ...  # update me: optax.adam(learning_rate=lr)\n",
        "\n",
        "    opt_state = optimizer.init(params)\n",
        "    return model, params, optimizer, opt_state\n"
      ],
      "metadata": {
        "id": "niICXn0IH5yN"
      },
      "execution_count": 29,
      "outputs": []
    },
    {
      "cell_type": "code",
      "source": [
        "#@title ✅ SOLUTION: optimizer_name switch\n",
        "def get_model_and_optimizer(input_size,\n",
        "                            output_sizes=None,\n",
        "                            seed=32,\n",
        "                            lr=1e-3,\n",
        "                            init_type=\"he\",\n",
        "                            optimizer_name=\"adam\",\n",
        "                            momentum_beta=0.9):\n",
        "    if init_type == \"he\":\n",
        "        kernel_init = he_normal\n",
        "    elif init_type == \"xavier\":\n",
        "        kernel_init = xavier_normal\n",
        "    elif init_type == \"normal\":\n",
        "        kernel_init = normal_std(0.05)\n",
        "    elif init_type == \"uniform\":\n",
        "        kernel_init = uniform_range(0.05)\n",
        "    else:\n",
        "        kernel_init = nn.initializers.lecun_normal()\n",
        "\n",
        "    model = MLP(output_sizes, kernel_init=kernel_init)\n",
        "    key = jax.random.PRNGKey(seed)\n",
        "    dummy = jnp.zeros((1, input_size), dtype=float)\n",
        "    params = model.init(key, dummy)\n",
        "\n",
        "    if optimizer_name == \"sgd\":\n",
        "        optimizer = optax.sgd(learning_rate=lr)\n",
        "    elif optimizer_name == \"momentum\":\n",
        "        optimizer = optax.sgd(learning_rate=lr, momentum=momentum_beta, nesterov=False)\n",
        "    else:\n",
        "        optimizer = optax.adam(learning_rate=lr)\n",
        "\n",
        "    opt_state = optimizer.init(params)\n",
        "    return model, params, optimizer, opt_state\n"
      ],
      "metadata": {
        "id": "QZngUCRIH9aJ"
      },
      "execution_count": 30,
      "outputs": []
    },
    {
      "cell_type": "code",
      "source": [
        "#@title Demo: Visual momentum effect on our dataset\n",
        "epochs = 80\n",
        "cfgs = [\n",
        "    (\"SGD\",       dict(optimizer_name=\"sgd\", lr=1e-2)),\n",
        "    (\"Momentum\",  dict(optimizer_name=\"momentum\", lr=1e-2, momentum_beta=0.9)),\n",
        "]\n",
        "histories = {}\n",
        "for name, kwargs in cfgs:\n",
        "    model, params, opt, state = get_model_and_optimizer(\n",
        "        input_size=30, output_sizes=[64,64,1], seed=0, init_type=\"he\", **kwargs)\n",
        "    mh = {\"train_loss\": [], \"test_loss\": []}\n",
        "    params, state, mh = train(epochs, params, model, opt, state,\n",
        "                              loss_grad_fn, loss_func, train_ds, test_ds, mh)\n",
        "    histories[name] = mh\n"
      ],
      "metadata": {
        "colab": {
          "base_uri": "https://localhost:8080/",
          "height": 468
        },
        "id": "CWngW2jEIBam",
        "outputId": "1cb26047-c658-4b09-eba2-927329036c7e"
      },
      "execution_count": 31,
      "outputs": [
        {
          "output_type": "display_data",
          "data": {
            "text/plain": [
              "<Figure size 700x500 with 1 Axes>"
            ],
            "image/png": "[encoded data removed]"
          },
          "metadata": {}
        }
      ]
    },
    {
      "cell_type": "markdown",
      "source": [
        "#### 2.3 Adam Optimizer\n",
        "\n",
        "Adam maintains **exponentially decaying moving averages** of gradients and squared gradients and applies **bias correction**:\n",
        "\n",
        "**Pseudocode:**\n"
      ],
      "metadata": {
        "id": "rZyAEH_zIED7"
      }
    },
    {
      "cell_type": "markdown",
      "source": [
        "\n",
        "**Exercise:** Using the `optimizer_name` switch you added, instantiate Adam and compare **SGD vs. Momentum vs. Adam**.\n"
      ],
      "metadata": {
        "id": "qOuZCZwlIOCd"
      }
    },
    {
      "cell_type": "code",
      "source": [
        "#@title ✅ SOLUTION: Compare SGD / Momentum / Adam side-by-side\n",
        "epochs = 80\n",
        "cfgs = [\n",
        "    (\"SGD\",      dict(optimizer_name=\"sgd\", lr=1e-2)),\n",
        "    (\"Momentum\", dict(optimizer_name=\"momentum\", lr=1e-2, momentum_beta=0.9)),\n",
        "    (\"Adam\",     dict(optimizer_name=\"adam\", lr=1e-3)),\n",
        "]\n",
        "\n",
        "histories = {}\n",
        "for name, kwargs in cfgs:\n",
        "    model, params, opt, state = get_model_and_optimizer(\n",
        "        input_size=30, output_sizes=[64,64,1], seed=1, init_type=\"he\", **kwargs)\n",
        "    mh = {\"train_loss\": [], \"test_loss\": []}\n",
        "    params, state, mh = train(epochs, params, model, opt, state,\n",
        "                              loss_grad_fn, loss_func, train_ds, test_ds, mh)\n",
        "    histories[name] = mh\n"
      ],
      "metadata": {
        "colab": {
          "base_uri": "https://localhost:8080/",
          "height": 468
        },
        "id": "kbBA7roJIMIz",
        "outputId": "2003c109-fc76-427c-996f-ea2a9430e3db"
      },
      "execution_count": 32,
      "outputs": [
        {
          "output_type": "display_data",
          "data": {
            "text/plain": [
              "<Figure size 700x500 with 1 Axes>"
            ],
            "image/png": "[encoded data removed]"
          },
          "metadata": {}
        }
      ]
    },
    {
      "cell_type": "markdown",
      "source": [
        "### 3. Regularisation\n",
        "\n",
        "Regularisation discourages overly complex solutions that overfit the training data. We’ll implement **L2/weight decay** and **early stopping**, then briefly list other useful methods.\n",
        "\n",
        "> Reference slides: **CM20315 Regularization slides** (add your link here).\n"
      ],
      "metadata": {
        "id": "BIGSComnIgLR"
      }
    },
    {
      "cell_type": "markdown",
      "source": [
        "#### 3.1 L2 Regularisation (Weight Decay)\n",
        "\n",
        "**Objective:**\n",
        "$$\n",
        "L_{\\text{reg}}(\\theta) = L_{\\text{data}}(\\theta) + \\lambda \\|\\theta\\|_2^2\n",
        "$$\n",
        "\n",
        "**Probabilistic view:** Equivalent to a **Gaussian prior** on weights $ \\theta \\sim \\mathcal{N}(0,\\ \\sigma^2 I) $, where $\\lambda \\propto 1/\\sigma^2$.\n",
        "\n",
        "**Exercise:** Modify `loss_func` to add L2 penalty over all parameters when `weight_decay > 0`. Keep the original return signature `(loss, logits)`.\n"
      ],
      "metadata": {
        "id": "FdpZtxRoIjhQ"
      }
    },
    {
      "cell_type": "code",
      "source": [
        "#@title EXERCISE: Add weight decay to loss_func\n",
        "def loss_func(params, model, batch, weight_decay=0.0):\n",
        "    \"\"\"\n",
        "    Compute BCE loss + optional L2 penalty (weight decay).\n",
        "    Returns: (loss, logits)\n",
        "    \"\"\"\n",
        "    x, y = batch\n",
        "    # 1) logits\n",
        "    logits = ...  # update me: model.apply({\"params\": params[\"params\"]}, x)\n",
        "    y = jnp.reshape(jnp.array(y), logits.shape)\n",
        "\n",
        "    # 2) BCE with logits\n",
        "    bce = jnp.mean(optax.sigmoid_binary_cross_entropy(logits, y))\n",
        "\n",
        "    # 3) L2 penalty across all params if weight_decay > 0\n",
        "    if weight_decay > 0:\n",
        "        def sqsum(tree):\n",
        "            return sum([jnp.sum(jnp.square(v)) for v in jax.tree_util.tree_leaves(tree)])\n",
        "        l2 = ...  # update me: sqsum(params[\"params\"])\n",
        "    else:\n",
        "        l2 = 0.0\n",
        "\n",
        "    loss = bce + weight_decay * l2\n",
        "    return loss, logits\n",
        "\n",
        "# and its gradient fn\n",
        "loss_grad_fn = jax.value_and_grad(lambda p, m, batch: loss_func(p, m, batch)[0:2], has_aux=True)\n"
      ],
      "metadata": {
        "id": "kSjM7N_QIr15"
      },
      "execution_count": 33,
      "outputs": []
    },
    {
      "cell_type": "code",
      "source": [
        "#@title ✅ SOLUTION: L2 weight decay in loss_func\n",
        "def loss_func(params, model, batch, weight_decay=0.0):\n",
        "    x, y = batch\n",
        "    logits = model.apply({\"params\": params[\"params\"]}, jnp.array(x.to_numpy()) if hasattr(x, \"to_numpy\") else x)\n",
        "    y = jnp.reshape(jnp.array(y), logits.shape)\n",
        "\n",
        "    bce = jnp.mean(optax.sigmoid_binary_cross_entropy(logits, y))\n",
        "\n",
        "    l2 = 0.0\n",
        "    if weight_decay > 0:\n",
        "        def sqsum(tree):\n",
        "            return sum([jnp.sum(jnp.square(v)) for v in jax.tree_util.tree_leaves(tree)])\n",
        "        l2 = sqsum(params[\"params\"])\n",
        "\n",
        "    loss = bce + weight_decay * l2\n",
        "    return loss, logits\n",
        "\n",
        "loss_grad_fn = jax.value_and_grad(lambda p, m, batch: loss_func(p, m, batch)[0:2], has_aux=True)\n"
      ],
      "metadata": {
        "id": "QxZT5W8NIxqO"
      },
      "execution_count": 34,
      "outputs": []
    },
    {
      "cell_type": "code",
      "source": [
        "#@title Practical: train with/without L2 and compare test accuracy\n",
        "def predict(params, model, x, threshold=0.5):\n",
        "    logits = model.apply({\"params\": params[\"params\"]}, jnp.array(x.to_numpy()) if hasattr(x, \"to_numpy\") else x)\n",
        "    probs = jax.nn.sigmoid(logits)\n",
        "    preds = (probs >= threshold).astype(jnp.int32)\n",
        "    return preds.squeeze()\n",
        "\n",
        "def evaluate_accuracy(params, model, x, y):\n",
        "    yhat = predict(params, model, x)\n",
        "    ytrue = jnp.array(y.to_numpy() if hasattr(y, \"to_numpy\") else y)\n",
        "    return (yhat == ytrue).mean()\n",
        "\n",
        "epochs = 80\n",
        "output_sizes = [64,64,1]\n",
        "\n",
        "# no weight decay\n",
        "model0, params0, opt0, state0 = get_model_and_optimizer(30, output_sizes, seed=0, init_type=\"he\", optimizer_name=\"adam\", lr=1e-3)\n",
        "mh0 = {\"train_loss\": [], \"test_loss\": []}\n",
        "params0, state0, mh0 = train(epochs, params0, model0, opt0, state0,\n",
        "                             loss_grad_fn, lambda p,m,b: loss_func(p,m,b,weight_decay=0.0),\n",
        "                             train_ds, test_ds, mh0)\n",
        "acc0 = float(evaluate_accuracy(params0, model0, x_test, y_test))\n",
        "\n",
        "# with weight decay\n",
        "model1, params1, opt1, state1 = get_model_and_optimizer(30, output_sizes, seed=0, init_type=\"he\", optimizer_name=\"adam\", lr=1e-3)\n",
        "mh1 = {\"train_loss\": [], \"test_loss\": []}\n",
        "params1, state1, mh1 = train(epochs, params1, model1, opt1, state1,\n",
        "                             loss_grad_fn, lambda p,m,b: loss_func(p,m,b,weight_decay=1e-5),\n",
        "                             train_ds, test_ds, mh1)\n",
        "acc1 = float(evaluate_accuracy(params1, model1, x_test, y_test))\n",
        "\n",
        "print(f\"Test accuracy (no WD): {acc0:.4f}\")\n",
        "print(f\"Test accuracy (WD=1e-5): {acc1:.4f}\")\n"
      ],
      "metadata": {
        "colab": {
          "base_uri": "https://localhost:8080/",
          "height": 503
        },
        "id": "AedbJtiyI19n",
        "outputId": "6ee31bf9-9361-4e2f-a6fd-0dcfcbc90dfb"
      },
      "execution_count": 35,
      "outputs": [
        {
          "output_type": "display_data",
          "data": {
            "text/plain": [
              "<Figure size 700x500 with 1 Axes>"
            ],
            "image/png": "[encoded data removed]"
          },
          "metadata": {}
        },
        {
          "output_type": "stream",
          "name": "stdout",
          "text": [
            "Test accuracy (no WD): 0.8860\n",
            "Test accuracy (WD=1e-5): 0.9211\n"
          ]
        }
      ]
    },
    {
      "cell_type": "markdown",
      "source": [
        "#### 3.2 Early Stopping\n",
        "\n",
        "**Idea:** Stop training when validation loss stops improving for some **patience**. This reduces the *effective capacity* and helps generalisation.\n",
        "\n",
        "We’ll add a simple early-stopping wrapper.  \n",
        "\n",
        "**Exercise (Easy):** Implement `train_with_early_stopping` with `patience` and `min_delta`. Save the **best** parameters (lowest test loss).\n"
      ],
      "metadata": {
        "id": "DoarzCZlI5fi"
      }
    },
    {
      "cell_type": "code",
      "source": [
        "#@title EXERCISE: Early stopping training loop\n",
        "def train_with_early_stopping(epochs, params, model, optimizer, opt_state,\n",
        "                              loss_grad_fn, loss_fn, train_ds, test_ds,\n",
        "                              metrics_history, patience=10, min_delta=0.0):\n",
        "    best_loss = jnp.inf\n",
        "    best_params = params\n",
        "    wait = 0\n",
        "\n",
        "    for i in range(epochs):\n",
        "        train_metrics = TrainMetrics.empty()\n",
        "        for batch in train_ds.as_numpy_iterator():\n",
        "            params, opt_state, train_metrics = train_step(params, model, optimizer, opt_state, loss_grad_fn, train_metrics, batch)\n",
        "        for metric, value in train_metrics.compute().items():\n",
        "            metrics_history[f\"train_{metric}\"].append(value)\n",
        "\n",
        "        eval_metrics = EvalMetrics.empty()\n",
        "        for batch in test_ds.as_numpy_iterator():\n",
        "            eval_metrics = eval_step(params, model, loss_fn, eval_metrics, batch)\n",
        "        # get current validation loss\n",
        "        val_loss = ...  # update me: list(eval_metrics.compute().items())[0][1] or eval_metrics.compute()[\"loss\"]\n",
        "        metrics_history[\"test_loss\"].append(val_loss)\n",
        "\n",
        "        # early stopping check\n",
        "        if best_loss - val_loss > min_delta:\n",
        "            best_loss = val_loss\n",
        "            best_params = ...  # update me\n",
        "            wait = 0\n",
        "        else:\n",
        "            wait += 1\n",
        "            if wait >= patience:\n",
        "                print(f\"Early stopping at epoch {i+1}. Best val loss={float(best_loss):.4f}\")\n",
        "                break\n",
        "\n",
        "    return best_params, opt_state, metrics_history\n"
      ],
      "metadata": {
        "id": "BjDCB3s1I7wb"
      },
      "execution_count": 36,
      "outputs": []
    },
    {
      "cell_type": "code",
      "source": [
        "#@title ✅ SOLUTION: Early stopping training loop\n",
        "def train_with_early_stopping(epochs, params, model, optimizer, opt_state,\n",
        "                              loss_grad_fn, loss_fn, train_ds, test_ds,\n",
        "                              metrics_history, patience=10, min_delta=0.0):\n",
        "    best_loss = jnp.inf\n",
        "    best_params = params\n",
        "    wait = 0\n",
        "\n",
        "    for i in range(epochs):\n",
        "        train_metrics = TrainMetrics.empty()\n",
        "        for batch in train_ds.as_numpy_iterator():\n",
        "            params, opt_state, train_metrics = train_step(params, model, optimizer, opt_state, loss_grad_fn, train_metrics, batch)\n",
        "        for metric, value in train_metrics.compute().items():\n",
        "            metrics_history[f\"train_{metric}\"].append(value)\n",
        "\n",
        "        eval_metrics = EvalMetrics.empty()\n",
        "        for batch in test_ds.as_numpy_iterator():\n",
        "            eval_metrics = eval_step(params, model, loss_fn, eval_metrics, batch)\n",
        "\n",
        "        cur = eval_metrics.compute()\n",
        "        val_loss = cur[\"loss\"] if \"loss\" in cur else list(cur.values())[0]\n",
        "        metrics_history[\"test_loss\"].append(val_loss)\n",
        "\n",
        "        if best_loss - val_loss > min_delta:\n",
        "            best_loss = val_loss\n",
        "            best_params = params\n",
        "            wait = 0\n",
        "        else:\n",
        "            wait += 1\n",
        "            if wait >= patience:\n",
        "                print(f\"Early stopping at epoch {i+1}. Best val loss={float(best_loss):.4f}\")\n",
        "                break\n",
        "\n",
        "    return best_params, opt_state, metrics_history\n"
      ],
      "metadata": {
        "id": "UV0UvstiI9AR"
      },
      "execution_count": 37,
      "outputs": []
    },
    {
      "cell_type": "code",
      "source": [
        "#@title Compare with vs. without early stopping\n",
        "epochs = 200\n",
        "output_sizes = [64,64,1]\n",
        "\n",
        "# baseline long training (no ES)\n",
        "model_a, params_a, opt_a, state_a = get_model_and_optimizer(30, output_sizes, seed=0, init_type=\"he\", optimizer_name=\"adam\", lr=1e-3)\n",
        "mh_a = {\"train_loss\": [], \"test_loss\": []}\n",
        "params_a, state_a, mh_a = train(epochs, params_a, model_a, opt_a, state_a,\n",
        "                                loss_grad_fn, loss_func, train_ds, test_ds, mh_a)\n",
        "acc_a = float(evaluate_accuracy(params_a, model_a, x_test, y_test))\n",
        "\n",
        "# with ES\n",
        "model_b, params_b, opt_b, state_b = get_model_and_optimizer(30, output_sizes, seed=0, init_type=\"he\", optimizer_name=\"adam\", lr=1e-3)\n",
        "mh_b = {\"train_loss\": [], \"test_loss\": []}\n",
        "best_params_b, state_b, mh_b = train_with_early_stopping(\n",
        "    epochs, params_b, model_b, opt_b, state_b,\n",
        "    loss_grad_fn, loss_func, train_ds, test_ds, mh_b,\n",
        "    patience=15, min_delta=1e-4)\n",
        "acc_b = float(evaluate_accuracy(best_params_b, model_b, x_test, y_test))\n",
        "\n",
        "print(f\"Test accuracy (no ES): {acc_a:.4f}\")\n",
        "print(f\"Test accuracy (with ES): {acc_b:.4f}\")\n"
      ],
      "metadata": {
        "id": "u8gQUEjEJCuh"
      },
      "execution_count": null,
      "outputs": []
    },
    {
      "cell_type": "markdown",
      "source": [
        "#### 3.3 Other approaches (briefly)\n",
        "\n",
        "- **Dropout:** Randomly zero out activations during training to reduce co-adaptation.  \n",
        "- **Ensembling:** Average predictions from multiple models.  \n",
        "- **Noise injection:** Add noise to inputs/weights/gradients.  \n",
        "- **Bayesian approaches:** Place priors over parameters and infer posteriors.  \n",
        "- **Transfer learning / Multi-task learning:** Share representations to regularise.  \n",
        "- **Self-supervised pretraining:** Better initial representations → less overfitting.  \n",
        "- **Data augmentation:** Domain-appropriate transforms that preserve labels.\n",
        "\n",
        "> Try these as stretch tasks: add dropout layers to the MLP, or augment features if you had images/text/time-series data.\n",
        "\n",
        "<img src=\"https://lh3.googleusercontent.com/d/1wDmuNI-kTziT5ZUFxhpstCRkjOE9obSr\" width=\"1000\"/>\n",
        "\n"
      ],
      "metadata": {
        "id": "hlEtTtPfJGFR"
      }
    },
    {
      "cell_type": "markdown",
      "source": [
        "### Wrap-up\n",
        "\n",
        "- **Initialisation** affects signal propagation and convergence — He works well with ReLU/GELU.  \n",
        "- **Optimisers** trade stability and speed — Momentum and Adam generally accelerate training.  \n",
        "- **Regularisation** (L2, early stopping, …) improves generalisation.\n",
        "\n",
        "**Next:** You can extend this part with **learning-rate schedules** (e.g., cosine, step decay) and **hyperparameter sweeps** (grid/random/Bayesian) to complete the section promised in your outline.\n"
      ],
      "metadata": {
        "id": "6tpSuRDAJIZ-"
      }
    },
    {
      "cell_type": "markdown",
      "metadata": {
        "id": "8dmPgHGhH8oU"
      },
      "source": [
        "## Appendix\n"
      ]
    },
    {
      "cell_type": "markdown",
      "metadata": {
        "id": "d6YYbpyXpqib"
      },
      "source": [
        "### References\n",
        "1. Flax module documentation: https://flax-linen.readthedocs.io/en/latest/api_reference/flax.linen/module.html\n"
      ]
    },
    {
      "cell_type": "markdown",
      "metadata": {
        "id": "o1ndpYE50BpG"
      },
      "source": [
        "## Feedback\n",
        "\n",
        "Please provide feedback that we can use to improve our practicals in the future."
      ]
    },
    {
      "cell_type": "code",
      "execution_count": null,
      "metadata": {
        "cellView": "form",
        "id": "OIZvkhfRz9Jz"
      },
      "outputs": [],
      "source": [
        "# @title Generate Feedback Form. (Run Cell)\n",
        "from IPython.display import HTML\n",
        "\n",
        "HTML(\n",
        "    \"\"\"\n",
        "<iframe\n",
        "\tsrc=\"https://forms.gle/CJCNwwcLW9Y3jZDG7\",\n",
        "  width=\"80%\"\n",
        "\theight=\"1200px\" >\n",
        "\tLoading...\n",
        "</iframe>\n",
        "\"\"\"\n",
        ")"
      ]
    },
    {
      "cell_type": "markdown",
      "metadata": {
        "id": "oglV4kHMWnIN"
      },
      "source": [
        "<img src=\"https://baobab.deeplearningindaba.com/static/media/indaba-logo-dark.d5a6196d.png\" width=\"50%\" />"
      ]
    }
  ],
  "metadata": {
    "colab": {
      "provenance": []
    },
    "kernelspec": {
      "display_name": "Python 3",
      "name": "python3"
    },
    "language_info": {
      "name": "python"
    }
  },
  "nbformat": 4,
  "nbformat_minor": 0
}