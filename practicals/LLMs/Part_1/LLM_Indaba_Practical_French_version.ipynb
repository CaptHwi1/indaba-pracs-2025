{
 "cells": [
  {
   "cell_type": "markdown",
   "metadata": {
    "id": "m2s4kN_QPQVe"
   },
   "source": [
    "# Pratique LLM Indaba 2025\n",
    "\n",
    "<img src=\"https://res.cloudinary.com/take-memories/images/f_auto,dpr_auto,q_auto,w_2000,c_fill,h_1200/gm/hbb8oblj5tozmimydbaz/rwanda-sehenswurdigkeiten\" width=\"60%\"/>\n",
    "\n",
    "© Deep Learning Indaba 2025. Licence Apache 2.0.\n",
    "\n",
    "<a href=\"https://colab.research.google.com/github/deep-learning-indaba/indaba-pracs-2025/blob/main/practicals/LLMs/Part_1/LLM_Indaba_Practical_French_version.ipynb\" target=\"_parent\"><img src=\"https://colab.research.google.com/assets/colab-badge.svg\" alt=\"Ouvrir dans Colab\"/></a>\n",
    "\n",
    "**Auteurs :** Tejumade Afonja, Qurat Ul Ain (Annie), Jabez Magomere, Abla Hagani, Amel Sellami, Massimo Nicosia, Sebastian Bodenstein.\n",
    "\n",
    "**Relecteurs :** Ulrich A. Mbou Sob, Siddarth Singh, Sasha Abramowitz, Ruan de Kock.\n",
    "\n",
    "**Traducteurs** Amel Sellami, Abla Hagani.\n",
    "\n",
    "**Introduction**\n",
    "\n",
    "Les grands modèles de langage (LLMs) comme ChatGPT et Gemini ont révolutionné le domaine du traitement automatique du langage naturel, mais comprendre leur fonctionnement interne peut être complexe. Ce cours pratique est conçu pour démystifier les concepts clés derrière ces modèles, en commençant par l’idée fondamentale de l’attention, puis en explorant l’architecture qui alimente les systèmes les plus avancés d’aujourd’hui. Au fil du parcours, vous acquerrez des connaissances pratiques sur la manière dont la langue et la tokenisation influencent le comportement et les coûts des modèles, et vous entraînerez même votre propre petit modèle de langage (SLM).\n",
    "\n",
    "Tout au long de cette pratique, nous couvrirons les domaines clés suivants :\n",
    "\n",
    "1. **Chargement et interaction avec les LLMs :** Expérimentez directement avec des modèles pré-entraînés de Hugging Face et comprenez comment générer du texte et contrôler la sortie via différents paramètres.\n",
    "\n",
    "2. **Explorer les applications concrètes :** Découvrez comment les LLMs sont utilisés dans diverses tâches telles que la génération de code, la réponse aux questions, l’écriture créative, et la réponse aux questions visuelles.\n",
    "3. **Architecture Transformer :** Plongez dans les éléments constitutifs des LLMs modernes, incluant un rappel rapide de l’architecture Transformer et de ses composants clés comme l’attention automatique (self-attention) et l’attention multi-têtes (multi-head attention).\n",
    "4. **Tokenisation et embeddings :** Apprenez comment le texte est converti en représentations numériques compréhensibles par les LLMs, et explorez l’impact des différentes stratégies de tokenisation selon les langues.\n",
    "5. **Entraînement de votre propre LLM :** Implémentez et entraînez un modèle décodeur Transformer simplifié à partir de zéro en utilisant un jeu de données des œuvres de Shakespeare.\n",
    "\n",
    "6. **Le coût de la langue :** Analysez comment la tokenisation peut affecter le coût d’utilisation des LLMs commerciaux, particulièrement selon les différentes langues.\n",
    "\n",
    "Cette pratique est adaptée aux personnes ayant un niveau débutant à intermédiaire en apprentissage profond et en traitement du langage naturel. Nous recommandons d’avoir une compréhension de base en algèbre linéaire.\n",
    "\n",
    "Commençons !\n",
    "\n",
    "**Sujets :**\n",
    "\n",
    "Contenu : \\[<font color='orange'>Introduction à Hugging Face</font>, <font color='orange'>Interagir avec les LLMs</font>, <font color='orange'>Tokenisation</font>, <font color='orange'>Embeddings</font>, <font color='orange'>Architecture Transformer</font>, <font color='green'>Mécanisme d’Attention</font>, <font color='green'>Entraîner votre propre LLM depuis zéro</font>]\n",
    "\n",
    "Niveau : <font color='orange'>Débutant</font>, <font color='green'>Intermédiaire</font>\n",
    "\n",
    "**Objectifs d’apprentissage :**\n",
    "\n",
    "* Comprendre le concept derrière [l’attention](https://arxiv.org/abs/1706.03762) et pourquoi elle est utilisée.\n",
    "* Présenter et décrire les blocs fondamentaux de l’[architecture Transformer](https://arxiv.org/abs/1706.03762) ainsi qu’une intuition sur la conception de cette architecture.\n",
    "* Comparer les tokenizers à travers différentes langues et analyser comment ces différences influencent les coûts monétaires associés.\n",
    "* Construire et entraîner votre propre LLM.\n",
    "\n",
    "**Prérequis :**\n",
    "\n",
    "* Connaissances de base en apprentissage profond.\n",
    "* Familiarité avec le traitement du langage naturel (NLP).\n",
    "* Compréhension de base en algèbre linéaire.\n",
    "\n"
   ]
  },
  {
   "cell_type": "markdown",
   "metadata": {
    "id": "XM-X0-PoZOAB"
   },
   "source": [
    "**Plan:**"
   ]
  },
  {
   "cell_type": "markdown",
   "metadata": {
    "colab_type": "toc",
    "id": "7_PaafMKZFHb"
   },
   "source": [
    "# [Pratique LLM Indaba 2025](#scrollTo=m2s4kN_QPQVe)\n",
    "\n",
    ">>[Installation et configuration [Débutant]](#scrollTo=Zgn0dW3IH9NQ)\n",
    "\n",
    ">>>[[Lancez-moi] Installations, Imports et Fonctions utilitaires](#scrollTo=6EqhIg1odqg0)\n",
    "\n",
    ">>[🤖 Charger un modèle depuis Hugging Face et interagir localement [Débutant]](#scrollTo=ElXJ1BGzH5BJ)\n",
    "\n",
    ">>>[🎯 Objectif](#scrollTo=8Lrb9vL2uO5A)\n",
    "\n",
    ">>>>>[🧠 Qu'est-ce que les grands modèles de langage ?](#scrollTo=me-nBsxtGBA1)\n",
    "\n",
    ">>>>[À propos de HuggingFace](#scrollTo=ltfz9jstGSTJ)\n",
    "\n",
    ">>>>>[Votre premier modèle de langage](#scrollTo=M1e-FfGzGrr_)\n",
    "\n",
    ">>>>[Comprendre les paramètres de génération](#scrollTo=5nflrXCXHY6u)\n",
    "\n",
    ">>>[Température](#scrollTo=5nflrXCXHY6u)\n",
    "\n",
    ">>>[Top-p (Échantillonnage par noyau)](#scrollTo=5nflrXCXHY6u)\n",
    "\n",
    ">>>>[Modèles de langage dans des applications réelles](#scrollTo=J5U3YbK_IGel)\n",
    "\n",
    ">>[🔍 Récapitulatif rapide de l’architecture Transformer [Débutant]](#scrollTo=svfeQO7VIOIu)\n",
    "\n",
    ">>>[Vue d'ensemble du décodeur Transformer](#scrollTo=brwKNHT0-Hhl)\n",
    "\n",
    ">>[🧱 Tokenisation [Débutant]](#scrollTo=AtWMaTddww65)\n",
    "\n",
    ">>>[🎯 Essayez par vous-même : Terrain de jeu du tokenizer](#scrollTo=_Ku_PEI0PF4l)\n",
    "\n",
    ">>>[Jouez avec le tokenizer Gemma](#scrollTo=p6qNp4IhGP-K)\n",
    "\n",
    ">>[𓊳 Embeddings [Débutant]](#scrollTo=9YPYutB1TAes)\n",
    "\n",
    ">>[║ Codages positionnels : pourquoi l’ordre compte [Débutant]](#scrollTo=WNO703V9SBcI)\n",
    "\n",
    ">>>>>[Fonctions sinus et cosinus : une façon simple d’ajouter des informations de position](#scrollTo=nxkDif_aRGKy)\n",
    "\n",
    ">>[Les embeddings informent l’attention [Débutant]](#scrollTo=Qkh0KgRPdDf8)\n",
    "\n",
    ">>[🔍 Attention [Intermédiaire]](#scrollTo=vY02IFQouwjN)\n",
    "\n",
    ">>>[Entre self-attention et multi-head attention](#scrollTo=_qJdLHPBL1I8)\n",
    "\n",
    ">>>[Self-Attention](#scrollTo=TUPfggF9L9tE)\n",
    "\n",
    ">>>[Attention masquée](#scrollTo=yJ4lTjELMj68)\n",
    "\n",
    ">>>[La bête aux multiples têtes : Multi-Head Attention](#scrollTo=X31b1Pt6MvJ8)\n",
    "\n",
    ">>>[Attention par produit scalaire mis à l’échelle](#scrollTo=WN0q3iq9SMdn)\n",
    "\n",
    ">>[À garder à l’esprit :](#scrollTo=nF3tNzT_NGIm)\n",
    "\n",
    ">>[🏗️ Entraînement de votre propre LLM (Transformers) [Intermédiaire]](#scrollTo=5X4tRtSZxGHg)\n",
    "\n",
    ">>>[Objectif](#scrollTo=5X4tRtSZxGHg)\n",
    "\n",
    ">>>[Bloc Transformer [Intermédiaire]](#scrollTo=e71jR6TYRHEP)\n",
    "\n",
    ">>>>[Réseau Feed Forward (FFN) / Perceptron multicouche (MLP) [Débutant]](#scrollTo=5yAG_MbgRWEs)\n",
    "\n",
    ">>>>[Bloc Add & Norm [Débutant]](#scrollTo=J2Us0NGFRUPn)\n",
    "\n",
    ">>>[Construction du décodeur Transformer / LLM [Intermédiaire]](#scrollTo=i0Z_7oRRRqPg)\n",
    "\n",
    ">>>[Entraînement de votre LLM](#scrollTo=7nsFaXhdSKZG)\n",
    "\n",
    ">>>>[Objectif d’entraînement [Intermédiaire]](#scrollTo=o6BUm34sSRJH)\n",
    "\n",
    ">>>>[Modèles d’entraînement [Intermédiaire]](#scrollTo=7Jp_1cbQSnzq)\n",
    "\n",
    ">>>>[Inspection du LLM entraîné [Débutant]](#scrollTo=qE5N87UWT_uK)\n",
    "\n",
    ">>[À méditer : combien coûte une conversation avec un LLM dans votre langue ?](#scrollTo=tixtBEtRPZ5n)\n",
    "\n",
    ">>>[Calculons le coût des tokens](#scrollTo=tixtBEtRPZ5n)\n",
    "\n",
    ">>>>[💰 Estimations d’exemple :](#scrollTo=tixtBEtRPZ5n)\n",
    "\n",
    ">>>>[💸 Combien coûte ma langue ? — Tokenisation en code](#scrollTo=QVTduxk4PdYC)\n",
    "\n",
    ">>>>[🧵 Points clés](#scrollTo=WwCo9941QRo2)\n",
    "\n",
    ">[Conclusion](#scrollTo=fV3YG7QOZD-B)\n",
    "\n",
    ">[Retour d’expérience](#scrollTo=o1ndpYE50BpG)\n"
   ]
  },
  {
   "cell_type": "markdown",
   "metadata": {
    "id": "GOJzzH88ZJL6"
   },
   "source": [
    "**Avant** de commencer:\n",
    "\n",
    "Pour cela, vous devrez utiliser un GPU pour accélérer l'entraînement.Pour ce faire, accédez au menu \"Runtime\" dans Colab, sélectionnez \"Modifier le type d'exécution\", puis dans le menu contextuel, choisissez \"GPU\" dans la case \"Accelerator matériel\"."
   ]
  },
  {
   "cell_type": "markdown",
   "metadata": {
    "id": "952qogb79nnY"
   },
   "source": [
    "***Niveau** d'expérience suggéré dans ce sujet:\n",
    "\n",
    "| Level         | Experience                            |\n",
    "| --- | --- |\n",
    "`Débutant`      | C’est la première fois que je découvre ce domaine. |\n",
    "`Intermédiaire` | J’ai suivi quelques cours ou introductions de base sur ce sujet. |\n",
    "`Avancé`        | Je travaille dans ce domaine/sujet au quotidien. |\n"
   ]
  },
  {
   "cell_type": "markdown",
   "metadata": {
    "id": "Zgn0dW3IH9NQ"
   },
   "source": [
    "## Installation et configuration [<font color = 'orange'> débutant </font>]"
   ]
  },
  {
   "cell_type": "code",
   "execution_count": null,
   "metadata": {
    "cellView": "form",
    "id": "YBdDHcI_ArCR"
   },
   "outputs": [],
   "source": [
    "# @title **Chemins à suivre :** Quel est votre niveau d'expérience sur les sujets présentés dans ce carnet ? (Exécuter Cell)\n",
    "experience = 'beginner' #@param [\"beginner\", \"intermediate\", \"advanced\"]\n",
    "sections_to_follow=''\n",
    "\n",
    "\n",
    "if experience == 'beginner': sections_to_follow = '''Nous vous recommandons de ne pas essayer de réaliser toutes les tâches de codage, mais plutôt de parcourir chaque section et de vous assurer d’exécuter chaque cellule afin d’acquérir une compréhension pratique du comportement de ces modèles.'''\n",
    "\n",
    "elif experience == 'intermediate': sections_to_follow = '''\n",
    "Nous vous recommandons de parcourir chaque section de ce notebook et d’essayer les tâches de codage marquées comme débutant ou intermédiaire. Si vous bloquez sur le code, demandez de l’aide à un tuteur ou passez à une meilleure utilisation du temps de la pratique.\n",
    "'''\n",
    "\n",
    "elif experience == 'advanced': sections_to_follow = '''Nous vous recommandons de parcourir chaque section et d’essayer chaque tâche de codage jusqu’à ce que vous l’obteniez à fonctionner.'''\n",
    "\n",
    "\n",
    "print(f'D’après votre expérience, {sections_to_follow}.\\n Note : ceci est juste une recommandation, n’hésitez pas à explorer le colab comme bon vous semble si vous vous sentez à l’aise !')\n"
   ]
  },
  {
   "cell_type": "markdown",
   "metadata": {
    "id": "6EqhIg1odqg0"
   },
   "source": [
    "### [Exécutez-moi] Installations, importations et fonctions d'assistance"
   ]
  },
  {
   "cell_type": "code",
   "execution_count": null,
   "metadata": {
    "id": "BwvNaDj1VrPp"
   },
   "outputs": [],
   "source": [
    "import sys\n",
    "\n",
    "required_version = (3, 11)\n",
    "current_version = sys.version_info[:2]\n",
    "\n",
    "if current_version != required_version:\n",
    "    print(f\"⚠️ Warning: Expected Python {required_version[0]}.{required_version[1]}, but running {current_version[0]}.{current_version[1]}. Some package may not work as expected.\")"
   ]
  },
  {
   "cell_type": "code",
   "execution_count": null,
   "metadata": {
    "id": "lIYFviZCPd0w"
   },
   "outputs": [],
   "source": [
    "# Utilisez « uv pip install » pour exploiter le téléchargement/cache parallèle d’uv et réaliser des installations beaucoup plus rapides\n",
    "!pip install uv"
   ]
  },
  {
   "cell_type": "code",
   "execution_count": null,
   "metadata": {
    "id": "YUmZvGi-ozwR"
   },
   "outputs": [],
   "source": [
    "from IPython.display import clear_output  # pour effacer la sortie de la cellule une fois terminé\n",
    "\n",
    "# Groupés par fonctionnalité :\n",
    "#  • Seaborn & UMAP             → Tracé de graphiques et réduction de la dimensionnalité\n",
    "#  • LiveLossPlot               → Visualisation des métriques d'entraînement en temps réel\n",
    "#  • Accelerate & PEFT          → Accélération matérielle et ajustement fin (fine-tuning) efficace en paramètres\n",
    "#  • gensim, nltk               → Modélisation thématique et utilitaires NLP\n",
    "#  • torchvision                → Ensembles de données et transformations pour la vision par ordinateur\n",
    "#  • ipywidgets                 → Widgets de notebook interactifs\n",
    "#  • ipdb                       → Débogueur interactif\n",
    "#  • colorama                   → Formatage de la sortie de la console avec des couleurs\n",
    "#  • clear_output               → Efface la sortie de la cellule du notebook une fois l'installation terminée\n",
    "#  • Transformers & Datasets    → Bibliothèques de base pour le NLP\n",
    "#  • Gemma==3                   → Bundle de tokenizers & modèles (épinglé à la v3 pour la compatibilité)\n",
    "\n",
    "!uv pip install  \\\n",
    "    seaborn \\\n",
    "    umap-learn \\\n",
    "    livelossplot \\\n",
    "    accelerate \\\n",
    "    peft \\\n",
    "    # gensim \\\n",
    "    nltk \\\n",
    "    # torchvision \\\n",
    "    datasets \\\n",
    "    # ipywidgets \\\n",
    "    ipdb \\\n",
    "    # colorama \\\n",
    "    tf-keras \\\n",
    "    transformers \\\n",
    "    huggingface_hub \\\n",
    "    # numpy==1.22.0\n",
    "\n",
    "# efface la longue sortie d'installation\n",
    "clear_output()"
   ]
  },
  {
   "cell_type": "code",
   "execution_count": null,
   "metadata": {
    "id": "O9-wAi7pZ3DI"
   },
   "outputs": [],
   "source": [
    "# gemma 3 ne fonctionne pas avec uv install, il doit donc être installé séparément\n",
    "!pip install gemma==3\n",
    "clear_output()"
   ]
  },
  {
   "cell_type": "code",
   "execution_count": null,
   "metadata": {
    "id": "4boGA9rYdt9l"
   },
   "outputs": [],
   "source": [
    "# Importer les utilitaires système et mathématiques\n",
    "import os\n",
    "import sys\n",
    "import math\n",
    "import urllib.request\n",
    "import requests\n",
    "from huggingface_hub import hf_hub_download\n",
    "from PIL import Image\n",
    "from io import BytesIO\n",
    "\n",
    "\n",
    "# Vérifier les accélérateurs connectés (GPU ou TPU) et configurer en conséquence\n",
    "if os.environ.get(\"COLAB_GPU\") and int(os.environ[\"COLAB_GPU\"]) > 0:\n",
    "    print(\"Un GPU est connecté.\")\n",
    "elif \"COLAB_TPU_ADDR\" in os.environ and os.environ[\"COLAB_TPU_ADDR\"]:\n",
    "    print(\"Un TPU est connecté.\")\n",
    "    import jax.tools.colab_tpu\n",
    "    jax.tools.colab_tpu.setup_tpu()\n",
    "else:\n",
    "    print(\"Seul un accélérateur CPU est connecté.\")\n",
    "\n",
    "# Éviter que JAX n'alloue de la mémoire GPU\n",
    "os.environ['XLA_PYTHON_CLIENT_PREALLOCATE'] = \"false\"\n",
    "\n",
    "# Importer les bibliothèques pour l'apprentissage profond basé sur JAX\n",
    "import flax.linen as nn\n",
    "import jax\n",
    "import jax.numpy as jnp\n",
    "from jax import grad, jit, vmap\n",
    "import optax\n",
    "\n",
    "# Importer les bibliothèques liées au NLP et aux modèles\n",
    "import transformers\n",
    "from transformers import  AutoTokenizer,  AutoModel\n",
    "from transformers import BlipProcessor, BlipForQuestionAnswering # Pour le traitement d'images.\n",
    "\n",
    "from gemma import gm\n",
    "\n",
    "# Importer les bibliothèques de traitement d'images et de traçage de graphiques\n",
    "from livelossplot import PlotLosses\n",
    "import matplotlib.pyplot as plt\n",
    "import  numpy as np\n",
    "import seaborn as sns\n",
    "\n",
    "# Importer des utilitaires supplémentaires pour travailler avec du texte et des modèles\n",
    "import torch\n",
    "import itertools\n",
    "import random\n",
    "\n",
    "# Télécharger une image d'exemple à utiliser dans le notebook\n",
    "urllib.request.urlretrieve(\n",
    "    \"https://images.unsplash.com/photo-1529778873920-4da4926a72c2?ixlib=rb-1.2.1&ixid=MnwxMjA3fDB8MHxzZWFyY2h8MXx8Y3V0ZSUyMGNhdHxlbnwwfHwwfHw%3D&w=1000&q=80\",\n",
    "    \"cat.png\",\n",
    ")\n",
    "\n",
    "# Importer les bibliothèques pour le prétraitement du NLP et pour travailler avec des modèles pré-entraînés\n",
    "# import gensim\n",
    "from nltk.data import find\n",
    "import nltk\n",
    "nltk.download(\"word2vec_sample\")\n",
    "from sklearn.manifold import TSNE\n",
    "import matplotlib.pyplot as plt\n",
    "import pickle\n",
    "from sklearn.decomposition import PCA\n",
    "\n",
    "# Importer les outils Hugging Face et les widgets IPython\n",
    "# import huggingface_hub\n",
    "# import ipywidgets as widgets\n",
    "from IPython.display import display, HTML, clear_output\n",
    "# import colorama\n",
    "\n",
    "# Configurer Matplotlib pour que la sortie soit au format SVG afin d'obtenir des graphiques de meilleure qualité\n",
    "%config InlineBackend.figure_format = 'svg'"
   ]
  },
  {
   "cell_type": "code",
   "execution_count": null,
   "metadata": {
    "id": "6-zS13TTVrPp"
   },
   "outputs": [],
   "source": [
    "print(\"✅ Configuration terminée !\")\n",
    "print(f\"🐍 Version de Python : {sys.version}\")\n",
    "print(f\"🔥 Version de PyTorch : {torch.__version__}\")\n",
    "print(f\"🤗 Version de Transformers : {transformers.__version__}\")\n",
    "print(f\"💻 CUDA disponible : {torch.cuda.is_available()}\")"
   ]
  },
  {
   "cell_type": "code",
   "execution_count": null,
   "metadata": {
    "id": "-9X10jhocGaS"
   },
   "outputs": [],
   "source": [
    "# @title [Exécutez-moi] Fonctions d'assistance pour le tracé de graphiques.\n",
    "\n",
    "def plot_position_encodings(P, max_tokens, d_model):\n",
    "    \"\"\"\n",
    "    Trace la matrice des encodages de position.\n",
    "\n",
    "    Args:\n",
    "        P: Matrice d'encodage de position (tableau 2D).\n",
    "        max_tokens: Nombre maximum de tokens (lignes) à tracer.\n",
    "        d_model: Dimensionalité du modèle (colonnes) à tracer.\n",
    "    \"\"\"\n",
    "\n",
    "    # Définir la taille du graphique en fonction du nombre de tokens et des dimensions du modèle\n",
    "    plt.figure(figsize=(20, np.min([8, max_tokens])))\n",
    "\n",
    "    # Tracer la matrice d'encodage de position avec une carte de couleurs pour une meilleure visualisation\n",
    "    im = plt.imshow(P, aspect=\"auto\", cmap=\"Blues_r\")\n",
    "\n",
    "    # Ajouter une barre de couleurs pour indiquer les valeurs d'encodage\n",
    "    plt.colorbar(im, cmap=\"blue\")\n",
    "\n",
    "    # Afficher les indices d'embedding comme des graduations si la dimensionnalité est petite\n",
    "    if d_model <= 64:\n",
    "        plt.xticks(range(d_model))\n",
    "\n",
    "    # Afficher les indices de position comme des graduations si le nombre de tokens est petit\n",
    "    if max_tokens <= 32:\n",
    "        plt.yticks(range(max_tokens))\n",
    "\n",
    "    # Étiqueter les axes\n",
    "    plt.xlabel(\"Indice de l'embedding\")\n",
    "    plt.ylabel(\"Indice de la position\")\n",
    "\n",
    "    # Afficher le graphique\n",
    "    plt.show()\n",
    "\n",
    "def plot_attention_weight_matrix(weight_matrix, x_ticks, y_ticks):\n",
    "    \"\"\"\n",
    "    Trace une matrice de poids d'attention avec des graduations d'axes personnalisées.\n",
    "\n",
    "    Args:\n",
    "        weight_matrix: La matrice de poids d'attention à tracer.\n",
    "        x_ticks: Étiquettes pour l'axe des x (généralement les tokens de la requête).\n",
    "        y_ticks: Étiquettes pour l'axe des y (généralement les tokens de la clé).\n",
    "    \"\"\"\n",
    "\n",
    "    # Définir la taille du graphique\n",
    "    plt.figure(figsize=(15, 7))\n",
    "\n",
    "    # Tracer la matrice de poids d'attention sous forme de carte de chaleur (heatmap)\n",
    "    ax = sns.heatmap(weight_matrix, cmap=\"Blues\")\n",
    "\n",
    "    # Définir les graduations personnalisées sur les axes x et y\n",
    "    plt.xticks(np.arange(weight_matrix.shape[1]) + 0.5, x_ticks)\n",
    "    plt.yticks(np.arange(weight_matrix.shape[0]) + 0.5, y_ticks)\n",
    "\n",
    "    # Étiqueter le graphique\n",
    "    plt.title(\"Matrice d'attention\")\n",
    "    plt.xlabel(\"Score d'attention\")\n",
    "\n",
    "    # Afficher le graphique\n",
    "    plt.show()\n",
    "\n",
    "\n",
    "def load_image_from_url(url):\n",
    "    headers = {\n",
    "        \"User-Agent\": \"Mozilla/5.0\"\n",
    "    }\n",
    "    try:\n",
    "        response = requests.get(url, headers=headers)\n",
    "        response.raise_for_status()\n",
    "\n",
    "        # Vérifier que le contenu est une image\n",
    "        content_type = response.headers.get(\"Content-Type\", \"\")\n",
    "        if not content_type.startswith(\"image/\"):\n",
    "            raise ValueError(f\"Le contenu de l'URL n'est pas une image. Content-Type: {content_type}\")\n",
    "\n",
    "        return Image.open(BytesIO(response.content)).convert(\"RGB\")\n",
    "\n",
    "    except:\n",
    "        print(f\"Impossible de charger l'image depuis {url}\\n \")\n",
    "        return None\n",
    "\n",
    "def resize_image(img, new_width=300):\n",
    "    w, h = img.size\n",
    "    new_height = int((new_width / w) * h)\n",
    "    return img.resize((new_width, new_height))"
   ]
  },
  {
   "cell_type": "code",
   "execution_count": null,
   "metadata": {
    "id": "kMkaKekB_pR4"
   },
   "outputs": [],
   "source": [
    "# @title [Exécutez-moi] Fonctions d'assistance pour le traitement de texte.\n",
    "\n",
    "def get_word2vec_embedding(words: list[str]):\n",
    "    \"\"\"\n",
    "    Récupère les embeddings pour une liste de mots donnée à partir d'un fichier texte de style Word2Vec.\n",
    "\n",
    "    Le fichier doit commencer par une ligne d'en-tête :\n",
    "        <taille_vocabulaire> <dimension_vecteur>\n",
    "    suivie d'un mot + son vecteur par ligne, par exemple :\n",
    "        faon 0.0891758 0.121832 … 0.0872918\n",
    "\n",
    "    Args:\n",
    "        words: Itérable de tokens pour lesquels vous souhaitez des embeddings.\n",
    "\n",
    "    Returns:\n",
    "        embeddings: jnp.ndarray de forme (n_found, dimension_vecteur)\n",
    "        found_words: List[str] des mots (dans le même ordre que les embeddings).\n",
    "    \"\"\"\n",
    "    words_set = set(words)\n",
    "    found_embeddings = []\n",
    "    found_words = []\n",
    "    # Télécharger depuis le Hub\n",
    "    file_path = hf_hub_download(\n",
    "        repo_id=\"AmelSellami/pruned-word2vec\",\n",
    "        filename=\"pruned.word2vec.txt\",\n",
    "        repo_type=\"dataset\",\n",
    "    )\n",
    "\n",
    "    with open(file_path, \"r\", encoding=\"utf-8\") as f:\n",
    "        # Lire et analyser l'en-tête\n",
    "        header = f.readline().strip().split()\n",
    "        if len(header) != 2:\n",
    "            raise ValueError(f\"En-tête invalide dans {file_path!r}: {header}\")\n",
    "        vocab_size, dim = map(int, header)\n",
    "\n",
    "        # Balayer chaque ligne pour trouver les mots cibles\n",
    "        for line in f:\n",
    "            parts = line.rstrip().split()\n",
    "            if not parts:\n",
    "                continue\n",
    "            token = parts[0]\n",
    "            if token in words_set:\n",
    "                # analyser les flottants ; s'attendre à exactement `dim` nombres\n",
    "                vals = parts[1:]\n",
    "                if len(vals) != dim:\n",
    "                    raise ValueError(f\"Taille de vecteur inattendue pour {token!r}: reçu {len(vals)} vs {dim}\")\n",
    "                vec = [float(x) for x in vals]\n",
    "                found_embeddings.append(vec)\n",
    "                found_words.append(token)\n",
    "                words_set.remove(token)\n",
    "                if not words_set:\n",
    "                    break  # tout trouvé\n",
    "\n",
    "    embeddings = jnp.array(found_embeddings)\n",
    "    return embeddings, found_words\n",
    "\n",
    "\n",
    "def remove_punctuation(text):\n",
    "    \"\"\"Fonction qui prend une chaîne de caractères et supprime toute la ponctuation.\"\"\"\n",
    "    import re\n",
    "\n",
    "    text = re.sub(r\"[^\\w\\s]\", \"\", text)\n",
    "    return text\n",
    "\n",
    "def print_sample(prompt, sample, model_name=\"\", generation_time=None):\n",
    "\n",
    "    if prompt in sample:\n",
    "      sample = sample.split(prompt)[1].rstrip()\n",
    "    html = f\"\"\"\n",
    "    <div style=\"font-family:monospace; border:1px solid #ccc; padding:10px\">\n",
    "        <div><b style='color:teal;'>🤖 Modèle:</b> <span>{model_name}</span></div>\n",
    "        {'<div><b style=\"color:orange;\">⏱️ Temps de génération:</b> ' + f'{generation_time:.2f}s</div>' if generation_time else ''}\n",
    "        <div><b style='color:green;'>📝 Requête :</b> {prompt}</div>\n",
    "        <div><b style='color:purple;'>✨ Généré :</b> {sample}</div>\n",
    "    </div>\n",
    "    \"\"\"\n",
    "    display(HTML(html))\n",
    "\n",
    "\n",
    "def get_tokenizer(model_name: str):\n",
    "    \"\"\"\n",
    "    Fonction qui prend un nom de modèle et renvoie le tokenizer pour ce modèle.\n",
    "    \"\"\"\n",
    "    if model_name == \"gemma3\":\n",
    "        tokenizer = gm.text.Gemma3Tokenizer()\n",
    "    else:\n",
    "        tokenizer = AutoTokenizer.from_pretrained(model_name, use_fast=True)\n",
    "    return tokenizer\n",
    "\n",
    "\n",
    "def tokenize(text: str, model_name: str):\n",
    "    \"\"\"\n",
    "    Fonction qui prend une chaîne de caractères et un tokenizer et renvoie la version tokenisée de la chaîne.\n",
    "    \"\"\"\n",
    "    tokenizer = get_tokenizer(model_name)\n",
    "    token_ids = tokenizer.encode(text)\n",
    "    tokens = [tokenizer.decode(t) for t in token_ids]\n",
    "    if model_name != \"gemma3\":\n",
    "        tokens = [token.replace('Ġ', ' ') for token in tokens] # Remplace le préfixe 'Ġ' utilisé par certains tokenizers par un espace\n",
    "    return tokens, token_ids"
   ]
  },
  {
   "cell_type": "markdown",
   "metadata": {
    "id": "ElXJ1BGzH5BJ"
   },
   "source": [
    "## 🤖 Charger un modèle depuis Hugging Face et interagir localement [<font color = 'orange'> débutant </font>]\n"
   ]
  },
  {
   "cell_type": "markdown",
   "metadata": {
    "id": "8Lrb9vL2uO5A"
   },
   "source": [
    "\n",
    "### 🎯 Objectif\n",
    "\n",
    "* Apprendre à **charger un modèle depuis Hugging Face** et exécuter une inférence à l’aide d’un LLM\n",
    "\n",
    "* Charger un modèle léger (par ex. gpt-neo-125m) et le solliciter avec une question simple\n",
    "\n",
    "* Expérimenter avec différents paramètres de génération"
   ]
  },
  {
   "cell_type": "markdown",
   "metadata": {
    "id": "_tADD6ZfEX-u"
   },
   "source": [
    "\n",
    "📚 Bienvenue dans le monde des grands modèles de langue!\n",
    "Nous sommes ravis de vous avoir à bord!🎉 Avant de plonger dans la partie pratique de notre voyage, prenons un détour rapide dans le monde fascinant de [Hugging Face](https://huggingface.co/) - une incroyable plateforme open source pour créer et déployer des modèles de langage à la pointe de la technologie."
   ]
  },
  {
   "cell_type": "markdown",
   "metadata": {
    "id": "me-nBsxtGBA1"
   },
   "source": [
    "##### 🧠 **Quels sont les grands modèles de langue?**\n",
    "\n",
    "Les modèles de grandes langues (LLMS) sont des systèmes d'IA formés sur de grandes quantités de données de texte pour comprendre et générer du texte de type humain.Ils travaillent en apprenant des modèles dans la langue et en prédisant le mot le plus probable étant donné un certain contexte.\n",
    "\n",
    "**Concepts** clés:\n",
    "\n",
    "*   Reconnaissance des modèles: les LLMS analysent des milliards de mots pour comprendre la langue\n",
    "*   Prédiction du mot de prochain: À la base, ils devinent le mot suivant le plus probable\n",
    "*   Compréhension du contexte: ils considèrent l'ensemble de l'entrée lors de la réalisation des prédictions\n"
   ]
  },
  {
   "cell_type": "markdown",
   "metadata": {
    "id": "ltfz9jstGSTJ"
   },
   "source": [
    "#### **À propos de Huggingface**\n",
    "\n",
    "<img src=\"https://www.hugging-face.org/wp-content/uploads/2023/11/hugging-faces.png\" alt=\"Alt Text\" width=\"500\">"
   ]
  },
  {
   "cell_type": "markdown",
   "metadata": {
    "id": "7s0Lc8rnGZt6"
   },
   "source": [
    "**Huggingface** est le \"Github de l'IA\" - une plate-forme qui démocratise l'accès aux modèles d'IA de pointe.Fondée en 2016, ils fournissent:\n",
    "\n",
    "\n",
    "* [Model Hub](https://huggingface.co/models): des milliers de modèles pré-formés prêts à l'emploi\n",
    "* [Bibliothèque Transformers](https://huggingface.co/docs/transformateurs): outils faciles à utiliser pour travailler avec des modèles de langue\n",
    "* [Ensembles de données](https://huggingface.co/datasets): ensembles de données organisés pour la formation et l'évaluation\n",
    "* [Espaces](https://huggingface.co/spaces): plate-forme pour héberger des démos et des applications ML\n",
    "\n",
    "\n",
    "Dans ce Colab, nous affichons les promt en <span style=\"color:green;\"><b>vert</b></span> et les échantillons générés par un modèle en <span style=\"color:purple;\"><b>violet</b></span>, comme dans l’exemple ci-dessous :"
   ]
  },
  {
   "cell_type": "code",
   "execution_count": null,
   "metadata": {
    "id": "VNt4n7hrGOY4"
   },
   "outputs": [],
   "source": [
    "print_sample(prompt='My fake prompt', sample=' is awesome!')"
   ]
  },
  {
   "cell_type": "markdown",
   "metadata": {
    "id": "M1e-FfGzGrr_"
   },
   "source": [
    "##### **Votre premier modèle de langage **"
   ]
  },
  {
   "cell_type": "markdown",
   "metadata": {
    "id": "n8NCoWUnGwD9"
   },
   "source": [
    "**Plongeons** à quel point il est simple de charger et d'interagir avec un modèle de l'Hugging Face!🤗\n",
    "\n",
    "Pour ce tutoriel, nous avons préconfiguré plusieurs options de modèle pour vous pour expérimenter:\n",
    "\n",
    "* **ELEUTHERAI / GPT-NEO-125M** - Un modèle léger avec 125 millions de paramètres.C'est rapide et économe en mémoire - grand pour commencer!\n",
    "* **GPT2 et GPT2-Medium** - Modèles classiques formés par OpenAI, avec des paramètres de 117m et 355 m respectivement.La variante moyenne offre plus de maîtrise et de cohérence.\n",
    "* **TIIUAE / FALCON-RW-1B** - Un modèle open source plus grand de la famille Falcon, avec 1 milliard de paramètres.\n",
    "* **Microsoft / PHI-4** - Un modèle de pointe de Microsoft s'est concentré sur la génération de langage de haute qualité avec une empreinte mémoire plus petite.\n",
    "\n",
    "Vous pouvez changer de modèle en redémarrant le noyau Colab et en mettant à jour la variable `model_name` dans la cellule ci-dessous.\n",
    "\n",
    "> 💡 **Note :** Les étapes de chargement et d’interaction présentées ici s’appliquent à **tout** modèle Hugging Face qui prend en charge la génération de texte via l’API `pipeline`. N’hésitez pas à explorer au-delà de cette liste !\n",
    "\n"
   ]
  },
  {
   "cell_type": "markdown",
   "metadata": {
    "id": "c87TjRSRHCmg"
   },
   "source": [
    "Note : le modèle `microsoft/phi-4` peut prendre plus d’une demi-heure pour charger tous les fichiers nécessaires. Nous vous recommandons d’utiliser d’autres modèles pendant ce pratique et de vous familiariser avec Phi-4 plus tard, à votre rythme.\n",
    "\n",
    "Générons du texte :\n"
   ]
  },
  {
   "cell_type": "code",
   "execution_count": null,
   "metadata": {
    "id": "YvRivN3VG_yT"
   },
   "outputs": [],
   "source": [
    "# Définir le nom du modèle sur 'EleutherAI/gpt-neo-125M' (il peut être modifié via les options du menu déroulant).\n",
    "model_name = 'gpt2'  # @param ['EleutherAI/gpt-neo-125M', 'gpt2', 'gpt2-medium', 'Qwen/Qwen3-0.6B', 'tiiuae/falcon-rw-1b','microsoft/phi-4']\n",
    "\n",
    "# Définir la requête pour le modèle de génération de texte.\n",
    "test_prompt = 'Once upon a time in a magical Kigali'  # @param {type: 'string'}\n",
    "\n",
    "# Créer un pipeline de génération de texte en utilisant le modèle spécifié.\n",
    "generator = transformers.pipeline('text-generation', model=model_name)\n",
    "\n",
    "# Générer du texte à partir de la requête fournie.\n",
    "# 'do_sample=True' active l'échantillonnage pour introduire de l'aléatoire dans la génération,\n",
    "# et 'min_length=30' garantit qu'au moins 30 tokens sont générés.\n",
    "model_output = generator(test_prompt, do_sample=True, min_length=30)\n",
    "\n",
    "clear_output() # Effacer la sortie pour garder le notebook propre.\n",
    "\n",
    "# Afficher l'échantillon de texte généré.\n",
    "print_sample(test_prompt, model_output[0]['generated_text'], model_name=model_name)"
   ]
  },
  {
   "cell_type": "markdown",
   "metadata": {
    "id": "IiXSAfkdHJ0m"
   },
   "source": [
    "**💡tip:** essayez d'exécuter le code ci-dessus avec différentes invites ou avec la même invite plus d'une fois!"
   ]
  },
  {
   "cell_type": "markdown",
   "metadata": {
    "id": "xxouM28THJXB"
   },
   "source": [
    "**🤔** Discussion: Pourquoi pensez-vous que le texte généré change à chaque fois, même avec la même invite? Écrivez votre réponse dans le champ d'entrée ci-dessous et discutez avec votre voisin."
   ]
  },
  {
   "cell_type": "markdown",
   "metadata": {
    "id": "AMwaKFMnHUJg"
   },
   "source": [
    "<Dettots>\n",
    "<summary> <strong> Réponse </strong> </summary>\n",
    "\n",
    "Le modèle utilise l'échantillonnage avec le hasard (température> 0) pour générer diverses sorties.\n",
    "Même avec la même entrée, la nature probabiliste de la génération de texte conduit à des résultats différents.\n",
    "\n",
    "</fords>"
   ]
  },
  {
   "cell_type": "markdown",
   "metadata": {
    "id": "5nflrXCXHY6u"
   },
   "source": [
    "#### **Comprendre les paramètres de génération**\n",
    "\n",
    "Les paramètres de génération contrôlent comment le modèle produit du texte.Explorons les plus importants:\n",
    "\n",
    "### Température\n",
    "\n",
    "Contrôle le caractère aléatoire des prédictions:\n",
    "\n",
    "- **Faible (0,1 à 0,5):** sorties conservatrices et prévisibles\n",
    "\n",
    "- **Medium (0,6–1,0):** créativité et cohérence équilibrées\n",
    "\n",
    "- **Élevé (1,1–2,0):** très créatif mais potentiellement incohérent\n",
    "\n",
    "### TOP-P (échantillonnage du noyau)\n",
    "Contrôle la diversité en limitant le vocabulaire considéré:\n",
    "\n",
    "- **Faible (0,1 à 0,3):** très concentré sur les mots les plus probables\n",
    "- **High (0.8–1.0):** Considers more word possibilities  \n",
    "\n",
    "\n",
    "Expérimentons avec ces paramètres:\n"
   ]
  },
  {
   "cell_type": "code",
   "execution_count": null,
   "metadata": {
    "cellView": "form",
    "id": "cxq7nR0pHnJv"
   },
   "outputs": [],
   "source": [
    "# @title Choisir le modèle et la requête { run: \"auto\" }\n",
    "model_name = \"gpt2-medium\"  # @param [\"gpt2\", \"gpt2-medium\", \"EleutherAI/gpt-neo-125M\"]\n",
    "prompt = \"Once upon a time in a magical Kigali,\"  # @param {type:\"string\"}\n",
    "temperature = 1  # @param {type:\"slider\", min:0.1, max:1.0, step:0.1}\n",
    "top_p = 0.2  # @param {type:\"slider\", min:0.1, max:1.0, step:0.1}\n",
    "max_new_tokens = 64  # @param {type:\"slider\", min:10, max:256, step:1}\n",
    "seed = 2  # @param {type:\"integer\"}\n",
    "\n",
    "\n",
    "def run_sample(\n",
    "    model_name,  # Le modèle de langage que nous utiliserons pour générer du texte\n",
    "    prompt: str,  # La requête textuelle que nous donnerons au modèle pour démarrer la génération\n",
    "    seed: int | None = None,  # Optionnel : un nombre pour rendre les résultats prévisibles à chaque fois\n",
    "    temperature: float = 0.6,  # Contrôle le caractère aléatoire de la sortie du modèle ; les valeurs plus basses le rendent plus focalisé\n",
    "    top_p: float = 0.9,  # Contrôle quelle proportion des mots les plus probables est prise en compte ; les valeurs plus élevées considèrent plus d'options\n",
    "    max_new_tokens: int = 64,  # Le nombre maximum de mots ou tokens que le modèle ajoutera à la requête\n",
    ") -> str:\n",
    "    # Cette fonction génère du texte à partir d'une requête donnée en utilisant un modèle de langage,\n",
    "    # avec des options pour contrôler l'aléatoire, le nombre de tokens générés et la reproductibilité.\n",
    "\n",
    "    # Charger le modèle en fonction de la sélection\n",
    "    if 'gpt2' in model_name:\n",
    "        tokenizer = transformers.GPT2Tokenizer.from_pretrained(model_name)\n",
    "        model = transformers.GPT2LMHeadModel.from_pretrained(model_name)\n",
    "    elif model_name == \"EleutherAI/gpt-neo-125M\":\n",
    "        tokenizer = transformers.AutoTokenizer.from_pretrained(model_name)\n",
    "        model = transformers.AutoModelForCausalLM.from_pretrained(model_name)\n",
    "    else:\n",
    "        raise NotImplementedError(f\"{model_name} n'est pas encore supporté.\")\n",
    "\n",
    "    clear_output()\n",
    "    # Déplacer le modèle vers le GPU s'il est disponible\n",
    "    if torch.cuda.is_available():\n",
    "        model = model.to(\"cuda\")\n",
    "\n",
    "    # Aligner le padding du tokenizer\n",
    "    tokenizer.pad_token_id = tokenizer.eos_token_id\n",
    "\n",
    "    # Convertir le texte de la requête en tokens que le modèle peut traiter\n",
    "    inputs = tokenizer(prompt, return_tensors=\"pt\")\n",
    "\n",
    "    # Extraire les tokens (IDs d'entrée) et le masque d'attention (pour se concentrer sur les parties importantes) des entrées\n",
    "    input_ids = inputs[\"input_ids\"]\n",
    "    attention_mask = inputs[\"attention_mask\"]\n",
    "\n",
    "    # Déplacer les tokens et le masque d'attention sur le même appareil que le modèle (comme un GPU s'il est disponible)\n",
    "    input_ids = input_ids.to(model.device)\n",
    "    attention_mask = attention_mask.to(model.device)\n",
    "\n",
    "    # Définir la manière dont nous voulons que le modèle génère du texte\n",
    "    generation_config = transformers.GenerationConfig(\n",
    "        do_sample=True,  # Permettre au modèle d'ajouter de l'aléatoire à sa génération de texte\n",
    "        temperature=temperature,  # Ajuster le degré d'aléatoire de la sortie ; une valeur plus basse signifie plus de concentration\n",
    "        top_p=top_p,  # Considérer les mots les plus probables qui constituent les 90 % des possibilités\n",
    "        pad_token_id=tokenizer.pad_token_id,  # Utiliser l'ID du token qui représente le padding (espace supplémentaire)\n",
    "        top_k=0,  # Nous ne limitons pas aux top-k mots, donc nous mettons cette valeur à 0\n",
    "    )\n",
    "\n",
    "    # Si une graine est fournie, la définir pour que les résultats soient reproductibles (même sortie à chaque fois)\n",
    "    if seed is not None:\n",
    "        torch.manual_seed(seed)\n",
    "\n",
    "    # Générer du texte en utilisant le modèle avec les paramètres que nous avons définis\n",
    "    generation_output = model.generate(\n",
    "        input_ids=input_ids,  # Fournir les tokens d'entrée au modèle\n",
    "        attention_mask=attention_mask,  # Fournir le masque d'attention pour aider le modèle à se concentrer\n",
    "        return_dict_in_generate=True,  # Demander au modèle de retourner des informations détaillées\n",
    "        output_scores=True,  # Inclure les scores (niveaux de confiance) pour les tokens générés\n",
    "        max_new_tokens=max_new_tokens,  # Définir le nombre maximum de tokens à générer\n",
    "        generation_config=generation_config,  # Appliquer nos paramètres de génération de texte personnalisés\n",
    "    )\n",
    "\n",
    "    # S'assurer qu'une seule séquence (sortie) est générée, pour simplifier\n",
    "    assert len(generation_output.sequences) == 1\n",
    "\n",
    "    # Obtenir la séquence de tokens générée\n",
    "    output_sequence = generation_output.sequences[0]\n",
    "\n",
    "    # Convertir les tokens générés en texte lisible\n",
    "    output_string = tokenizer.decode(output_sequence)\n",
    "\n",
    "    # Afficher la requête et la réponse générée\n",
    "    print_sample(prompt, output_string, model_name=model_name)\n",
    "\n",
    "    # Retourner la réponse de texte générée\n",
    "    return output_string\n",
    "\n",
    "# Exécuter la génération interactive\n",
    "_ = run_sample(\n",
    "    model_name=model_name,\n",
    "    prompt=prompt,\n",
    "    temperature=temperature,\n",
    "    top_p=top_p,\n",
    "    seed=seed,\n",
    "    max_new_tokens=max_new_tokens\n",
    ")"
   ]
  },
  {
   "cell_type": "markdown",
   "metadata": {
    "id": "filsIJLTIEkv"
   },
   "source": [
    "\n",
    "🎯 **Essayez ceci :** Expérimentez avec différents prompts et valeurs de température. Quels motifs remarquez-vous ?\n"
   ]
  },
  {
   "cell_type": "markdown",
   "metadata": {
    "id": "J5U3YbK_IGel"
   },
   "source": [
    "#### **Modèles linguistiques dans les applications du monde réel**\n",
    "\n",
    "Les modèles linguistiques ont de nombreuses applications pratiques.Explorons quelques-uns:"
   ]
  },
  {
   "cell_type": "markdown",
   "metadata": {
    "id": "TQxfHAkuIZCM"
   },
   "source": [
    "**Génération** de code"
   ]
  },
  {
   "cell_type": "code",
   "execution_count": null,
   "metadata": {
    "id": "AdnWggRcIXwo"
   },
   "outputs": [],
   "source": [
    "code_prompt = 'Write a Python function that calculates the fibonacci sequence:' # @param {type:'string'}\n",
    "model_name = 'gpt2'  # @param ['gpt2', 'gpt2-medium', 'EleutherAI/gpt-neo-125M']\n",
    "code_result = run_sample(model_name, code_prompt, temperature=0.3, max_new_tokens=200)\n",
    "print('💻 Code Generation:')\n",
    "print(code_result)"
   ]
  },
  {
   "cell_type": "markdown",
   "metadata": {
    "id": "5PbWOseNIr6l"
   },
   "source": [
    "**Question** Répondre"
   ]
  },
  {
   "cell_type": "code",
   "execution_count": null,
   "metadata": {
    "id": "07daslXuIpgI"
   },
   "outputs": [],
   "source": [
    "qa_prompt = 'What are the main advantages of using version control in software development?' # @param {type:'string'}\n",
    "model_name = 'gpt2'  # @param ['gpt2', 'gpt2-medium', 'EleutherAI/gpt-neo-125M']\n",
    "qa_result = run_sample(model_name, qa_prompt, temperature=0.5, max_new_tokens=80)"
   ]
  },
  {
   "cell_type": "markdown",
   "metadata": {
    "id": "qDThwJmWIyCR"
   },
   "source": [
    "**Écriture** créative"
   ]
  },
  {
   "cell_type": "code",
   "execution_count": null,
   "metadata": {
    "id": "YmEK-JD5IzMf"
   },
   "outputs": [],
   "source": [
    "story_prompt = 'Write the opening paragraph of a science fiction story:' # @param {type:'string'}\n",
    "model_name = 'EleutherAI/gpt-neo-125M'  # @param ['gpt2', 'gpt2-medium', 'EleutherAI/gpt-neo-125M']\n",
    "story_result = run_sample(model_name, story_prompt, temperature=0.9, max_new_tokens=100)"
   ]
  },
  {
   "cell_type": "markdown",
   "metadata": {
    "id": "z7bDaHeKa0kN"
   },
   "source": [
    "**Question** de vision Répondre\n",
    "\n",
    "La réponse à la question visuelle (VQA) est une tâche d'IA multimodale qui combine la vision informatique et la compréhension du langage naturel.L'objectif est simple mais puissant: étant donné une image et une question de langue naturelle à ce sujet, le modèle doit générer une réponse pertinente et précise.\n",
    "\n",
    "Dans l'exemple ci-dessous, nous utiliserons un modèle pré-formé de HuggingFace pour montrer comment VQA fonctionne dans la pratique.\n",
    "\n",
    "> Exécutez à nouveau la cellule si vous rencontrez une erreur."
   ]
  },
  {
   "cell_type": "code",
   "execution_count": null,
   "metadata": {
    "id": "7v7yJn-Ta74X"
   },
   "outputs": [],
   "source": [
    "image_url = \"https://upload.wikimedia.org/wikipedia/commons/thumb/5/5f/Lake_Naivasha%2C_Kenya_%2832487531978%29.jpg/2880px-Lake_Naivasha%2C_Kenya_%2832487531978%29.jpg\" # @param {type:'string'}\n",
    "image = load_image_from_url(image_url)\n",
    "display(resize_image(image, new_width=800))\n",
    "\n",
    "# Poser une question.\n",
    "question = \"What is in the picture?\" # @param {type:'string'}\n",
    "\n",
    "# Charger le modèle et le processeur\n",
    "model_name = \"Salesforce/blip-vqa-base\"\n",
    "processor = BlipProcessor.from_pretrained(model_name)\n",
    "model = BlipForQuestionAnswering.from_pretrained(model_name)\n",
    "\n",
    "# Préparer les entrées.\n",
    "inputs = processor(image, question, return_tensors=\"pt\")\n",
    "\n",
    "# Exécuter l'inférence.\n",
    "with torch.no_grad():\n",
    "    output = model.generate(**inputs)\n",
    "\n",
    "# Décoder et afficher la réponse.\n",
    "answer = processor.decode(output[0], skip_special_tokens=True)\n",
    "clear_output()\n",
    "display(resize_image(image, new_width=800))\n",
    "print('')\n",
    "print_sample(question, answer, model_name=model_name)"
   ]
  },
  {
   "cell_type": "markdown",
   "metadata": {
    "id": "rXrCIqpc6PQk"
   },
   "source": [
    "**Chatbot**"
   ]
  },
  {
   "cell_type": "code",
   "execution_count": null,
   "metadata": {
    "id": "dy702C0vxRI1"
   },
   "outputs": [],
   "source": [
    "model = gm.nn.Gemma3_1B()\n",
    "params = gm.ckpts.load_params(gm.ckpts.CheckpointPath.GEMMA3_1B_IT)\n",
    "\n",
    "sampler = gm.text.ChatSampler(\n",
    "    model=model,\n",
    "    params=params,\n",
    "    multi_turn=True,\n",
    ")\n",
    "\n",
    "user = 'Share one metaphor linking \"shadow\" and \"laughter\".' # @param {type:'string'}\n",
    "\n",
    "turn0 = sampler.chat(user)\n",
    "print_sample(user, turn0, model_name=\"Gemma3_1B\")"
   ]
  },
  {
   "cell_type": "code",
   "execution_count": null,
   "metadata": {
    "id": "7Rb8_6hP6xa4"
   },
   "outputs": [],
   "source": [
    "user = 'Expand it in a haiku.' # @param {type:'string'}\n",
    "turn1 = sampler.chat(user)\n",
    "print_sample(user, turn1, model_name=\"Gemma3_1B\")"
   ]
  },
  {
   "cell_type": "markdown",
   "metadata": {
    "id": "SEpNUKkoJOUj"
   },
   "source": [
    "\n",
    "Plutôt cool, non ? 🤩\n",
    "Aujourd’hui, nous allons aller un peu plus loin — en **entraînant notre propre LLM inspiré de Shakespeare** ! Cette expérience pratique nous aidera à comprendre comment ces modèles fonctionnent réellement **dans les coulisses**.\n"
   ]
  },
  {
   "cell_type": "markdown",
   "metadata": {
    "id": "svfeQO7VIOIu"
   },
   "source": [
    "## 🔍 Architecture du transformateur Récapitulatif rapide [<font color = 'orange'> débutant </font>]\n"
   ]
  },
  {
   "cell_type": "markdown",
   "metadata": {
    "id": "brwKNHT0-Hhl"
   },
   "source": [
    "\n",
    "L'architecture du transformateur a été introduite dans l'article intitulé [l'attention est tout ce dont vous avez besoin] (https://proekedings.neurips.cc/paper_files/paper/2017/file/3f5ee243547dee91fbd053c1c4a845aa-paper.pdf) par Vaswani et al.Comme le titre de l'article le suggère, une telle architecture se compose essentiellement de mécanismes d'attention ainsi que des couches d'alimentation et des couches linéaires, comme le montre le diagramme ci-dessous.\n",
    "\n",
    "<img src=\"https://machinelearningmastery.com/wp-content/uploads/2021/08/attention_research_1.png\" width=\"350\" />\n",
    "\n",
    "Les transformateurs et ses variations sont au cœur des modèles de grande langue et ce n'est pas une exagération de dire que presque tous les modèles de langue sont des architectures basées sur les transformateurs.Comme vous pouvez le voir dans le diagramme, l'architecture du transformateur d'origine se compose de deux parties, une qui reçoit des entrées généralement appelées encodeur et une autre qui reçoit des sorties (c'est-à-dire des cibles) appelée décodeur.En effet, le transformateur a été conçu pour la traduction automatique.\n",
    "\n",
    "Dans ce tutoriel, nous nous concentrerons uniquement sur la partie décodeur qui est l'architecture qui alimente les modèles de grande langue les plus modernes comme Chatgpt.\n",
    "\n",
    "### Présentation du décodeur du transformateur\n",
    "\n",
    "<img src=\"https://substackcdn.com/image/fetch/$s_!qbpc!,f_auto,q_auto:good,fl_progressive:steep/https%3A%2F%2Fsubstack-post-media.s3.amazonaws.com%2Fpublic%2Fimages%2Ff6133c18-bfaf-4578-8c5a-e5ac7809f65b_1632x784.png\" width=\"650\" height=\"400\" />\n",
    "\n",
    "\n",
    "* **Préparation de l’entrée**\n",
    "\n",
    "  * Texte brut → **Tokenizer** → séquence d’identifiants de tokens\n",
    "  * Identifiants → **Représentations des tokens** + **Représentations positionnelles** → vecteurs d’entrée\n",
    "\n",
    "* **Blocs décodeurs empilés** (répétés *N* fois)\n",
    "\n",
    "  1. **Normalisation de couche**\n",
    "  2. **Auto-attention multi-tête masquée** (masque causal)\n",
    "\n",
    "     * La connexion résiduelle ajoute la sortie de l’attention à son entrée\n",
    "  3. **Normalisation de couche**\n",
    "  4. **Réseau feed-forward** (MLP)\n",
    "\n",
    "     * Deux couches linéaires + non-linéarité, appliquées position par position\n",
    "     * La connexion résiduelle ajoute la sortie du FFN à son entrée\n",
    "\n",
    "* **Projection de sortie**\n",
    "\n",
    "  * Vecteurs finaux du décodeur → couche linéaire → logits du vocabulaire → softmax pour les probabilités du token suivant\n",
    "\n",
    "Commençons notre parcours en comprenant comment les modèles tokenisent le texte.\n",
    "\n",
    "\n"
   ]
  },
  {
   "cell_type": "markdown",
   "metadata": {
    "id": "AtWMaTddww65"
   },
   "source": [
    "## 🧱 Tokenisation [<font color = 'orange'> débutant </font>]\n",
    "\n"
   ]
  },
  {
   "cell_type": "markdown",
   "metadata": {
    "id": "WO9OWhQYMti4"
   },
   "source": [
    "Les modèles de langage naturel fonctionnent sur des entrées numériques discrètes, alors que le texte brut est une séquence de caractères. La **tokenisation** est le pont entre le texte lisible par l’humain et les vecteurs d’entrée exploitables par le modèle. De manière générale, la tokenisation :\n",
    "\n",
    "1. **Divise le texte en unités (« tokens »)**\n",
    "\n",
    "   * Sépare une chaîne de caractères en mots, sous-mots ou caractères.\n",
    "2. **Associe chaque token à un identifiant entier**\n",
    "\n",
    "   * Utilise un vocabulaire fixe pour que chaque token corresponde à un indice unique.\n",
    "3. **Permet le traitement par lots et la recherche d’embeddings**\n",
    "\n",
    "   * Convertit des textes de longueur variable en séquences d’identifiants remplies (padded) pouvant être traitées par des réseaux neuronaux.\n",
    "\n",
    "Un token peut être :\n",
    "\n",
    "* Un seul caractère (`i`, `n`, `d`, `a`, `b`)\n",
    "* Un sous-mot (`ind`, `aba`)\n",
    "* Un mot entier (`indaba`)\n",
    "\n",
    "Un vocabulaire est la liste fixe des tokens (mots, sous-mots ou caractères) qu’un modèle connaît, chacun étant associé à un identifiant entier unique pour la recherche d’embeddings.\n",
    "\n",
    "\n",
    "\n"
   ]
  },
  {
   "cell_type": "markdown",
   "metadata": {
    "id": "C7uolj800B4z"
   },
   "source": [
    "\n",
    "\n",
    "Différents modèles — comme GPT, Gemma, LLaMA, Mistral, et d’autres — utilisent des tokenizers différents, chacun prenant ses propres décisions sur la manière de découper le texte en tokens. La méthode de tokenisation la plus courante dans les LLM est le **Byte Pair Encoding (BPE)**. Si vous êtes curieux de savoir comment cela fonctionne, cette [excellente vidéo](https://www.youtube.com/watch?v=zduSFxRajkE) l’explique très bien.\n",
    "\n",
    "> L’idée clé derrière la tokenisation est la **granularité** — à quel point un modèle doit-il découper le texte pour comprendre et prédire ce qui vient ensuite ? L’objectif est de trouver un équilibre : découper le texte en morceaux suffisamment petits pour que le modèle puisse bien généraliser, mais pas trop petits au risque d’exploser le nombre de tokens. Un bon tokenizer garde un vocabulaire compact, gère efficacement la diversité des langues et compresse bien le texte, de sorte que moins de tokens sont nécessaires pour représenter le sens — surtout dans des contextes multilingues.\n",
    "\n",
    "La taille du vocabulaire correspond au nombre de tokens distincts (mots, sous-mots ou symboles) reconnus par le tokenizer d’un modèle.\n"
   ]
  },
  {
   "cell_type": "markdown",
   "metadata": {
    "id": "_Ku_PEI0PF4l"
   },
   "source": [
    "### **🎯 Essayez vous-même :** Playground du Tokenizer\n",
    "\n",
    "Passons à la pratique. Visitez l’un des sites suivants :\n",
    "\n",
    "* [Tiktokenizer Playground (GPT-2)](https://tiktokenizer.vercel.app/?model=gpt2)\n",
    "* [OpenAI Tokenizer](https://platform.openai.com/tokenizer)\n",
    "\n",
    "Collez la phrase :\n",
    "`Welcome to the Indaba LLM tutorial happening in Kigali. Get ready to explore the world of LLMs.`\n",
    "\n",
    "<!-- 🎯 Maintenant, essayez la même phrase dans une autre langue que vous parlez — yorùbá, kiswahili, français, etc. Notez ce que vous avez observé. -->  \n",
    "\n",
    "<figure>\n",
    "  <img src=\"https://drive.google.com/uc?export=view&id=1XpIVAOk281R7i13IMYQHe0HZZG6tUrjw\" alt=\"TikTokenizer\" width=\"800\"/>\n",
    "  <figcaption><em></em></figcaption>\n",
    "</figure>\n"
   ]
  },
  {
   "cell_type": "markdown",
   "metadata": {
    "id": "p6qNp4IhGP-K"
   },
   "source": [
    "### Jouez avec Gemma Tokenizer"
   ]
  },
  {
   "cell_type": "code",
   "execution_count": null,
   "metadata": {
    "id": "D_Ao6l4ZGWyS"
   },
   "outputs": [],
   "source": [
    "tokenizer = gm.text.Gemma3Tokenizer()\n",
    "tokenized_prompt = tokenizer.encode('Glad to be at the Indaba!', add_bos=True)\n",
    "tokenized_prompt"
   ]
  },
  {
   "cell_type": "code",
   "execution_count": null,
   "metadata": {
    "id": "kCir3oSyGhIi"
   },
   "outputs": [],
   "source": [
    "tokenizer.decode([\n",
    " 122637,\n",
    " 531,\n",
    " 577,\n",
    " 657,\n",
    " 506,\n",
    " 1851,\n",
    " 6525,\n",
    " 236888,\n",
    "])"
   ]
  },
  {
   "cell_type": "code",
   "execution_count": null,
   "metadata": {
    "id": "uFa34_iaIVwx"
   },
   "outputs": [],
   "source": [
    "#Tokenisons une langue différente\n",
    "arabic_tokens=tokenizer.encode('إنه يوم جميل اليوم')\n",
    "arabic_tokens"
   ]
  },
  {
   "cell_type": "code",
   "execution_count": null,
   "metadata": {
    "id": "cdOcWp9CInOn"
   },
   "outputs": [],
   "source": [
    "print('Arabic prompt got tokenized into the following tokens: \\n',\n",
    "      tokenizer.decode(arabic_tokens[0]), \"\\n\",\n",
    "        tokenizer.decode(arabic_tokens[1]),  \"\\n\",\n",
    "        tokenizer.decode(arabic_tokens[2]),  \"\\n\",\n",
    "        tokenizer.decode(arabic_tokens[3]),  \"\\n\",\n",
    "        tokenizer.decode(arabic_tokens[4]),  \"\\n\",\n",
    "\n",
    "      )"
   ]
  },
  {
   "cell_type": "markdown",
   "metadata": {
    "id": "9YPYutB1TAes"
   },
   "source": [
    "## 𓊳 Embeddings [<font color = 'orange'> débutant </font>]\n"
   ]
  },
  {
   "cell_type": "markdown",
   "metadata": {
    "id": "8-4wEi2kVz3v"
   },
   "source": [
    "Après la tokenisation, chaque ID de token est associé à un vecteur dense via la **couche d’embedding**. Ces embeddings capturent l’information sémantique des tokens et servent d’entrée pour le reste du modèle.\n",
    "\n",
    "**Embeddings de tokens**\n",
    "Une table de correspondance apprise de forme `(taille_du_vocabulaire × d_model)`. Chaque ID de token devient un vecteur de dimension `d_model`.\n",
    "\n",
    "\n",
    "\n",
    "<figure>\n",
    "  <img src=\"https://drive.google.com/uc?export=view&id=1mReprFfL9ezlIRh55Co0yzX3EjiwcHsf\" alt=\"Positional Encoding Vectors\" width=\"800\"/>\n",
    "<Figcaption> <em> </em> </gigcaption>\n",
    "</ figure>\n"
   ]
  },
  {
   "cell_type": "markdown",
   "metadata": {
    "id": "-A7eVrS1bCCz"
   },
   "source": [
    "Dans cette section, nous allons extraire directement les embeddings de tokens appris par le modèle Word2Vec pour un petit ensemble de mots exemples, puis utiliser l'analyse en composantes principales (ACP) pour projeter ces vecteurs de haute dimension en deux dimensions (2D). Enfin, nous tracerons les coordonnées en 2D afin de visualiser comment les tokens sémantiquement liés se regroupent naturellement dans l’espace d’embedding.\n",
    "\n",
    "L’ACP est une méthode de réduction de dimension qui préserve les relations locales — ainsi, dans le graphique obtenu, vous devriez voir des tokens similaires (comme « chien » vs « chat » ou « roi » vs « reine ») regroupés à proximité.\n",
    "\n"
   ]
  },
  {
   "cell_type": "code",
   "execution_count": null,
   "metadata": {
    "id": "rDT-Faavc4sb"
   },
   "outputs": [],
   "source": [
    "# 1. Un ensemble de jetons\n",
    "words = [\"king\", \"queen\", \"royalty\", \"food\", \"apple\", \"pear\", \"computers\"]\n",
    "word_embeddings, words = get_word2vec_embedding(words)\n",
    "\n",
    "# # 4. Appliquer l'ACP pour réduire la dimensionnalité\n",
    "# `n_components=2` réduit le vecteur n-dimensionnel à 2 dimensions, soit 2 colonnes\n",
    "# tout en préservant les relations locales.\n",
    "pca = PCA(n_components=2, random_state=42)\n",
    "X_2d = pca.fit_transform(word_embeddings)\n",
    "\n",
    "# 5. Visualiser les plongements 2D\n",
    "plt.style.use('seaborn-v0_8-whitegrid')\n",
    "fig, ax = plt.subplots(figsize=(12, 10))\n",
    "ax.scatter(X_2d[:, 0], X_2d[:, 1], alpha=0)\n",
    "\n",
    "# Ajoutez des annotations (les mots) à chaque point\n",
    "for i, txt in enumerate(words):\n",
    "    ax.annotate(txt, (X_2d[i, 0], X_2d[i, 1]),\n",
    "                ha='center',\n",
    "                va='center',\n",
    "                fontsize=12,\n",
    "                fontweight='medium')\n",
    "\n",
    "plt.title('PCA Visualization of Word Embeddings from Word2Vec', fontsize=16)\n",
    "plt.xlabel('PCA  Component 1', fontsize=12)\n",
    "plt.ylabel('PCA Component 2', fontsize=12)\n",
    "plt.grid(True)\n",
    "plt.show()\n"
   ]
  },
  {
   "cell_type": "markdown",
   "metadata": {
    "id": "cxleHRaRJ6q7"
   },
   "source": [
    "L’image APC ci-dessus vous apprend deux choses sur les embeddings :\n",
    "\n",
    "1. Similarité sémantique = proximité géométrique. Les mots ayant des significations ou contextes d’utilisation similaires se retrouvent proches les uns des autres.\n",
    "\n",
    "2. Analogies linéaires. Bien que non illustré ici, des décalages vectoriels tels que roi - homme ≈ reine - femme sont possibles.\n",
    "\n",
    "\n",
    "\n"
   ]
  },
  {
   "cell_type": "markdown",
   "metadata": {
    "id": "WNO703V9SBcI"
   },
   "source": [
    "## ║ Encodages de position: pourquoi l'ordre compte [<font color = 'orange'> débutant </font>]\n",
    "<! - (10 minutes) ->"
   ]
  },
  {
   "cell_type": "markdown",
   "metadata": {
    "id": "wZIytxyvAqd9"
   },
   "source": [
    "\n",
    "**Pourquoi les embeddings positionnels ?**\n",
    "\n",
    "* Les embeddings de tokens seuls sont invariants par permutation, ce qui signifie qu’ils ne savent pas quel token est venu en premier..\n",
    "* L’ordre des mots est crucial pour le sens (« Je suis heureux » ≠ « Suis-je heureux »).\n",
    "\n",
    "**Comment fonctionnent les embeddings positionnels :**\n",
    "\n",
    "1. **Encodages fixes (sinusoïdaux)**\n",
    "\n",
    "   * Fonctions pré-calculées de la position (sinus et cosinus à différentes fréquences).\n",
    "   * Pas de paramètres supplémentaires ; supporte des séquences de longueur arbitraire.\n",
    "2. **Embeddings positionnels appris**\n",
    "\n",
    "   * Table de correspondance entraînable de forme `(longueur_max_séquence × d_model)`.\n",
    "   * Chaque position a son propre vecteur d’embedding appris pendant l’entraînement.\n",
    "\n",
    "**Combinaison token + position :**\n",
    "\n",
    "```text\n",
    "final_embedding[i] = token_embedding[i] + pos_embedding[i]\n",
    "```\n",
    "\n",
    "\n"
   ]
  },
  {
   "cell_type": "markdown",
   "metadata": {
    "id": "nxkDif_aRGKy"
   },
   "source": [
    "##### **Fonctions sinus et cosinus: un moyen simple d'ajouter des informations de position**"
   ]
  },
  {
   "cell_type": "markdown",
   "metadata": {
    "id": "WJIyboPkRG-o"
   },
   "source": [
    "Pour répondre aux propriétés souhaitées évoquées ci-dessus, les auteurs de [*Attention is All You Need*](https://arxiv.org/pdf/1706.03762) proposent une technique simple d’**encodage positionnel**. Cette méthode injecte l’information sur l’ordre des tokens dans les embeddings en appliquant une combinaison de fonctions sinus et cosinus à différentes fréquences.\n",
    "\n",
    "L’encodage positionnel pour une position donnée `pos`, à l’indice de dimension d’embedding `i`, avec une taille totale d’embedding `d_model`, est défini par :\n",
    "\n",
    "$$\n",
    "PE_{\\text{pos}, i} =\n",
    "\\begin{cases}\n",
    "\\sin\\left(\\frac{\\text{pos}}{10000^{i / d_{\\text{model}}}}\\right), & \\text{si } i \\bmod 2 = 0 \\\\\n",
    "\\cos\\left(\\frac{\\text{pos}}{10000^{(i - 1) / d_{\\text{model}}}}\\right), & \\text{si } i \\bmod 2 = 1\n",
    "\\end{cases}\n",
    "$$\n",
    "\n",
    "En supposant un modèle avec une taille d’embedding $d_{\\text{model}} = 8$, le vecteur d’encodage positionnel pour la position `pos` devient :\n",
    "\n",
    "$$\n",
    "PE_{\\text{pos}} =\n",
    "\\begin{bmatrix}\n",
    "\\sin\\left(\\frac{\\text{pos}}{10000^{0 / 8}}\\right) \\\\\n",
    "\\cos\\left(\\frac{\\text{pos}}{10000^{0 / 8}}\\right) \\\\\n",
    "\\sin\\left(\\frac{\\text{pos}}{10000^{2 / 8}}\\right) \\\\\n",
    "\\cos\\left(\\frac{\\text{pos}}{10000^{2 / 8}}\\right) \\\\\n",
    "\\sin\\left(\\frac{\\text{pos}}{10000^{4 / 8}}\\right) \\\\\n",
    "\\cos\\left(\\frac{\\text{pos}}{10000^{4 / 8}}\\right) \\\\\n",
    "\\sin\\left(\\frac{\\text{pos}}{10000^{6 / 8}}\\right) \\\\\n",
    "\\cos\\left(\\frac{\\text{pos}}{10000^{6 / 8}}\\right)\n",
    "\\end{bmatrix}\n",
    "$$\n",
    "\n",
    "> **Note :** Les indices pairs utilisent le sinus, les indices impairs le cosinus. La division par des puissances de 10000 permet à chaque dimension d’encoder une fréquence différente.\n",
    "\n",
    "Pour comprendre pourquoi ces encodages fonctionnent en pratique, créons une fonction pour les visualiser et expérimenter avec la `token_sequence_length` et la dimension de l’`embedding` des tokens.\n"
   ]
  },
  {
   "cell_type": "code",
   "execution_count": null,
   "metadata": {
    "id": "lQVRmEJKRLMq"
   },
   "outputs": [],
   "source": [
    "def return_frequency_pe_matrix(token_sequence_length, token_embedding):\n",
    "\n",
    "  assert token_embedding % 2 == 0, \"token_embedding should be divisible by two\"\n",
    "\n",
    "  P = jnp.zeros((token_sequence_length, token_embedding))\n",
    "  positions = jnp.arange(0, token_sequence_length)[:, jnp.newaxis]\n",
    "\n",
    "  i = jnp.arange(0, token_embedding, 2)\n",
    "  frequency_steps = jnp.exp(i * (-math.log(10000.0) / token_embedding))\n",
    "  frequencies = positions * frequency_steps\n",
    "\n",
    "  P = P.at[:, 0::2].set(jnp.sin(frequencies))\n",
    "  P = P.at[:, 1::2].set(jnp.cos(frequencies))\n",
    "\n",
    "  return P\n",
    "\n",
    "token_sequence_length = 50 # @param {type: \"number\"}\n",
    "token_embedding = 768  # @param {type: \"number\"}\n",
    "P = return_frequency_pe_matrix(token_sequence_length, token_embedding)\n",
    "plot_position_encodings(P, token_sequence_length, token_embedding)"
   ]
  },
  {
   "cell_type": "markdown",
   "metadata": {
    "id": "pSxfPQhoRHBM"
   },
   "source": [
    "Remarquez comment chaque ligne du graphique, correspondant à une position précise dans la séquence, affiche un motif ondulé distinct à travers les dimensions de l’embedding. Cela signifie que chaque position possède un encodage fixe et unique, ce qui permet au modèle de différencier les tokens selon leur position dans la séquence. Ces encodages ne changent pas d’une exécution à l’autre ; ils sont entièrement déterminés par la formule.\n",
    "\n",
    "🤔 **Activité de groupe :**\n",
    "\n",
    "* <font color='orange'>Prenez un moment avec votre voisin pour explorer pourquoi ce motif spécifique apparaît lorsque `token_sequence_length` est réglé à 1000 et que `token_embedding` vaut 768.</font>\n",
    "* <font color='orange'>Expérimentez avec des valeurs plus petites pour `token_sequence_length` et `token_embedding` afin de mieux comprendre et enrichir votre discussion.</font>\n",
    "* <font color='orange'>Vous vous demandez pourquoi la constante 10000 est utilisée ? Demandez à votre voisin ce qu’il en pense.</font>\n",
    "* <font color='orange'>Essayez maintenant de régler `token_sequence_length` à 50 et `token_embedding` à une valeur beaucoup plus grande, comme 10000. Qu’observez-vous ? Avons-nous toujours besoin d’un embedding de token aussi grand ?</font>\n"
   ]
  },
  {
   "cell_type": "markdown",
   "metadata": {
    "id": "Qkh0KgRPdDf8"
   },
   "source": [
    "## Les embeddings informent l’attention [<font color = 'orange'> débutant </font>]\n",
    "\n",
    "<! - (10 minutes) ->"
   ]
  },
  {
   "cell_type": "markdown",
   "metadata": {
    "id": "uo90Dfyrb9Kf"
   },
   "source": [
    "Comme nous l’avons appris ci-dessus, les embeddings projettent chaque token dans un espace vectoriel continu où les relations sémantiques se traduisent par une proximité géométrique. Les mécanismes d’attention s’appuient directement sur ces embeddings en calculant des scores de similarité entre les vecteurs de tokens pour déterminer à quel point chaque token doit « prêter attention » aux autres tokens de la séquence. En d’autres termes, les embeddings fournissent les caractéristiques brutes, et l’attention utilise ces caractéristiques pour pondérer et combiner dynamiquement l’information entre les tokens.\n",
    "\n",
    "Ci-dessous, vous écrirez une fonction qui implémente l’attention par produit scalaire. L’objectif est de calculer un vecteur de contexte, $c_t$, qui résume l’information contenue dans les états cachés ($H$) pertinente pour l’état précédent ($q$).\n",
    "\n",
    "Cela se fait en trois étapes :\n",
    "\n",
    "* Calculer les scores d’attention (S) : calculer le produit scalaire du vecteur requête $q$ avec tous les vecteurs clés dans $H$. Cela donne la similarité entre chaque paire de vecteurs. Pour simplifier, nous considérerons que l’embedding de chaque token sert à la fois de clé et de requête.\n",
    "\n",
    "* Calculer les poids d’attention ($\\alpha$) : appliquer une fonction softmax aux scores pour les normaliser en une distribution de probabilité.\n",
    "\n",
    "* Calculer le vecteur contexte ($c_t$) : calculer la somme pondérée des vecteurs valeurs (ici, $H$) en utilisant les poids d’attention.\n",
    "\n",
    "Ces étapes sont résumées par les équations suivantes :\n",
    "\n",
    "$$\n",
    "\\begin{align*}\n",
    "S &= q \\cdot H^T \\\\\n",
    "\\alpha &= \\text{softmax}(S) \\\\\n",
    "c_t &= \\alpha \\cdot H\n",
    "\\end{align*}\n",
    "$$\n",
    "\n",
    "Enfin, nous visualiserons les poids d’attention résultants pour un petit ensemble de mots exemples.\n"
   ]
  },
  {
   "cell_type": "code",
   "execution_count": null,
   "metadata": {
    "id": "v-xcLmAFLl6G"
   },
   "outputs": [],
   "source": [
    "def dot_product_attention(hidden_states, previous_state):\n",
    "    \"\"\"\n",
    "    Calculate the dot product between the hidden states and previous states.\n",
    "\n",
    "    Args:\n",
    "        hidden_states: A tensor with shape [T_hidden, dm]\n",
    "        previous_state: A tensor with shape [T_previous, dm]\n",
    "    \"\"\"\n",
    "\n",
    "    # Astuce : Pour calculer les scores d’attention, réfléchissez à l’utilisation du vecteur « previous_state » et de la matrice « hidden_states ». Vous souhaitez déterminer dans quelle mesure chaque élément de « previous_state » doit prêter attention à chaque élément de « hidden_states ». N’oubliez pas qu’en multiplication matricielle, vous pouvez trouver la relation entre deux ensembles de vecteurs en multipliant l’un par la transposée de l’autre.\n",
    "    # Astuce : Utilisez « jnp.matmul » pour effectuer la multiplication matricielle entre « previous_state » et la transposée de « hidden_states » (`hidden_states.T`).\n",
    "    scores = ...  # FINISH ME\n",
    "    # Astuce : Maintenant que vous avez les scores, vous devez les convertir en probabilités.\n",
    "    # Une fonction softmax est généralement utilisée dans les mécanismes d'attention pour convertir les scores bruts en probabilités\n",
    "    # dont la somme est égale à 1. Cela aidera à déterminer l'attention à accorder à chaque état caché.\n",
    "    # Astuce : Utilisez `jax.nn.softmax` pour appliquer la fonction softmax à `scores`.\n",
    "    w_n = ...  # FINISH ME\n",
    "\n",
    "    # Multipliez les poids par les états cachés pour obtenir le vecteur de contexte\n",
    "    # Astuce : utilisez à nouveau `jnp.matmul` pour multiplier les poids d'attention `w_n` par `hidden_states`\n",
    "    # pour obtenir le vecteur de contexte.\n",
    "    c_t = jnp.matmul(w_n, hidden_states)\n",
    "\n",
    "    return w_n, c_t"
   ]
  },
  {
   "cell_type": "code",
   "execution_count": null,
   "metadata": {
    "id": "mFDyXq77Ll8c"
   },
   "outputs": [],
   "source": [
    "\n",
    "# @title Exécutez-moi pour tester votre code\n",
    "key = jax.random.PRNGKey(42)\n",
    "x = jax.random.normal(key, [2, 2])\n",
    "\n",
    "try:\n",
    "  w_n, c_t = dot_product_attention(x, x)\n",
    "\n",
    "  w_n_correct = jnp.array([[0.9567678, 0.04323225], [0.00121029, 0.99878967]])\n",
    "  c_t_correct = jnp.array([[0.11144122, 0.95290256], [-1.5571996, -1.5321486]])\n",
    "  assert jnp.allclose(w_n_correct, w_n), \"w_n is not calculated correctly\"\n",
    "  assert jnp.allclose(c_t_correct, c_t), \"c_t is not calculated correctly\"\n",
    "\n",
    "  print(\"It seems correct. Look at the answer below to compare methods.\")\n",
    "except:\n",
    "  print(\"It looks like the function isn't fully implemented yet. Try modifying it.\")"
   ]
  },
  {
   "cell_type": "code",
   "execution_count": null,
   "metadata": {
    "id": "mqBReNvBLl_M"
   },
   "outputs": [],
   "source": [
    "# lors de la modification de ces mots, notez que si le mot ne se trouve pas dans le\n",
    "# corpus d'entraînement d'origine, il ne sera pas affiché dans le graphique de la matrice de poids.\n",
    "# @titre Réponse à la tâche de code (essayez de ne pas jeter un coup d'œil avant d'avoir bien essayé !)\n",
    "def dot_product_attention(hidden_states, previous_state):\n",
    "    # Calculer les scores d'attention :\n",
    "    # Multipliez le vecteur d'état précédent par la transposée de la matrice d'états cachés.\n",
    "    # Cela nous donne une matrice de scores qui montre à quel point chaque élément de l'état précédent\n",
    "    # doit prêter attention à chaque élément des états cachés.\n",
    "    # Le résultat est une matrice de forme [T, N], où :\n",
    "    # T est le nombre d'éléments dans les états cachés,\n",
    "    # N est le nombre d'éléments dans l'état précédent.\n",
    "    scores = jnp.matmul(previous_state, hidden_states.T)\n",
    "\n",
    "    # Appliquer la fonction softmax aux scores pour les convertir en probabilités.\n",
    "    # Cela normalise les scores de sorte qu'ils totalisent 1 pour chaque élément,\n",
    "    # nous permettant de les interpréter comme la quantité d'attention à accorder à chaque état caché.\n",
    "    w_n = jax.nn.softmax(scores)\n",
    "\n",
    "    # Calculer le vecteur de contexte (c_t) :\n",
    "    # Multiplier les poids d'attention (w_n) par les états cachés.\n",
    "    # Cela combine les états cachés en fonction de la quantité d'attention que chacun mérite,\n",
    "    # ce qui donne un nouveau vecteur qui représente la somme pondérée des états cachés.\n",
    "    # La forme résultante est [T, d], où :\n",
    "    # T est le nombre d'éléments dans l'état précédent,\n",
    "    # d est la dimension des états cachés.\n",
    "    c_t = jnp.matmul(w_n, hidden_states)\n",
    "\n",
    "    # Renvoyer les poids d'attention et le vecteur de contexte.\n",
    "    return w_n, c_t"
   ]
  },
  {
   "cell_type": "code",
   "execution_count": null,
   "metadata": {
    "id": "N83teuL2CkmN"
   },
   "outputs": [],
   "source": [
    "words = [\"king\", \"queen\", \"royalty\", \"food\", \"apple\", \"pear\", \"computers\"]\n",
    "word_embeddings, words = get_word2vec_embedding(words)\n",
    "weights, _ = dot_product_attention(word_embeddings, word_embeddings)\n",
    "plot_attention_weight_matrix(weights, words, words)\n"
   ]
  },
  {
   "cell_type": "markdown",
   "metadata": {
    "id": "oXQaSJMGELFC"
   },
   "source": [
    "En regardant la matrice, on peut voir quels mots ont des significations similaires. Le groupe de mots « royal » présente des scores d’attention plus élevés entre eux que les mots du groupe « nourriture », qui eux aussi s’attachent les uns aux autres. On observe également que le mot « ordinateur » obtient des scores d’attention très faibles avec tous les autres, ce qui montre qu’il est peu lié aux mots des groupes « royal » ou « nourriture ».\n",
    "\n",
    "Note : Le produit scalaire est seulement l’une des manières d’implémenter la fonction de score dans les mécanismes d’attention. Vous trouverez une liste plus complète dans cet [article de blog](https://lilianweng.github.io/posts/2018-06-24-attention/#summary) de Dr Lilian Weng.\n",
    "\n"
   ]
  },
  {
   "cell_type": "markdown",
   "metadata": {
    "id": "vY02IFQouwjN"
   },
   "source": [
    "## 🔍 ATTENTION [<FONT COLOR = 'GREEN'> Intermédiaire </font>]\n",
    "\n",
    "<! - (25 minutes) ->\n"
   ]
  },
  {
   "cell_type": "markdown",
   "metadata": {
    "id": "_qJdLHPBL1I8"
   },
   "source": [
    "### Entre l’auto-attention et l’attention multi-tête\n",
    "\n",
    "L’auto-attention et l’attention multi-tête (MHA) sont des composants fondamentaux de l’architecture des transformeurs. Dans cette section, nous expliquerons en détail l’intuition derrière ces concepts ainsi que leur mise en œuvre. Plus tard, dans la section Transformeurs, vous apprendrez comment ces mécanismes d’attention sont utilisés pour créer un modèle séquence-à-séquence reposant entièrement sur l’attention.\n",
    "\n",
    "Au fur et à mesure de notre progression, nous représenterons les phrases en les décomposant en mots individuels et en encodant chaque mot à l’aide du modèle word2vec présenté précédemment. Dans la section Transformeurs, nous étudierons plus en détail comment les séquences d’entrée sont transformées en une série de vecteurs.\n"
   ]
  },
  {
   "cell_type": "code",
   "execution_count": null,
   "metadata": {
    "id": "SfEhWwBaLmFK"
   },
   "outputs": [],
   "source": [
    "def embed_sentence(sentence):\n",
    "    \"\"\"\n",
    "    Intègre une phrase en utilisant word2vec ; à des fins d'exemple d'utilisation uniquement.\n",
    "    \"\"\"\n",
    "    # nettoyer la phrase (pas nécessaire si on utilise un tokenizer de LLM approprié)\n",
    "    sentence = remove_punctuation(sentence)\n",
    "\n",
    "    # extraire les mots individuels\n",
    "    words = sentence.split()\n",
    "\n",
    "    # obtenir l'embedding word2vec pour chaque mot de la phrase\n",
    "    word_vector_sequence, words = get_word2vec_embedding(words)\n",
    "\n",
    "    # retourner avec une dimension supplémentaire (utile pour créer des lots plus tard)\n",
    "    return jnp.expand_dims(word_vector_sequence, axis=0), words"
   ]
  },
  {
   "cell_type": "markdown",
   "metadata": {
    "id": "TUPfggF9L9tE"
   },
   "source": [
    "### Auto-attention\n",
    "\n",
    "Une question simple à propos de cette phrase est : à quoi se réfère le mot « it » ? Même si cela peut sembler facile, il peut être difficile pour un algorithme de l’apprendre. C’est là qu’intervient l’auto-attention, qui peut apprendre une matrice d’attention pour le mot « it », où un poids important est attribué au mot « animal ».\n",
    "\n",
    "L’auto-attention permet également au modèle d’apprendre à interpréter des mots ayant les mêmes embeddings, comme apple, qui peut désigner une entreprise ou un fruit selon le contexte. Ce mécanisme est très similaire à l’état caché que l’on trouve dans un réseau de neurones récurrent (RNN) (un autre type de réseau de neurones utilisé pour traiter des données textuelles), mais ce processus, comme vous le verrez, permet au modèle de prêter attention à l’ensemble de la séquence en parallèle, ce qui autorise l’utilisation de séquences plus longues.\n",
    "\n",
    "L’auto-attention repose sur trois concepts :\n",
    "\n",
    "* Requêtes, clés et valeurs\n",
    "* Attention par produit scalaire à l’échelle\n",
    "* Masques\n",
    "\n",
    "$$\n",
    "\\text{Attention}(Q, K, V) = \\text{softmax}\\left(\\frac{QK^T}{\\sqrt{d_k}}\\right)V\n",
    "$$\n",
    "\n",
    "<figure>  \n",
    "  <img src=\"https://drive.google.com/uc?export=view&id=1VwPK-JVOe_NyY4QwKcaCxp4YGpxVIu1u\" alt=\"Vecteurs d’encodage positionnel\" width=\"800\"/>  \n",
    "  <figcaption><em></em></figcaption>  \n",
    "</figure>\n"
   ]
  },
  {
   "cell_type": "code",
   "execution_count": null,
   "metadata": {
    "id": "RnrWe3TsTpix"
   },
   "outputs": [],
   "source": [
    "class SequenceToQKV(nn.Module):\n",
    "  output_size: int\n",
    "\n",
    "  @nn.compact\n",
    "  def __call__(self, X):\n",
    "\n",
    "    # définir la méthode pour l'initialisation des poids\n",
    "    initializer = nn.initializers.variance_scaling(scale=0.5, mode=\"fan_in\", distribution=\"truncated_normal\")\n",
    "\n",
    "    # initialiser trois couches linéaires pour effectuer les transformations QKV.\n",
    "    # note : cela peut aussi être une seule couche, comment pensez-vous que vous le feriez ?\n",
    "    q_layer = nn.Dense(self.output_size, kernel_init=initializer)\n",
    "    k_layer = nn.Dense(self.output_size, kernel_init=initializer)\n",
    "    v_layer = nn.Dense(self.output_size, kernel_init=initializer)\n",
    "\n",
    "    # transformer et retourner les matrices\n",
    "    Q = q_layer(X)\n",
    "    K = k_layer(X)\n",
    "    V = v_layer(X)\n",
    "\n",
    "    return Q, K, V"
   ]
  },
  {
   "cell_type": "markdown",
   "metadata": {
    "id": "6ovARyIGUt8M"
   },
   "source": [
    "Mais qu’est-ce que la requête, la clé et la valeur ?\n",
    "\n",
    "🎯 **Analogie concrète :**\n",
    "Imaginez que vous êtes dans une bibliothèque, cherchant les informations les plus pertinentes pour répondre à une question.\n",
    "\n",
    "* Vous avez une question en tête : c’est votre **requête** (query).\n",
    "* Chaque livre dans la bibliothèque a un titre ou une description : c’est sa **clé** (key).\n",
    "* À l’intérieur de chaque livre se trouve le contenu réel : c’est la **valeur** (value).\n",
    "\n",
    "Dans l’auto-attention, chaque mot d’une phrase joue les trois rôles :\n",
    "\n",
    "* Il crée une requête : « Que suis-je en train de chercher ? »\n",
    "* Il présente une clé : « Quelle information est contenue en moi ? »\n",
    "* Il offre une valeur : « Voici ce que je peux apporter. »\n",
    "\n",
    "En général :\n",
    "\n",
    "* L’auto-attention est invariante à la permutation (l’ordre peut être réarrangé sans changer le résultat).\n",
    "* L’auto-attention ne nécessite pas de paramètres. Jusqu’ici, l’interaction entre les mots était guidée par leurs embeddings et les encodages positionnels.\n",
    "* On s’attend à ce que les valeurs le long de la diagonale (de la matrice) soient les plus élevées.\n",
    "* Si on ne souhaite pas que certaines positions interagissent, on peut toujours fixer leurs valeurs à $-\\infty$.\n",
    "\n",
    "**Conclusion :** L’auto-attention permet au modèle de relier les mots entre eux.\n"
   ]
  },
  {
   "cell_type": "markdown",
   "metadata": {
    "id": "ldE3HlzrMI0x"
   },
   "source": [
    "Maintenant que nous avons nos matrices `query`, `key` et `value`, il est temps de calculer la matrice d’attention. Rappelez-vous que dans tous les mécanismes d’attention, il faut d’abord calculer un score pour chaque vecteur de la séquence, puis utiliser ces scores pour créer un nouveau vecteur de contexte. Dans l’auto-attention, le calcul des scores se fait via le produit scalaire à échelle (scaled dot product attention), puis les scores normalisés sont utilisés comme poids pour sommer les vecteurs valeurs et ainsi créer le vecteur de contexte.\n",
    "\n",
    "$$\n",
    "\\operatorname{Attention}(Q, K, V) = \\operatorname{softmax}\\left(\\frac{Q K^{T}}{\\sqrt{d_k}}\\right) V\n",
    "$$\n",
    "\n",
    "où les scores d’attention sont calculés par\n",
    "\n",
    "$$\n",
    "\\operatorname{softmax}\\left(\\frac{Q K^{T}}{\\sqrt{d_k}}\\right)\n",
    "$$\n",
    "\n",
    "puis ces scores sont multipliés par $V$ pour obtenir le vecteur de contexte.\n",
    "\n",
    "Ce qui se passe ici est similaire à ce que nous avons vu avec l’attention par produit scalaire dans la section précédente, mais appliqué à la séquence elle-même. Pour chaque élément de la séquence, on calcule la matrice des poids d’attention entre $q_i$ et $K$. Ensuite, on multiplie $V$ par chaque poids et on somme finalement tous les vecteurs pondérés $v_{\\text{weighted}}$ pour obtenir une nouvelle représentation pour $q_i$. Ainsi, on atténue les vecteurs moins pertinents et on renforce ceux importants dans la séquence lorsque notre attention est portée sur $q_1$.\n",
    "\n",
    "Le produit $QK^\\top$ est divisé par la racine carrée de la dimension des vecteurs, $\\sqrt{d_k}$, afin d’assurer une meilleure stabilité des gradients lors de l’entraînement.\n"
   ]
  },
  {
   "cell_type": "code",
   "execution_count": null,
   "metadata": {
    "id": "_b5cyg7ALmKJ"
   },
   "outputs": [],
   "source": [
    "def scaled_dot_product_attention(query, key, value):\n",
    "    \"\"\"\n",
    "    Formule pour retourner l'attention par produit scalaire à l'échelle étant donné les matrices QKV.\n",
    "    \"\"\"\n",
    "    d_k = key.shape[-1]\n",
    "\n",
    "    # obtenir les scores bruts (logits) en effectuant le produit scalaire des requêtes et des clés\n",
    "    logits = jnp.matmul(query, jnp.swapaxes(key, -2, -1))\n",
    "\n",
    "    # mettre les scores bruts à l'échelle et appliquer la fonction softmax pour obtenir les scores/poids d'attention\n",
    "    scaled_logits = logits / jnp.sqrt(d_k)\n",
    "    attention_weights = jax.nn.softmax(scaled_logits, axis=-1)\n",
    "\n",
    "    # multiplier les poids par la matrice de valeur pour obtenir la sortie\n",
    "    output = jnp.matmul(attention_weights, value)\n",
    "\n",
    "    return output, attention_weights"
   ]
  },
  {
   "cell_type": "markdown",
   "metadata": {
    "id": "XFaCf5ipMNoF"
   },
   "source": [
    "Voyons maintenant l’attention par produit scalaire à échelle en action. Nous prendrons une phrase, encoderons chaque mot avec word2vec, puis observerons à quoi ressemblent les poids finaux de l’auto-attention.\n",
    "\n",
    "Nous n’utiliserons pas les couches de projection linéaire nécessaires pour entraîner ces matrices. Pour simplifier, nous allons poser $X = Q = V = K$.\n"
   ]
  },
  {
   "cell_type": "code",
   "execution_count": null,
   "metadata": {
    "id": "_E_oxD2GLmM-"
   },
   "outputs": [],
   "source": [
    "# définir une phrase\n",
    "sentence = \"I drink coke, but eat steak\"\n",
    "\n",
    "# intégrer et créer des matrices QKV\n",
    "word_embeddings, words = embed_sentence(sentence)\n",
    "Q = K = V = word_embeddings\n",
    "\n",
    "# calculer les poids et tracer\n",
    "outputs, attention_weights = scaled_dot_product_attention(Q, K, V)\n",
    "\n",
    "# tracer les mots et les poids d'attention entre eux\n",
    "words = remove_punctuation(sentence).split()\n",
    "print(attention_weights[0].shape, len(words))\n",
    "plot_attention_weight_matrix(attention_weights[0], words, words)"
   ]
  },
  {
   "cell_type": "markdown",
   "metadata": {
    "id": "cz_DkHbBMf4E"
   },
   "source": [
    "Gardez à l’esprit que nous n’avons pas encore entraîné notre matrice d’attention. Cependant, en utilisant les vecteurs word2vec comme séquence, on peut déjà observer que l’attention par produit scalaire à échelle est capable de focaliser sur le mot « eat » lorsque la requête est « steak », et que la requête « drink » prête plus d’attention à « coke » et « eat ».\n",
    "\n",
    "Plus de ressources :\n",
    "\n",
    "[Attention avec Q, K, V (vidéo)](https://www.youtube.com/watch?v=k-5QMalS8bQ&list=PLmZlBIcArwhPHmHzyM_cZJQ8_v5paQJTV&index=7)\n"
   ]
  },
  {
   "cell_type": "markdown",
   "metadata": {
    "id": "yJ4lTjELMj68"
   },
   "source": [
    "### Attention masquée\n",
    "\n",
    "L’attention masquée est une technique utilisée dans les mécanismes d’attention — en particulier dans les transformeurs — pour empêcher un modèle de « regarder vers l’avant » quand ce n’est pas autorisé.\n",
    "\n",
    "📚 **Intuition : comme lire sans spoilers**\n",
    "Imaginez que vous lisez un roman policier chapitre par chapitre. Vous voulez deviner qui est le coupable sans sauter à la fin. L’attention masquée fonctionne de la même façon :\n",
    "\n",
    "« À la position $t$, le modèle n’a le droit de prêter attention qu’aux tokens à la position $t$ ou avant, pas après. »\n",
    "\n",
    "🕵️‍♂️ **Pourquoi utiliser l’attention masquée ?**\n",
    "\n",
    "1. 🧱 **Remplissage (padding) dans les séquences de longueurs inégales**\n",
    "   Lorsque l’on regroupe en batch des séquences (phrases ou séries temporelles) de longueurs différentes, on complète généralement les plus courtes avec des tokens de padding pour que toutes aient la même taille. Mais ces tokens de padding ne contiennent aucune information réelle.\n",
    "\n",
    "❗ Si on ne les masque pas, le modèle pourrait les considérer comme du contenu pertinent, ce qui perturberait l’apprentissage.\n",
    "\n",
    "2. 🔒 **Empêcher le regard vers l’avenir dans les modèles décodeurs**\n",
    "   Dans les modèles générateurs de séquences (comme GPT), on les entraîne en utilisant la phrase entière en sortie. Mais lors de la génération réelle, le modèle ne doit voir que les tokens passés et présents, pas ceux du futur.\n",
    "\n",
    "🧠 Imaginez écrire une histoire mot par mot. Vous ne devriez pas pouvoir lire la suite avant d’avoir écrit le mot suivant !\n",
    "\n",
    "<img src=\"https://windmissing.github.io/NLP-important-papers/AIAYN/assets/5.png\" alt=\"schéma attention masquée\" width=\"200\"/>\n"
   ]
  },
  {
   "cell_type": "code",
   "execution_count": null,
   "metadata": {
    "id": "YMdbuQLSMlqr"
   },
   "outputs": [],
   "source": [
    "# exemple de construction d'un masque pour des tokens de taille 32\n",
    "# le masque garantit que les positions ne portent attention qu'aux positions précédentes dans l'entrée (masque causal)\n",
    "# nous l'utiliserons plus tard pour insérer des valeurs -inf dans les scores bruts\n",
    "mask = jnp.tril(jnp.ones((32, 32)))\n",
    "\n",
    "# tracer\n",
    "sns.heatmap(mask, cmap=\"Blues\")\n",
    "plt.title(\"Exemple de masque qui peut être appliqué\");"
   ]
  },
  {
   "cell_type": "markdown",
   "metadata": {
    "id": "Y_7Wpv28Mp-M"
   },
   "source": [
    "Permet désormais d'adapter notre fonction d'attention du produit DOT à mise à l'échelle pour implémenter l'attention masquée."
   ]
  },
  {
   "cell_type": "code",
   "execution_count": null,
   "metadata": {
    "id": "_T9qSjMmMpOj"
   },
   "outputs": [],
   "source": [
    "def scaled_dot_product_attention(query, key, value, mask=None):\n",
    "    \"\"\"\n",
    "    Attention par produit scalaire à l'échelle avec un masque causal (seulement autorisé à porter attention aux positions précédentes)\n",
    "    \"\"\"\n",
    "    d_k = key.shape[-1]\n",
    "    T_k = key.shape[-2]\n",
    "    T_q = query.shape[-2]\n",
    "\n",
    "    # obtenir les logits à l'échelle en utilisant le produit scalaire comme avant\n",
    "    logits = jnp.matmul(query, jnp.swapaxes(key, -2, -1))\n",
    "    scaled_logits = logits / jnp.sqrt(d_k)\n",
    "\n",
    "    # ajouter le masque optionnel où les valeurs le long du masque sont fixées à -inf\n",
    "    if mask is not None:\n",
    "        scaled_logits = jnp.where(mask[:T_q, :T_k], scaled_logits, -jnp.inf)\n",
    "\n",
    "    # calculer les poids d'attention via softmax\n",
    "    attention_weights = jax.nn.softmax(scaled_logits, axis=-1)\n",
    "\n",
    "    # additionner avec les valeurs pour obtenir la sortie\n",
    "    output = jnp.matmul(attention_weights, value)\n",
    "\n",
    "    return output, attention_weightsftmax(scaled_logits, axis=-1)\n",
    "\n",
    "    # sum with the values to get the output\n",
    "    output = jnp.matmul(attention_weights, value)\n",
    "\n",
    "    return output, attention_weights"
   ]
  },
  {
   "cell_type": "markdown",
   "metadata": {
    "id": "X31b1Pt6MvJ8"
   },
   "source": [
    "### La bête aux multiples têtes : l’attention multi-tête\n",
    "\n",
    "Nous avons parlé du mécanisme d’auto-attention dans la section précédente. Comment l’attention multi-tête se rapporte-t-elle à ce mécanisme d’auto-attention (attention par produit scalaire à échelle) ?\n",
    "\n",
    "<figure>  \n",
    "  <img src=\"https://drive.google.com/uc?export=view&id=1e0C2tC29XylPRVfwXo_-NLzisQbLIdxl\" alt=\"Vecteurs d’encodage positionnel\" width=\"800\"/>  \n",
    "  <figcaption><em></em></figcaption>  \n",
    "</figure>  \n",
    "\n",
    "L’auto-attention multi-tête est une variante de l’auto-attention utilisée dans le modèle Transformer. Elle consiste à exécuter plusieurs calculs d’attention en parallèle, chacun se focalisant sur différentes relations et aspects de la séquence d’entrée.\n",
    "\n",
    "Au lieu de calculer l’attention une seule fois, le mécanisme MHA applique plusieurs fois en parallèle l’attention par produit scalaire à échelle. Selon l’article *Attention is All You Need*, « l’attention multi-tête permet au modèle de porter simultanément attention à l’information provenant de différents sous-espaces de représentation à différentes positions. Avec une seule tête d’attention, la moyenne inhibe cela. »\n",
    "\n",
    "L’attention multi-tête peut être vue comme une stratégie similaire à l’empilement de noyaux de convolution dans une couche CNN (Convolution Neural Network). Cela permet aux noyaux de se concentrer et d’apprendre différentes caractéristiques et règles, ce qui explique pourquoi plusieurs têtes d’attention fonctionnent aussi bien.\n",
    "\n",
    "<figure>  \n",
    "  <img src=\"https://drive.google.com/uc?export=view&id=1ulHkifKMzFSHl7-pJnUpc5VP-H2FssED\" alt=\"Schéma attention multi-tête\" width=\"1300\" height=\"700\"/>  \n",
    "  <figcaption><em></em></figcaption>  \n",
    "</figure>\n"
   ]
  },
  {
   "cell_type": "markdown",
   "metadata": {
    "id": "xnOdT_r1M2U2"
   },
   "source": [
    "Ou plus précisément quelque chose comme ceci: une pile d'attention du produit à point à l'échelle\n",
    "\n",
    "\n",
    "<figure>\n",
    "  <img src=\"https://drive.google.com/uc?export=view&id=1lfMZAgs6bR5_0blSB95SAPuX1TNpNaCC\" alt=\"Positional Encoding Vectors\" width=\"500\"/>\n",
    "<Figcaption> <em> </em> </gigcaption>\n",
    "</ figure>\n",
    "\n"
   ]
  },
  {
   "cell_type": "markdown",
   "metadata": {
    "id": "npyhGNKRM9CS"
   },
   "source": [
    "Voyons maintenant comment implémenter l’attention multi-tête. En termes simples, l’attention multi-tête revient à exécuter plusieurs fois en parallèle le processus d’attention, en utilisant différentes copies des matrices $Q$, $K$ et $V$ pour chaque « tête ». Cela permet au modèle de se concentrer simultanément sur différentes parties de l’entrée.\n",
    "\n",
    "Si vous souhaitez en savoir plus, consultez [cet article de blog de Sebastian Raschka](https://magazine.sebastianraschka.com/p/understanding-and-coding-self-attention) qui offre une explication détaillée.\n"
   ]
  },
  {
   "cell_type": "markdown",
   "metadata": {
    "id": "WN0q3iq9SMdn"
   },
   "source": [
    "### Attention par produit scalaire à échelle"
   ]
  },
  {
   "cell_type": "code",
   "execution_count": null,
   "metadata": {
    "id": "kurPdKRQMuL_"
   },
   "outputs": [],
   "source": [
    "class MultiHeadAttention(nn.Module):\n",
    "    num_heads: int  # Nombre de têtes d'attention\n",
    "    d_m: int  # Dimension des embeddings du modèle\n",
    "\n",
    "    def setup(self):\n",
    "        # Initialiser le module de transformation séquence-vers-QKV\n",
    "        self.sequence_to_qkv = SequenceToQKV(self.d_m)\n",
    "\n",
    "        # Définir l'initialiseur pour les poids de la couche linéaire de sortie\n",
    "        initializer = nn.initializers.variance_scaling(\n",
    "            scale=0.5, mode=\"fan_in\", distribution=\"truncated_normal\"\n",
    "        )\n",
    "\n",
    "        # Initialiser la couche de projection de sortie Wo (utilisée après l'attention)\n",
    "        self.Wo = nn.Dense(self.d_m, kernel_init=initializer)\n",
    "\n",
    "    def __call__(self, X=None, Q=None, K=None, V=None, mask=None, return_weights=False):\n",
    "        # Si Q, K, ou V ne sont pas fournis, utiliser l'entrée X pour les générer\n",
    "        if None in [Q, K, V]:\n",
    "            assert not X is None, \"X doit être fourni si Q, K, ou V ne le sont pas\"\n",
    "\n",
    "            # Générer les matrices Q, K et V à partir de l'entrée X\n",
    "            Q, K, V = self.sequence_to_qkv(X)\n",
    "\n",
    "        # Extraire la taille du lot (B), la longueur de la séquence (T) et la taille de l'embedding (d_m)\n",
    "        B, T, d_m = K.shape\n",
    "\n",
    "        # Calculer la taille de l'embedding de chaque tête d'attention (d_m / num_heads)\n",
    "        head_size = d_m // self.num_heads\n",
    "\n",
    "        # Remodeler Q, K, V pour avoir des dimensions séparées pour les têtes\n",
    "        # B, T, d_m -> B, T, num_heads, head_size -> B, num_heads, T, head_size\n",
    "        q_heads = Q.reshape(B, T, self.num_heads, head_size).swapaxes(1, 2)\n",
    "        k_heads = K.reshape(B, T, self.num_heads, head_size).swapaxes(1, 2)\n",
    "        v_heads = V.reshape(B, T, self.num_heads, head_size).swapaxes(1, 2)\n",
    "\n",
    "        # Appliquer l'attention par produit scalaire à l'échelle à chaque tête\n",
    "        attention, attention_weights = scaled_dot_product_attention(\n",
    "            q_heads, k_heads, v_heads, mask\n",
    "        )\n",
    "\n",
    "        # Remodeler la sortie de l'attention pour revenir à ses dimensions d'origine\n",
    "        # (B, num_heads, T, head_size) -> (B, T, num_heads, head_size) -> (B, T, d_m)\n",
    "        attention = attention.swapaxes(1, 2).reshape(B, T, d_m)\n",
    "\n",
    "        # Appliquer la transformation linéaire de sortie Wo à la sortie de l'attention\n",
    "        X_new = self.Wo(attention)\n",
    "\n",
    "        # Si return_weights est vrai, retourner à la fois la sortie transformée et les poids d'attention\n",
    "        if return_weights:\n",
    "            return X_new, attention_weights\n",
    "        else:\n",
    "            # Sinon, retourner seulement la sortie transformée\n",
    "            return X_new"
   ]
  },
  {
   "cell_type": "markdown",
   "metadata": {
    "id": "nF3tNzT_NGIm"
   },
   "source": [
    "\n",
    "## Que garder à l'esprit:\n",
    "\n",
    "🔍 Attention:\n",
    "\n",
    "* Capture des dépendances à longue portée.\n",
    "\n",
    "* Permet la parallélisation (contrairement aux RNN).\n",
    "\n",
    "* L'attention est autochtone, sauf combinaison avec le codage positionnel.\n",
    "\n",
    "\n",
    "💡 Masque d'attention:\n",
    "\n",
    "* Masque causal (look-ahead): assure un comportement autorégressif (par exemple, le jeton T ne voit que des jetons ≤ t).\n",
    "\n",
    "* Masque de rembourrage: empêche l'attention aux positions rembourrées sans signification.\n",
    "\n",
    "* Implémenté en masquant les logits d'attention avant Softmax en utilisant $-\\\\infty$ (infinity).\n",
    "\n",
    "✨ Attention multiples\n",
    "\n",
    "* Ne vous contentez pas de regarder dans un sens - regardez plusieurs modèles à la fois\n",
    "\n",
    "* Aide à capturer plusieurs types de dépendances (par exemple, syntaxe, sémantique)."
   ]
  },
  {
   "cell_type": "markdown",
   "metadata": {
    "id": "5X4tRtSZxGHg"
   },
   "source": [
    "## 🏗️ Entraînement de votre propre LLM (Transformers) \\[<font color='green'>Intermédiaire</font>]\n",
    "\n",
    "<!-- (30 minutes)-->\n",
    "\n",
    "### Objectifs\n",
    "\n",
    "* Charger un jeu de données et entraîner un LLM\n",
    "* Visualiser les encodages positionnels \\[<font color='orange'>Débutant</font>]\n",
    "* Implémenter :\n",
    "\n",
    "  * Encodages positionnels\n",
    "  * Bloc FFN\n",
    "  * Normalisation de couche (Layer norm)\n",
    "  * Bloc décodeur\n",
    "  * LLM complet \\[<font color='green'>Intermédiaire</font>]\n",
    "* Définir la fonction de perte\n",
    "* Charger le jeu de données d’entraînement\n",
    "* Écrire le script d’entraînement\n",
    "* Effectuer une inférence avec le modèle entraîné \\[<font color='orange'>Débutant</font>]\n"
   ]
  },
  {
   "cell_type": "markdown",
   "metadata": {
    "id": "e71jR6TYRHEP"
   },
   "source": [
    "### Bloc de transformateur <Font Color = 'Green'> Intermédiaire </font>"
   ]
  },
  {
   "cell_type": "markdown",
   "metadata": {
    "id": "4Kobmi8IRHHA"
   },
   "source": [
    "Tout comme un Multi Layer perceptron MLP (un réseau de neurones simple qui traite les données d’entrée à travers plusieurs couches) ou un Convolution Neural Network CNN (un type de réseau de neurones particulièrement efficace pour reconnaître des motifs dans les images grâce à des couches de convolution). Transformeurs sont composés d’une pile de blocs de transformeurs. Dans cette section, nous allons construire chacun des composants nécessaires à la création d’un de ces blocs de transformeur.\n"
   ]
  },
  {
   "cell_type": "markdown",
   "metadata": {
    "id": "5yAG_MbgRWEs"
   },
   "source": [
    "\n",
    "#### Network Feed Award Network (FFN) / Multicouche Perceptron (MLP) <FONT COLOR = 'ORANGE'> débutant </font>\n",
    "\n",
    "\n",
    "<div style = \"Display: flex; align-items: Centre; justify-content: Centre; écart: 40px;\">\n",
    "  <img src=\"https://drive.google.com/uc?export=view&id=1gyHqjfJUg_BLoFhAH6_KqsKxOQWvYtvD\" alt=\"Feed Forward Neural Network\" width=\"300\"/>\n",
    "  <img src=\"https://drive.google.com/uc?export=view&id=1H1pVFxJiSpM_Ozj1eKWNdcFQ5Hn5XsZz\" alt=\"Drawing\" width=\"260\"/>\n",
    "</div>\n",
    "\n"
   ]
  },
  {
   "cell_type": "markdown",
   "metadata": {
    "id": "bv5FUmp0RYd9"
   },
   "source": [
    "Dans le modèle original, ces blocs consistent en un simple MLP (Perceptron Multi-Couches) à 2 couches utilisant la fonction d’activation ReLU. Cependant, la fonction GeLU (Gaussian Error Linear Unit) est devenue très populaire, et nous l’utiliserons tout au long de ce pratique. La formule ci-dessous représente le réseau de neurones feedforward (FFN) avec activation GeLU. Dans ce réseau, l’entrée $x$ est d’abord passée à travers deux couches linéaires avec les poids $W_1$ et $W_2$, suivies des biais $b_1$ et $b_2$. La fonction d’activation ReLU, souvent représentée par la fonction $\\max$, est ici remplacée par la fonction GeLU.\n",
    "\n",
    "$$\n",
    "\\operatorname{FFN}(x) = \\max \\left(0, x W_1 + b_1 \\right) W_2 + b_2\n",
    "$$\n",
    "\n",
    "On peut interpréter ce bloc comme traitant ce que le bloc d’attention multi-tête a produit, puis projetant ces nouvelles représentations de tokens dans un espace que le bloc suivant pourra exploiter plus efficacement. Généralement, la première couche est très large, environ 2 à 8 fois la taille des représentations de tokens. Cette architecture facilite la parallélisation des calculs pour une couche unique plus large pendant l’entraînement, plutôt que de paralléliser un bloc feedforward composé de plusieurs couches. Cela permet d’ajouter plus de complexité tout en gardant un entraînement et une inférence optimisés.\n"
   ]
  },
  {
   "cell_type": "code",
   "execution_count": null,
   "metadata": {
    "id": "t8mvJkVdRdZE"
   },
   "outputs": [],
   "source": [
    "# @title Implémentation du code pour un réseau de neurones à propagation avant (Exécutez-moi !)\n",
    "\n",
    "class FeedForwardBlock(nn.Module):\n",
    "    \"\"\"\n",
    "    Un MLP à 2 couches qui élargit puis réduit l'entrée.\n",
    "\n",
    "    Args:\n",
    "      widening_factor [optionnel, défaut=4]: La taille de la couche cachée sera d_model * widening_factor.\n",
    "    \"\"\"\n",
    "    # widening_factor contrôle à quel point la dimension d'entrée est étendue dans la première couche.\n",
    "    widening_factor: int = 4\n",
    "\n",
    "    # init_scale contrôle le facteur de mise à l'échelle pour l'initialisation des poids.\n",
    "    init_scale: float = 0.25\n",
    "\n",
    "    @nn.compact\n",
    "    def __call__(self, x):\n",
    "        # Obtenir la taille de la dernière dimension de l'entrée (taille de l'embedding).\n",
    "        d_m = x.shape[-1]\n",
    "\n",
    "        # Calculer la taille de la première couche en multipliant la taille de l'embedding par le facteur d'élargissement.\n",
    "        layer1_size = self.widening_factor * d_m\n",
    "\n",
    "        # Initialiser les poids pour les deux couches en utilisant un initialiseur de mise à l'échelle de variance.\n",
    "        initializer = nn.initializers.variance_scaling(\n",
    "            scale=self.init_scale, mode='fan_in', distribution='truncated_normal',\n",
    "        )\n",
    "\n",
    "        # Définir la première couche dense, qui étend la taille de l'entrée.\n",
    "        layer1 = nn.Dense(layer1_size, kernel_init=initializer)\n",
    "\n",
    "        # Définir la deuxième couche dense, qui réduit la taille pour revenir à la dimension d'origine.\n",
    "        layer2 = nn.Dense(d_m, kernel_init=initializer)\n",
    "\n",
    "        # Appliquer la première couche dense suivie d'une fonction d'activation GELU.\n",
    "        x = jax.nn.gelu(layer1(x))\n",
    "\n",
    "        # Appliquer la deuxième couche dense pour projeter les données vers leur dimension d'origine.\n",
    "        x = layer2(x)\n",
    "\n",
    "        # Retourner la sortie finale.\n",
    "        return x"
   ]
  },
  {
   "cell_type": "markdown",
   "metadata": {
    "id": "J2Us0NGFRUPn"
   },
   "source": [
    "#### Bloc Add and Norm (Addition et Normalisation) <Font Color = 'Orange'> Débutant </font>\n",
    "\n",
    "<div style = \"Display: flex; align-items: Centre; justify-content: Centre; écart: 40px;\">\n",
    "  <img src=\"https://drive.google.com/uc?export=view&id=1lj8pqO6ttjbcTRUEW1rbtRlueiLPxoSr\" alt=\"Feed Forward Neural Network\" width=\"300\"/>\n",
    "  <img src=\"https://jalammar.github.io/images/t/transformer_resideual_layer_norm_2.png\" alt=\"Drawing\" width=\"400\"/>\n",
    "</div>\n"
   ]
  },
  {
   "cell_type": "markdown",
   "metadata": {
    "id": "s-VmAFgbRkb3"
   },
   "source": [
    "Pour permettre aux transformeurs d’aller plus en profondeur, les connexions résiduelles sont cruciales car elles facilitent la circulation des gradients dans le réseau. Pour la normalisation, on utilise la **normalisation de couche** (layer norm). Celle-ci normalise chaque vecteur de token indépendamment dans le batch. Il a été observé que normaliser ces vecteurs améliore la convergence et la stabilité des transformeurs.\n",
    "\n",
    "La normalisation de couche comporte deux paramètres apprenables, `scale` et `bias`, qui rescalent la valeur normalisée. Pour chaque token d’entrée dans un batch, on calcule la moyenne $\\mu_i$ et la variance $\\sigma_i^2$. Puis on normalise le token par :\n",
    "\n",
    "$$\n",
    "\\hat{x}_i = \\frac{x_i - \\mu_i}{\\sqrt{\\sigma_i^2 + \\varepsilon}}\n",
    "$$\n",
    "\n",
    "Ensuite, $\\hat{x}$ est rescalé avec le `scale` appris $\\gamma$ et le `bias` $\\beta$ selon :\n",
    "\n",
    "$$\n",
    "y_i = \\gamma \\hat{x}_i + \\beta = \\mathrm{LN}_{\\gamma, \\beta}(x_i)\n",
    "$$\n",
    "\n",
    "Ainsi, notre bloc **Add & Norm** peut se représenter par :\n",
    "\n",
    "$$\n",
    "\\mathrm{LN}(x + f(x))\n",
    "$$\n",
    "\n",
    "où $f(x)$ est soit un bloc MLP soit un bloc MHA (Multi-Head Attention).\n",
    "\n",
    "Pour implémenter ce bloc Add & Norm, on définit un module Flax qui prend en entrée les données originales et les données traitées, les additionne, puis applique `flax.linen.nn.LayerNorm` sur la dernière dimension pour normaliser le résultat. Cela permet de stabiliser l’entraînement en standardisant la représentation sommée.\n"
   ]
  },
  {
   "cell_type": "code",
   "execution_count": null,
   "metadata": {
    "id": "KbbBqhEORmKz"
   },
   "outputs": [],
   "source": [
    "# @title Implémentation du code pour le bloc Ajouter et Normaliser (Exécutez-moi !)\n",
    "\n",
    "class AddNorm(nn.Module):\n",
    "    \"\"\"Un bloc qui implémente l'opération 'Ajouter et Normaliser'\"\"\"\n",
    "\n",
    "    @nn.compact\n",
    "    def __call__(self, x, processed_x):\n",
    "        # Étape 1 : Ajouter l'entrée originale (x) à l'entrée traitée (processed_x).\n",
    "        added = x + processed_x\n",
    "\n",
    "        # Étape 2 : Appliquer la normalisation de couche (LayerNorm) au résultat de l'addition.\n",
    "        # - LayerNorm aide à stabiliser et à améliorer le processus d'entraînement en normalisant la sortie.\n",
    "        # - reduction_axes=-1 indique que la normalisation est appliquée sur la dernière dimension (typiquement la dimension de l'embedding).\n",
    "        # - use_scale=True et use_bias=True permettent à la couche d'apprendre des paramètres de mise à l'échelle et de biais pour un ajustement fin supplémentaire.\n",
    "        normalised = nn.LayerNorm(reduction_axes=-1, use_scale=True, use_bias=True)\n",
    "\n",
    "        # Retourner le résultat normalisé.\n",
    "        return normalised(added)"
   ]
  },
  {
   "cell_type": "markdown",
   "metadata": {
    "id": "i0Z_7oRRRqPg"
   },
   "source": [
    "### Construire le décodeur de transformateur / llm <font color = 'vert'> intermédiaire </font>"
   ]
  },
  {
   "cell_type": "markdown",
   "metadata": {
    "id": "j2xafT-jRtct"
   },
   "source": [
    "<img src=\"https://drive.google.com/uc?export=view&id=1MubUcshJTHCqOPTRHixLhrYYLXX9vP_h\" alt=\"drawing\" width=\"260\"/>\n",
    "\n",
    "La majeure partie du travail préparatoire est faite. Nous avons construit le bloc d’encodage positionnel, le bloc MHA, le bloc feed-forward et le bloc add\\&norm.\n",
    "\n",
    "La seule partie restante est de passer les entrées à chaque bloc décodeur en appliquant le bloc MHA masqué (masked MHA) présent dans les blocs décodeurs.\n",
    "\n",
    "**Tâche de code :** Implémentez un module FLAX qui réalise la structure suivante pour le bloc décodeur :\n",
    "\n",
    "$$\n",
    "\\text{FFN} \\big( \\mathrm{Norm}(\\mathrm{MHA}(\\mathrm{Norm}(X))) \\big)\n",
    "$$\n",
    "\n",
    "Autrement dit, coder un module FLAX qui applique dans cet ordre :\n",
    "\n",
    "1. Normalisation sur l’entrée $X$\n",
    "2. Attention multi-tête masquée (Masked MHA)\n",
    "3. Addition et normalisation\n",
    "4. Réseau feed-forward (FFN)\n",
    "5. Addition et normalisation finale\n",
    "\n",
    "\n"
   ]
  },
  {
   "cell_type": "code",
   "execution_count": null,
   "metadata": {
    "id": "6JR03oeHRrZM"
   },
   "outputs": [],
   "source": [
    "#@title Implémentation du bloc décodeur\n",
    "\n",
    "class DecoderBlock(nn.Module):\n",
    "    \"\"\"\n",
    "    Bloc décodeur de transformateur.\n",
    "\n",
    "    Args:\n",
    "        num_heads: Le nombre de têtes d'attention dans le bloc d'attention multi-tête (MHA).\n",
    "        d_m: La taille des embeddings de token.\n",
    "        widening_factor: Le facteur par lequel la taille de la couche cachée est étendue dans le MLP.\n",
    "    \"\"\"\n",
    "\n",
    "    num_heads: int\n",
    "    d_m: int\n",
    "    widening_factor: int = 4\n",
    "\n",
    "    def setup(self):\n",
    "        # Initialiser le bloc d'attention multi-tête (MHA)\n",
    "        self.mha = MultiHeadAttention(self.num_heads, self.d_m)\n",
    "\n",
    "        # Initialiser les blocs AddNorm pour les connexions résiduelles et la normalisation\n",
    "        self.add_norm1 = AddNorm()  # Premier bloc AddNorm après MHA\n",
    "        self.add_norm2 = AddNorm()  # Deuxième bloc AddNorm après le MLP\n",
    "\n",
    "        # Initialiser le bloc FeedForward (MLP) qui traite les données après l'attention\n",
    "        self.MLP = FeedForwardBlock(widening_factor=self.widening_factor)\n",
    "\n",
    "    def __call__(self, X, mask=None, return_att_weight=True):\n",
    "        \"\"\"\n",
    "        Passe avant à travers le DecoderBlock.\n",
    "\n",
    "        Args:\n",
    "            X: Lot de tokens d'entrée alimentés dans le décodeur, de forme [B, T_decoder, d_m]\n",
    "            mask [optionnel, défaut=None]: Masque pour contrôler les positions que l'attention est autorisée à prendre en compte, de forme [T_decoder, T_decoder].\n",
    "            return_att_weight [optionnel, défaut=True]: Si True, retourne les poids d'attention avec la sortie.\n",
    "\n",
    "        Returns:\n",
    "            Si return_att_weight est True, retourne un tuple (X, attention_weights_1).\n",
    "            Sinon, retourne les représentations de token traitées X.\n",
    "        \"\"\"\n",
    "\n",
    "        # Appliquer l'attention multi-tête (Multi-Head Attention) aux tokens d'entrée (X) avec un masquage optionnel\n",
    "        attention, attention_weights_1 = self.mha(X, mask=mask, return_weights=True)\n",
    "\n",
    "        # Appliquer le premier bloc AddNorm (ajoute l'entrée originale X et normalise)\n",
    "        X = self.add_norm1(X, attention)\n",
    "\n",
    "        # Passer le résultat à travers le bloc FeedForward (MLP) pour traiter davantage les données\n",
    "        projection = self.MLP(X)\n",
    "\n",
    "        # Appliquer le deuxième bloc AddNorm (ajoute l'entrée de l'étape précédente et normalise)\n",
    "        X = self.add_norm2(X, projection)\n",
    "\n",
    "        # Retourner la sortie finale X, et optionnellement les poids d'attention\n",
    "        return (X, attention_weights_1) if return_att_weight else X"
   ]
  },
  {
   "cell_type": "markdown",
   "metadata": {
    "id": "uwyJ7wfvR3iB"
   },
   "source": [
    "Ensuite, nous allons tout assembler, en ajoutant les encodages de position ainsi que l'empilement de plusieurs blocs de transformateurs et l'ajout de notre couche de prédiction."
   ]
  },
  {
   "cell_type": "code",
   "execution_count": null,
   "metadata": {
    "id": "mOjE40uJR5sU"
   },
   "outputs": [],
   "source": [
    "class LLM(nn.Module):\n",
    "    \"\"\"\n",
    "    Modèle de transformateur composé de plusieurs couches de blocs décodeurs.\n",
    "\n",
    "    Args:\n",
    "        num_heads: Nombre de têtes d'attention dans chaque bloc d'attention multi-tête (MHA).\n",
    "        num_layers: Nombre de blocs décodeurs dans le modèle.\n",
    "        d_m: Dimensionnalité des embeddings de token.\n",
    "        vocab_size: Taille du vocabulaire (nombre de tokens uniques).\n",
    "        widening_factor: Facteur pour lequel la taille de la couche cachée est étendue dans le MLP.\n",
    "    \"\"\"\n",
    "    num_heads: int\n",
    "    num_layers: int\n",
    "    d_m: int\n",
    "    vocab_size: int\n",
    "    widening_factor: int = 4\n",
    "\n",
    "    def setup(self):\n",
    "        # Initialiser une liste de blocs décodeurs, un pour chaque couche du modèle\n",
    "        self.blocks = [\n",
    "            DecoderBlock(self.num_heads, self.d_m, self.widening_factor)\n",
    "            for _ in range(self.num_layers)\n",
    "        ]\n",
    "\n",
    "        # Initialiser une couche d'embedding pour convertir les IDs de token en embeddings de token\n",
    "        self.embedding = nn.Embed(num_embeddings=self.vocab_size, features=self.d_m)\n",
    "\n",
    "        # Initialiser une couche dense pour prédire le prochain token de la séquence\n",
    "        self.pred_layer = nn.Dense(self.vocab_size)\n",
    "\n",
    "    def __call__(self, X, mask=None, return_att_weights=False):\n",
    "        \"\"\"\n",
    "        Passe avant à travers le modèle LLM.\n",
    "\n",
    "        Args:\n",
    "            X: Lot d'IDs de token d'entrée, de forme [B, T_decoder] où B est la taille du lot et T_decoder est la longueur de la séquence.\n",
    "            mask [optionnel, défaut=None]: Masque pour contrôler les positions sur lesquelles l'attention peut se concentrer, de forme [T_decoder, T_decoder].\n",
    "            return_att_weights [optionnel, défaut=False]: Si True, retourne les poids d'attention.\n",
    "\n",
    "        Returns:\n",
    "            logits: Les probabilités prédites pour chaque token du vocabulaire.\n",
    "            Si return_att_weights est True, retourne également les poids d'attention.\n",
    "        \"\"\"\n",
    "\n",
    "        # Convertir les IDs de token en embeddings (forme [B, T_decoder, d_m])\n",
    "        X = self.embedding(X)\n",
    "\n",
    "        # Obtenir la longueur de la séquence de l'entrée\n",
    "        sequence_len = X.shape[-2]\n",
    "\n",
    "        # Générer des encodages de position et les ajouter aux embeddings de token\n",
    "        positions = return_frequency_pe_matrix(sequence_len, self.d_m)\n",
    "        X = X + positions\n",
    "\n",
    "        # Initialiser une liste pour stocker les poids d'attention si nécessaire\n",
    "        if return_att_weights:\n",
    "            att_weights = []\n",
    "\n",
    "        # Passer les embeddings à travers chaque bloc décodeur séquentiellement\n",
    "        for block in self.blocks:\n",
    "            out = block(X, mask, return_att_weights)\n",
    "            if return_att_weights:\n",
    "                # Si les poids d'attention sont retournés, décompresser la sortie\n",
    "                X = out[0]\n",
    "                att_weights.append(out[1])\n",
    "            else:\n",
    "                # Sinon, mettre à jour l'entrée pour le prochain bloc\n",
    "                X = out\n",
    "\n",
    "        # Appliquer une couche dense suivie d'un log softmax pour obtenir les logits (probabilités de token prédites)\n",
    "        logits = nn.log_softmax(self.pred_layer(X))\n",
    "\n",
    "        # Retourner les logits, et optionnellement, les poids d'attention\n",
    "        return logits if not return_att_weights else (logits, jnp.array(att_weights).swapaxes(0, 1))"
   ]
  },
  {
   "cell_type": "markdown",
   "metadata": {
    "id": "iAhAuP_wR9ml"
   },
   "source": [
    "Si tout est correct, si nous exécutons le code ci-dessous, tout devrait s'exécuter sans aucun problème."
   ]
  },
  {
   "cell_type": "code",
   "execution_count": null,
   "metadata": {
    "id": "YvnKc43XR_c0"
   },
   "outputs": [],
   "source": [
    "# Définir les dimensions du modèle et les formes des entrées\n",
    "batch_size = 18\n",
    "sequence_length = 32\n",
    "embedding_dim = 16\n",
    "num_decoder_layers = 8\n",
    "vocab_size = 25670\n",
    "\n",
    "# Initialiser le modèle de langage\n",
    "llm = LLM(\n",
    "    num_heads=1,\n",
    "    num_layers=1,\n",
    "    d_m=embedding_dim,\n",
    "    vocab_size=vocab_size,\n",
    "    widening_factor=4\n",
    ")\n",
    "\n",
    "# Créer un masque d'attention triangulaire inférieur pour un décodage causal\n",
    "causal_mask = jnp.tril(np.ones((sequence_length, sequence_length)))\n",
    "\n",
    "# Générer des IDs de token d'entrée aléatoires\n",
    "rng_key = jax.random.PRNGKey(42)\n",
    "input_token_ids = jax.random.randint(rng_key, [batch_size, sequence_length], 0, vocab_size)\n",
    "\n",
    "# Initialiser les paramètres du modèle\n",
    "model_params = llm.init(rng_key, input_token_ids, mask=causal_mask)\n",
    "\n",
    "# Exécuter le modèle et extraire les logits et les poids d'attention du décodeur\n",
    "logits, decoder_attention_weights = llm.apply(\n",
    "    model_params,\n",
    "    input_token_ids,\n",
    "    mask=causal_mask,\n",
    "    return_att_weights=True,\n",
    ")"
   ]
  },
  {
   "cell_type": "markdown",
   "metadata": {
    "id": "N8vowzz-SC2q"
   },
   "source": [
    "En tant que vérification finale de la santé mentale, nous pouvons confirmer que nos poids d'attention fonctionnent correctement.Comme le montre la figure ci-dessous, les poids d'attention du décodeur ne se concentrent que sur les jetons précédents, comme prévu."
   ]
  },
  {
   "cell_type": "code",
   "execution_count": null,
   "metadata": {
    "id": "5NbvRSNzSF0H"
   },
   "outputs": [],
   "source": [
    "fig, ax = plt.subplots(1, 1, figsize=(10, 5))\n",
    "plt.suptitle(\"LLM attention weights\")\n",
    "sns.heatmap(decoder_attention_weights[0, 0, 0, ...], ax=ax, cmap=\"Blues\")\n",
    "fig.show()"
   ]
  },
  {
   "cell_type": "markdown",
   "metadata": {
    "id": "7nsFaXhdSKZG"
   },
   "source": [
    "### Entraînement de votre LLM\n"
   ]
  },
  {
   "cell_type": "markdown",
   "metadata": {
    "id": "o6BUm34sSRJH"
   },
   "source": [
    "#### Objectif de formation [<Font Color = 'Green'> Intermédiaire </font>]\n"
   ]
  },
  {
   "cell_type": "markdown",
   "metadata": {
    "id": "7jJ2TTwjSV-u"
   },
   "source": [
    "Une phrase n’est rien d’autre qu’une suite de mots. Un LLM vise à prédire le mot suivant en tenant compte du contexte actuel, c’est-à-dire des mots qui l’ont précédé.\n",
    "\n",
    "Voici l’idée principale :\n",
    "\n",
    "Pour calculer la probabilité qu’une phrase complète « mot1, mot2, ..., dernier mot » apparaisse dans un contexte donné $c$, on décompose la phrase en mots individuels et on considère la probabilité de chaque mot sachant les mots qui le précèdent. Ces probabilités individuelles sont ensuite multipliées entre elles :\n",
    "\n",
    "$$\n",
    "\\text{Probabilité de la phrase} = \\text{Probabilité de mot}_1 \\times \\text{Probabilité de mot}_2 \\times \\ldots \\times \\text{Probabilité du dernier mot}\n",
    "$$\n",
    "\n",
    "Cette méthode revient à construire un récit morceau par morceau en se basant sur ce qui a été raconté avant.\n",
    "\n",
    "Mathématiquement, cela s’exprime par la vraisemblance (probabilité) d’une séquence de mots $y_1, y_2, \\ldots, y_n$ dans un contexte donné $c$, calculée en multipliant les probabilités de chaque mot $y_t$ conditionnées aux mots précédents $(y_{<t})$ et au contexte $c$ :\n",
    "\n",
    "$$\n",
    "P(y_1, y_2, \\ldots, y_n \\mid c) = \\prod_{t=1}^{n} P(y_t \\mid y_{<t}, c)\n",
    "$$\n",
    "\n",
    "Ici, $y_{<t}$ désigne la séquence $y_1, y_2, \\ldots, y_{t-1}$, tandis que $c$ représente le contexte.\n",
    "\n",
    "C’est analogue à assembler un puzzle où la pièce suivante est placée en fonction de celles déjà posées.\n",
    "\n",
    "---\n",
    "\n",
    "Gardez à l’esprit que lors de l’entraînement d’un transformeur, on ne travaille pas avec des mots mais avec des tokens. Pendant le processus d’entraînement, les paramètres du modèle sont ajustés en calculant la perte d’entropie croisée entre le token prédit et le token correct, puis en effectuant la rétropropagation. La perte au temps $t$ est calculée ainsi :\n",
    "\n",
    "$$\n",
    "\\text{Loss}_t = - \\sum_{w \\in V} y_t \\log(\\hat{y}_t)\n",
    "$$\n",
    "\n",
    "où $w \\in V$ correspond à chaque mot $w$ dans le vocabulaire $V$.\n",
    "\n",
    "Ici, $y_t$ est le token réel au temps $t$, et $\\hat{y}_t$ est le token prédit par le modèle au même instant. La perte sur toute la phrase est ensuite calculée comme :\n",
    "\n",
    "$$\n",
    "\\text{Loss}_{\\text{phrase}} = \\frac{1}{n} \\sum_{t=1}^n \\text{Loss}_t\n",
    "$$\n",
    "\n",
    "avec $n$ la longueur de la séquence.\n",
    "\n",
    "Ce processus itératif affine progressivement les capacités prédictives du modèle.\n",
    "\n",
    "---\n",
    "\n",
    "**Tâche de code :** Implémentez la fonction de perte d’entropie croisée (cross-entropy loss) ci-dessous.\n"
   ]
  },
  {
   "cell_type": "code",
   "execution_count": null,
   "metadata": {
    "id": "jeAWLPJbSVLM"
   },
   "outputs": [],
   "source": [
    "def sequence_loss_fn(logits, targets):\n",
    "  '''\n",
    "  Compute the cross-entropy loss between predicted token ID and true ID.\n",
    "\n",
    "  Args:\n",
    "    logits: An array of shape [batch_size, sequence_length, vocab_size]\n",
    "    targets: The targets we are trying to predict\n",
    "\n",
    "  Returns:\n",
    "    loss: A scalar value representing the mean batch loss\n",
    "  '''\n",
    "\n",
    "  target_labels = jax.nn.one_hot(targets, VOCAB_SIZE)\n",
    "  assert logits.shape == target_labels.shape\n",
    "\n",
    "  mask = jnp.greater(targets, 0)\n",
    "\n",
    "# Astuce : Calculez la perte d'entropie croisée en appliquant d'abord `jax.nn.log_softmax(logits)`\n",
    "# pour obtenir les probabilités logarithmiques de chaque classe. Multipliez ensuite ces probabilités logarithmiques\n",
    "# par `target_labels` pour vous concentrer sur la probabilité de la classe concernée. Additionnez ce résultat\n",
    "# le long du dernier axe pour obtenir la perte pour chaque jeton. Enfin, appliquez le masque à la perte,\n",
    "# additionnez les pertes masquées et normalisez par le nombre de jetons non remplis.\n",
    "  loss = ...# FINISH ME\n",
    "\n",
    "  return loss"
   ]
  },
  {
   "cell_type": "code",
   "execution_count": null,
   "metadata": {
    "id": "Rwp5yuhrSdgB"
   },
   "outputs": [],
   "source": [
    "# @title Exécutez-moi pour tester votre code\n",
    "VOCAB_SIZE = 25670\n",
    "targets = jnp.array([[0, 2, 0]])\n",
    "key = jax.random.PRNGKey(42)\n",
    "X = jax.random.normal(key, [1, 3, VOCAB_SIZE])\n",
    "loss = sequence_loss_fn(X, targets)\n",
    "real_loss = jnp.array(10.966118)\n",
    "\n",
    "try:\n",
    "  jnp.allclose(real_loss, loss)\n",
    "  print(\"It seems correct. Look at the answer below to compare methods.\")\n",
    "except:\n",
    "  print(\"Not returning the correct value\")"
   ]
  },
  {
   "cell_type": "code",
   "execution_count": null,
   "metadata": {
    "id": "wIPqzOq1Sg9p"
   },
   "outputs": [],
   "source": [
    "# @title Réponse à la tâche de code (Essayez avant de regarder !)\n",
    "def sequence_loss_fn(logits, targets):\n",
    "    \"\"\"Compute the sequence loss between predicted logits and target labels.\n",
    "       (Calcule la perte de séquence entre les logits prédits et les étiquettes cibles.)\n",
    "    \"\"\"\n",
    "\n",
    "    # Convertir les indices cibles en vecteurs one-hot.\n",
    "    # Chaque étiquette cible est convertie en un vecteur one-hot de taille VOCAB_SIZE.\n",
    "    target_labels = jax.nn.one_hot(targets, VOCAB_SIZE)\n",
    "\n",
    "    # S'assurer que la forme des logits correspond à celle des cibles encodées en one-hot.\n",
    "    # C'est important car nous devons calculer la perte sur des dimensions correspondantes.\n",
    "    assert logits.shape == target_labels.shape\n",
    "\n",
    "    # Créer un masque qui ignore les tokens de remplissage lors du calcul de la perte.\n",
    "    # Le masque est Vrai (1) lorsque la valeur cible est supérieure à 0, et Faux (0) sinon.\n",
    "    mask = jnp.greater(targets, 0)\n",
    "\n",
    "    # Calculer la perte par entropie croisée pour chaque token.\n",
    "    # L'entropie croisée est calculée comme la probabilité logarithmique négative de la classe correcte.\n",
    "    # jax.nn.log_softmax(logits) nous donne les probabilités logarithmiques de chaque classe.\n",
    "    # On multiplie par les target_labels pour sélectionner la probabilité logarithmique de la classe correcte.\n",
    "    loss = -jnp.sum(target_labels * jax.nn.log_softmax(logits), axis=-1)\n",
    "\n",
    "    # Appliquer le masque à la perte pour ignorer les positions de remplissage et sommer les pertes.\n",
    "    # On normalise ensuite la perte totale par le nombre de tokens non-remplis.\n",
    "    loss = jnp.sum(loss * mask) / jnp.sum(mask)\n",
    "\n",
    "    return loss\n"
   ]
  },
  {
   "cell_type": "markdown",
   "metadata": {
    "id": "7Jp_1cbQSnzq"
   },
   "source": [
    "#### Modèles d'entraînement [<font color = 'vert'> intermédiaire </font>]"
   ]
  },
  {
   "cell_type": "markdown",
   "metadata": {
    "id": "nWx1nrZZSmZj"
   },
   "source": [
    "Dans la section suivante, nous définissons tous les processus nécessaires pour former le modèle en utilisant l'objectif décrit ci-dessus.Une grande partie de cela est maintenant le travail requis pour faire une formation en utilisant le lin.\n",
    "\n",
    "Ci-dessous, nous rassemblons l'ensemble de données et nous allons nous entraîner, qui est l'ensemble de données Shakespeare de Karpathy.Il n'est pas si important de comprendre ce code, donc soit exécuter la cellule pour charger les données, soit afficher le code si vous voulez le comprendre.\n"
   ]
  },
  {
   "cell_type": "code",
   "execution_count": null,
   "metadata": {
    "id": "2MyUYK9DSqbo"
   },
   "outputs": [],
   "source": [
    "# @title Créer un jeu de données Shakespeare et un itérateur (optionnel, mais exécutez la cellule)\n",
    "\n",
    "# Astuce pour éviter les erreurs lors du téléchargement de tinyshakespeare.\n",
    "import locale\n",
    "locale.getpreferredencoding = lambda: \"UTF-8\"\n",
    "\n",
    "!wget https://raw.githubusercontent.com/karpathy/char-rnn/master/data/tinyshakespeare/input.txt -O input.txt\n",
    "\n",
    "class WordBasedAsciiDatasetForLLM:\n",
    "    \"\"\"In-memory dataset of a single-file ASCII dataset for language-like model.\n",
    "       (Jeu de données en mémoire d’un fichier ASCII unique pour un modèle de type langage.)\n",
    "    \"\"\"\n",
    "\n",
    "    def __init__(self, path: str, batch_size: int, sequence_length: int):\n",
    "        \"\"\"Load a single-file ASCII dataset in memory.\n",
    "           (Charger un jeu de données ASCII dans la mémoire.)\n",
    "        \"\"\"\n",
    "        self._batch_size = batch_size\n",
    "\n",
    "        with open(path, \"r\") as f:\n",
    "            corpus = f.read()\n",
    "\n",
    "        # Tokeniser en divisant le texte en mots\n",
    "        words = corpus.split()\n",
    "        self.vocab_size = len(set(words))  # Nombre de mots uniques\n",
    "\n",
    "        # Créer une correspondance entre les mots et des identifiants uniques\n",
    "        self.word_to_id = {word: i for i, word in enumerate(set(words))}\n",
    "\n",
    "        # Stocker la correspondance inverse des identifiants vers les mots\n",
    "        self.id_to_word = {i: word for word, i in self.word_to_id.items()}\n",
    "\n",
    "        # Convertir les mots du corpus en leurs identifiants correspondants\n",
    "        corpus = np.array([self.word_to_id[word] for word in words]).astype(np.int32)\n",
    "\n",
    "        crop_len = sequence_length + 1\n",
    "        num_batches, ragged = divmod(corpus.size, batch_size * crop_len)\n",
    "        if ragged:\n",
    "            corpus = corpus[:-ragged]\n",
    "        corpus = corpus.reshape([-1, crop_len])\n",
    "\n",
    "        if num_batches < 10:\n",
    "            raise ValueError(\n",
    "                f\"Only {num_batches} batches; consider a shorter \"\n",
    "                \"sequence or a smaller batch.\"\n",
    "            )\n",
    "            # Seulement {num_batches} lots; envisagez une séquence plus courte\n",
    "            # ou une taille de lot plus petite.\n",
    "\n",
    "        self._ds = WordBasedAsciiDatasetForLLM._infinite_shuffle(\n",
    "            corpus, batch_size * 10\n",
    "        )\n",
    "\n",
    "    def __iter__(self):\n",
    "        return self\n",
    "\n",
    "    def __next__(self):\n",
    "        \"\"\"Yield next mini-batch.\n",
    "           (Produire le mini-lot suivant.)\n",
    "        \"\"\"\n",
    "        batch = [next(self._ds) for _ in range(self._batch_size)]\n",
    "        batch = np.stack(batch)\n",
    "        # Créer les paires observation/cible pour le modèle de langage.\n",
    "        return dict(\n",
    "            input=batch[:, :-1], target=batch[:, 1:]\n",
    "        )\n",
    "\n",
    "    def ids_to_words(self, ids):\n",
    "        \"\"\"Convert a sequence of word IDs to words.\n",
    "           (Convertir une séquence d'identifiants de mots en mots.)\n",
    "        \"\"\"\n",
    "        return [self.id_to_word[id] for id in ids]\n",
    "\n",
    "    @staticmethod\n",
    "    def _infinite_shuffle(iterable, buffer_size):\n",
    "        \"\"\"Infinitely repeat and shuffle data from iterable.\n",
    "           (Répéter et mélanger indéfiniment les données provenant d'un itérable.)\n",
    "        \"\"\"\n",
    "        ds = itertools.cycle(iterable)\n",
    "        buf = [next(ds) for _ in range(buffer_size)]\n",
    "        random.shuffle(buf)\n",
    "        while True:\n",
    "            item = next(ds)\n",
    "            idx = random.randint(0, buffer_size - 1)  # Inclusif.\n",
    "            result, buf[idx] = buf[idx], item\n",
    "            yield result\n"
   ]
  },
  {
   "cell_type": "markdown",
   "metadata": {
    "id": "eJf97wcmSv2y"
   },
   "source": [
    "Permet maintenant de voir comment nos données sont structurées pour la formation"
   ]
  },
  {
   "cell_type": "code",
   "execution_count": null,
   "metadata": {
    "id": "o3UEb_1hSzPc"
   },
   "outputs": [],
   "source": [
    "# Échantillonner et visualiser les données\n",
    "batch_size = 2\n",
    "seq_length = 32\n",
    "train_dataset = WordBasedAsciiDatasetForLLM(\"input.txt\", batch_size, seq_length)\n",
    "\n",
    "batch = next(train_dataset)\n",
    "\n",
    "for obs, target in zip(batch[\"input\"], batch[\"target\"]):\n",
    "    print(\"-\" * 10, \"Input\", \"-\" * 11)\n",
    "    print(\"TEXT:\", ' '.join(train_dataset.ids_to_words(obs)))\n",
    "    print(\"ASCII:\", obs)\n",
    "    print(\"-\" * 10, \"Target\", \"-\" * 10)\n",
    "    print(\"TEXT:\", ' '.join(train_dataset.ids_to_words(target)))\n",
    "    print(\"ASCII:\", target)\n",
    "\n",
    "print(f\"\\n Total vocabulary size: {train_dataset.vocab_size}\")\n",
    "\n",
    "VOCAB_SIZE = train_dataset.vocab_size"
   ]
  },
  {
   "cell_type": "markdown",
   "metadata": {
    "id": "wVKnUqggS5ru"
   },
   "source": [
    "Ensuite, entraînons notre LLM et voyons comment elle fonctionne dans la production de texte shakespearien.Tout d'abord, nous définirons ce qui se passe pour chaque étape de formation."
   ]
  },
  {
   "cell_type": "code",
   "execution_count": null,
   "metadata": {
    "id": "PMNCtFxxS91p"
   },
   "outputs": [],
   "source": [
    "import functools\n",
    "\n",
    "@functools.partial(jax.jit, static_argnums=(3, 4))\n",
    "def train_step(params, optimizer_state, batch, apply_fn, update_fn):\n",
    "    \"\"\"\n",
    "    Effectue une seule étape d'entraînement.\n",
    "\n",
    "    Args:\n",
    "        params: Les paramètres actuels du modèle.\n",
    "        optimizer_state: L'état actuel de l'optimiseur.\n",
    "        batch: Un dictionnaire contenant les données d'entrée et les étiquettes cibles pour le lot.\n",
    "        apply_fn: La fonction utilisée pour appliquer le modèle aux entrées.\n",
    "        update_fn: La fonction utilisée pour mettre à jour les paramètres du modèle en fonction des gradients.\n",
    "\n",
    "    Returns:\n",
    "        Les paramètres mis à jour, l'état de l'optimiseur mis à jour, et la perte calculée pour le lot.\n",
    "    \"\"\"\n",
    "\n",
    "    def loss_fn(params):\n",
    "        # Obtenir la longueur de la séquence (T) à partir des données d'entrée.\n",
    "        T = batch['input'].shape[1]\n",
    "\n",
    "        # Appliquer le modèle aux données d'entrée, en utilisant un masque triangulaire inférieur pour imposer la causalité.\n",
    "        # jnp.tril(np.ones((T, T))) crée une matrice triangulaire inférieure de uns.\n",
    "        logits = apply_fn(params, batch['input'], jnp.tril(np.ones((T, T))))\n",
    "\n",
    "        # Calculer la perte entre les logits prédits et les étiquettes cibles.\n",
    "        loss = sequence_loss_fn(logits, batch['target'])\n",
    "\n",
    "        return loss\n",
    "\n",
    "    # Calculer la perte et ses gradients par rapport aux paramètres.\n",
    "    loss, gradients = jax.value_and_grad(loss_fn)(params)\n",
    "\n",
    "    # Mettre à jour l'état de l'optimiseur et calculer les mises à jour des paramètres en fonction des gradients.\n",
    "    updates, optimizer_state = update_fn(gradients, optimizer_state)\n",
    "\n",
    "    # Appliquer les mises à jour aux paramètres.\n",
    "    params = optax.apply_updates(params, updates)\n",
    "\n",
    "    # Retourner les paramètres mis à jour, l'état de l'optimiseur et la perte pour le lot.\n",
    "    return params, optimizer_state, loss"
   ]
  },
  {
   "cell_type": "markdown",
   "metadata": {
    "id": "12uUhzgcTRBM"
   },
   "source": [
    "Ensuite, nous initialisons notre optimiseur et notre modèle.N'hésitez pas à jouer avec les hyperparamètres pendant la pratique."
   ]
  },
  {
   "cell_type": "code",
   "execution_count": null,
   "metadata": {
    "id": "1NJjGy-qTSk8"
   },
   "outputs": [],
   "source": [
    "# Définir tous les hyperparamètres\n",
    "d_model = 128            # Dimension des embeddings de token (d_m)\n",
    "num_heads = 4            # Nombre de têtes d'attention dans l'attention multi-tête\n",
    "num_layers = 1           # Nombre de blocs décodeurs dans le modèle\n",
    "widening_factor = 2      # Facteur pour élargir la taille de la couche cachée dans le MLP\n",
    "LR = 2e-3                # Taux d'apprentissage pour l'optimiseur\n",
    "batch_size = 32          # Nombre d'échantillons par lot d'entraînement\n",
    "seq_length = 64          # Longueur de chaque séquence d'entrée (nombre de tokens)\n",
    "\n",
    "# Configurer les données d'entraînement\n",
    "train_dataset = WordBasedAsciiDatasetForLLM(\"input.txt\", batch_size, seq_length)\n",
    "vocab_size = train_dataset.vocab_size  # Obtenir la taille du vocabulaire à partir de l'ensemble de données\n",
    "batch = next(train_dataset)            # Obtenir le premier lot de données d'entrée\n",
    "\n",
    "# Définir la clé du générateur de nombres aléatoires pour l'initialisation du modèle\n",
    "rng = jax.random.PRNGKey(42)\n",
    "\n",
    "# Initialiser le modèle LLM avec les hyperparamètres spécifiés\n",
    "llm = LLM(num_heads=num_heads, num_layers=num_layers, d_m=d_model, vocab_size=vocab_size, widening_factor=widening_factor)\n",
    "\n",
    "# Créer un masque causal pour s'assurer que le modèle ne porte attention qu'aux tokens précédents\n",
    "mask = jnp.tril(np.ones((batch['input'].shape[1], batch['input'].shape[1])))\n",
    "\n",
    "# Initialiser les paramètres du modèle en utilisant le premier lot de données d'entrée et le masque\n",
    "params = llm.init(rng, batch['input'], mask)\n",
    "\n",
    "# Configurer l'optimiseur en utilisant l'algorithme d'optimisation Adam avec le taux d'apprentissage spécifié\n",
    "optimizer = optax.adam(LR, b1=0.9, b2=0.99)\n",
    "optimizer_state = optimizer.init(params)  # Initialiser l'état de l'optimiseur avec les paramètres du modèle"
   ]
  },
  {
   "cell_type": "markdown",
   "metadata": {
    "id": "QdwUHcn6TZQT"
   },
   "source": [
    "Maintenant, nous nous entraînons!Cela prendra quelques minutes .. Pendant qu'il s'entraîne, avez-vous encore salué votre voisin?"
   ]
  },
  {
   "cell_type": "code",
   "execution_count": null,
   "metadata": {
    "id": "Vlk7laQVTYNw"
   },
   "outputs": [],
   "source": [
    "plotlosses = PlotLosses()\n",
    "\n",
    "MAX_STEPS = 3500\n",
    "LOG_EVERY = 32\n",
    "losses = []\n",
    "VOCAB_SIZE = 25670\n",
    "\n",
    "# Boucle d'entraînement\n",
    "for step in range(MAX_STEPS):\n",
    "    batch = next(train_dataset)\n",
    "    params, optimizer_state, loss = train_step(\n",
    "        params, optimizer_state, batch, llm.apply, optimizer.update)\n",
    "    losses.append(loss)\n",
    "    if step % LOG_EVERY == 0:\n",
    "        loss_ = jnp.array(losses).mean()\n",
    "        plotlosses.update(\n",
    "            {\n",
    "                \"loss\": loss_,\n",
    "            }\n",
    "        )\n",
    "        plotlosses.send()\n",
    "        losses = []"
   ]
  },
  {
   "cell_type": "markdown",
   "metadata": {
    "id": "qE5N87UWT_uK"
   },
   "source": [
    "#### Inspectant le LLM Entrainé [<font color = 'orange'> débutant </font>]\n"
   ]
  },
  {
   "cell_type": "markdown",
   "metadata": {
    "id": "MGBOSUgdUE3J"
   },
   "source": [
    "**Rappel :** n’oubliez pas d’exécuter tout le code présenté jusqu’à présent dans cette section avant de lancer les cellules ci-dessous !\n",
    "\n",
    "Générons maintenant du texte et voyons les performances de notre modèle. NE PAS ARRÊTER LA CELLULE UNE FOIS QU’ELLE EST EN COURS D’EXÉCUTION, CELA POURRAIT FAIRE PLANTER LA SESSION.\n"
   ]
  },
  {
   "cell_type": "code",
   "execution_count": null,
   "metadata": {
    "id": "p4XVDaTHUICU"
   },
   "outputs": [],
   "source": [
    "import functools\n",
    "\n",
    "@functools.partial(jax.jit, static_argnums=(2, ))\n",
    "def generate_prediction(params, input, apply_fn):\n",
    "  logits = apply_fn(params, input)\n",
    "  argmax_out = jnp.argmax(logits, axis=-1)\n",
    "  return argmax_out[0][-1].astype(int)\n",
    "\n",
    "def generate_random_shakespeare(llm, params, id_2_word, word_2_id):\n",
    "    '''\n",
    "    Obtenir la sortie du modèle\n",
    "    '''\n",
    "\n",
    "    prompt = \"Love\"\n",
    "    print(prompt, end=\"\")\n",
    "    tokens = prompt.split()\n",
    "\n",
    "    # prédire et ajouter\n",
    "    for i in range(15):\n",
    "      input = jnp.array([[word_2_id[t] for t in tokens]]).astype(int)\n",
    "      prediction = generate_prediction(params, input, llm.apply)\n",
    "      prediction = id_2_word[int(prediction)]\n",
    "      tokens.append(prediction)\n",
    "      print(\" \"+prediction, end=\"\")\n",
    "\n",
    "    return \" \".join(tokens)\n",
    "\n",
    "id_2_word = train_dataset.id_to_word\n",
    "word_2_id = train_dataset.word_to_id\n",
    "\n",
    "generated_shakespeare = generate_random_shakespeare(llm, params, id_2_word, word_2_id)"
   ]
  },
  {
   "cell_type": "markdown",
   "metadata": {
    "id": "k_7rSlfaUOeD"
   },
   "source": [
    "Enfin, nous avons implémenté tout ce qui précède en sélectionnant l’ID du token avec la probabilité maximale d’être correct. C’est ce qu’on appelle le décodage glouton (greedy decoding), car on ne prend que le token le plus probable. Cela a bien fonctionné dans ce cas, mais dans certaines situations, cette approche peut entraîner une dégradation des performances, notamment lorsqu’on cherche à générer un texte réaliste.\n",
    "\n",
    "D’autres méthodes existent pour l’échantillonnage depuis le décodeur, parmi lesquelles l’algorithme bien connu appelé recherche par faisceau (beam search). Nous fournissons ci-dessous des ressources pour ceux qui souhaitent en apprendre davantage.\n",
    "\n",
    "[Décodage glouton (Greedy Decoding)](https://www.youtube.com/watch?v=DW5C3eqAFQM&list=PLmZlBIcArwhPHmHzyM_cZJQ8_v5paQJTV&index=4)\n",
    "\n",
    "[Recherche par faisceau (Beam Search)](https://www.youtube.com/watch?v=uG3xoYNo3HM&list=PLmZlBIcArwhPHmHzyM_cZJQ8_v5paQJTV&index=5)\n"
   ]
  },
  {
   "cell_type": "markdown",
   "metadata": {
    "id": "tixtBEtRPZ5n"
   },
   "source": [
    "## Matière à réflexion : Quel est le coût lorsque vous discutez avec un LLM dans votre langue ?\n",
    "\n",
    "Avant de clore ce chapitre sur les Transformers, nous souhaitons vous inviter à réfléchir à ceci : quel est le coût lorsque vous échangez avec un LLM dans votre langue ?\n",
    "\n",
    "Le coût d’interaction avec un modèle de langage dépend du nombre de tokens dans votre message. En effet, les LLM facturent à la token, pas au mot, à la phrase ou au caractère.\n",
    "\n",
    "Par exemple :\n",
    "\n",
    "* **GPT-4.0-turbo** (en date de juin 2025) [coûte](https://openai.com/api/pricing/) **2 \\$ pour 1 million de tokens** en entrée.\n",
    "* **Gemma 2.5 Pro** (via l’API Gemini, juin 2025) [coûte](https://ai.google.dev/gemini-api/docs/pricing) **1,25 \\$ pour 1 million de tokens**.\n",
    "\n",
    "Comme chaque modèle utilise une méthode de tokenisation différente, ils décomposent les langues différemment. Cela peut entraîner des coûts plus élevés pour certaines langues, même lorsque la phrase signifie exactement la même chose.\n",
    "\n",
    "### Calculons le coût des tokens\n",
    "\n",
    "Si le coût est de **2 \\$ pour 1 million de tokens**, voici comment le coût évolue :\n",
    "\n",
    "$$\n",
    "\\text{Coût} = \\text{Nombre de tokens} \\times \\left(\\frac{2}{1{,}000{,}000}\\right)\n",
    "$$\n",
    "\n",
    "#### 💰 Estimations exemples :\n",
    "\n",
    "| Nombre de tokens | Calcul                                      | Coût (USD)     |\n",
    "| ---------------- | ------------------------------------------- | -------------- |\n",
    "| 10 tokens        | \\$10 \\times \\frac{2}{1{,}000{,}000}\\$       | **0,00002 \\$** |\n",
    "| 100 tokens       | \\$100 \\times \\frac{2}{1{,}000{,}000}\\$      | **0,0002 \\$**  |\n",
    "| 1 000 tokens     | \\$1000 \\times \\frac{2}{1{,}000{,}000}\\$     | **0,002 \\$**   |\n",
    "| 10 000 tokens    | \\$10{,}000 \\times \\frac{2}{1{,}000{,}000}\\$ | **0,02 \\$**    |\n",
    "\n",
    "Imaginez maintenant que vous générez ou traitez des millions de requêtes dans une langue locale qui se tokenise de manière inefficace. Cela pourrait signifier dépenser plus pour dire la même chose, simplement parce que votre langue ne s’adapte pas bien au tokenizer utilisé par le modèle de langage.\n",
    "\n",
    "<figure>\n",
    "  <img src=\"https://drive.google.com/uc?export=view&id=1m0mCSEEuBxNzb8pJfMANqsvikRorBubE\" alt=\"ChatGPT Pricing\" width=\"800\"/>\n",
    "  <figcaption><em></em></figcaption>\n",
    "</figure>\n"
   ]
  },
  {
   "cell_type": "markdown",
   "metadata": {
    "id": "QVTduxk4PdYC"
   },
   "source": [
    "#### 💸 Combien coûte ma LLM ? — Tokenisation en code\n",
    "\n",
    "**Configuration :**\n",
    "Nous allons tester comment différents modèles tokenisent la même phrase dans plusieurs langues, en utilisant :\n",
    "\n",
    "* **GPT-2** (tokenizer général pour l’anglais)\n",
    "* **Gemma** (tokenizer multilingue)\n",
    "* Un **tokenizer spécifique à une langue**\n",
    "\n",
    "Commençons par **GPT-2**.\n",
    "\n",
    "> Pour tous les modèles comparés ci-dessous, nous utiliserons le coût du token GPT-4.1 comme base de comparaison.\n"
   ]
  },
  {
   "cell_type": "code",
   "execution_count": null,
   "metadata": {
    "id": "XlLkCsH4Amkt"
   },
   "outputs": [],
   "source": [
    "def token_cost(tokens: list, model_name: str):\n",
    "    \"\"\"\n",
    "    Fonction qui prend une liste de tokens et retourne le coût du token pour le modèle donné.\n",
    "    \"\"\"\n",
    "    # coût par token pour Gemma 2.5 Pro https://ai.google.dev/gemini-api/docs/pricing\n",
    "    # pour l'instant, supposer que tous les tokenizers coûtent la même chose\n",
    "    cost_per_token = 2/1000000  # coût par token pour GPT4.1\n",
    "\n",
    "    return len(tokens) * cost_per_token  # Gemma3 utilise un coût fixe par token"
   ]
  },
  {
   "cell_type": "code",
   "execution_count": null,
   "metadata": {
    "id": "5wO5Y7_NPmqP"
   },
   "outputs": [],
   "source": [
    "model_name = \"gpt2\"  #@param [\"gpt2\", \"gpt2-medium\", \"EleutherAI/gpt-neo-125M\"]\n",
    "tokenizer = get_tokenizer(model_name)  # Tokenizer par défaut, peut être changé au besoin\n",
    "sentence = \"This is a sample sentence for tokenization.\" #@param {type:\"string\"}\n",
    "tokens, token_ids = tokenize(sentence, model_name)\n",
    "print(\"Phrase :\", sentence)\n",
    "print(\"Tokens :\",  tokens)\n",
    "print(\"IDs des tokens :\", token_ids)\n",
    "print(\"Nombre de tokens :\", len(tokens))\n",
    "print(\"Coût du token :\", token_cost(tokens, model_name))"
   ]
  },
  {
   "cell_type": "markdown",
   "metadata": {
    "id": "e-Svrwz-PsEo"
   },
   "source": [
    "Next,\n",
    "- Essayez une même phrase dans une langue différente, par exemple Swahili ou Yoruba\n",
    "- Observer et enregistrer le nombre de jetons\n"
   ]
  },
  {
   "cell_type": "code",
   "execution_count": null,
   "metadata": {
    "id": "O5qcyoRWPrBJ"
   },
   "outputs": [],
   "source": [
    "sentences = {\"English\": \"Welcome to the Indaba LLM tutorial happening in Kigali. Get ready to explore the world of LLMs.\",\n",
    "             \"German\": \"Willkommen zum Indaba LLM Tutorial in Kigali. Macht euch bereit die Welt von LLMs zu erkunden.\",\n",
    "             \"French\": \"Bienvenue au tutoriel Indaba sur les LLM qui se déroule à Kigali. Préparez-vous à explorer le monde des LLM.\",\n",
    "             \"Lithuania\": \"Sveiki atvykę į Indaba LLM (Didžiųjų Kalbinių Modelių) mokymus vykstančius Kigalyje. Pasiruoškite tyrinėti LLM pasaulį.\",\n",
    "             \"Yoruba\": \"Kaabọ si ikẹkọ Indaba LLM ti n ṣẹlẹ ni Kigali. Ṣetan lati ṣawari agbaye ti LLMs.\",\n",
    "             \"Swahili\": \"Karibu kwenye mafunzo ya Indaba LLM yanayofanyika Kigali. Jitayarishe kuchunguza ulimwengu wa LLM.\",\n",
    "             \"Arabic\":  \".مرحبًا بكم في ورشة عمل  حول النماذج اللغوية الكبيرة التي تُقام في كيغالي. استعدوا لاستكشاف عالم النماذج اللغوية الكبيرة\",  # The arabic sentence is not a 1-1 translation\n",
    "             \"Kinyarwanda\": \"Murakaza neza mu isomo rya Indaba LLM riri kubera i Kigali. Mwitegure kuvumbura isi ya za LLM.\"\n",
    "            }"
   ]
  },
  {
   "cell_type": "code",
   "execution_count": null,
   "metadata": {
    "id": "EhPM1MyDPw8N"
   },
   "outputs": [],
   "source": [
    "model_name = \"gpt2\"   #@param [\"gpt2\", \"gpt2-medium\", \"EleutherAI/gpt-neo-125M\"]\n",
    "for language, sentence in sentences.items():\n",
    "    # Pour chaque langue, tokeniser la phrase et afficher les résultats\n",
    "    tokens, token_ids = tokenize(sentence, model_name)\n",
    "    print(f\"Langue : {language}, Modèle : {model_name}\")\n",
    "    print(\"-\" * 50)  # Séparateur pour plus de clarté\n",
    "    print(\"Phrase :\", sentence)\n",
    "    print(\"Tokens :\", tokens)\n",
    "    print(\"IDs des tokens :\", token_ids)\n",
    "    print(\"Nombre de tokens :\", len(tokens))\n",
    "    print(\"Coût du token (mis à l'échelle par 1000000) :\", f'${token_cost(tokens, model_name) * 1000000:0.1f}')\n",
    "    print(\"-\" * 50)  # Séparateur pour plus de clarté"
   ]
  },
  {
   "cell_type": "markdown",
   "metadata": {
    "id": "wD2dDhQ2P2cU"
   },
   "source": [
    "Avez-vous remarqué comment GPT-2 segmente le texte arabe caractère par caractère, souvent octet par octet, au lieu de saisir des unités significatives ? C’est parce que GPT-2 a été principalement entraîné sur des données en anglais et n’a pas été optimisé pour gérer l’arabe. Bien qu’il soit possible de tokenizer l’arabe avec le tokenizer de GPT-2, cela conduit généralement à un nombre de tokens bien plus élevé comparé au même contenu en anglais — ce qui implique également un coût plus élevé.\n"
   ]
  },
  {
   "cell_type": "markdown",
   "metadata": {
    "id": "alop4gEjP48e"
   },
   "source": [
    "Essayons le tokenizer [Gemma 3](https://developers.googleblog.com/en/introducing-gemma3/#:~:text=Gemma%203%20uses%20a%20new,TPUs%20using%20the%20JAX%20Framework.). Il s’agit d’un nouveau tokenizer multilingue conçu pour prendre en charge plus de 140 langues.\n",
    "\n",
    "> Nous utiliserons le coût du token GPT-4.1 comme base de comparaison.\n"
   ]
  },
  {
   "cell_type": "code",
   "execution_count": null,
   "metadata": {
    "id": "ajJMBSYkP09h"
   },
   "outputs": [],
   "source": [
    "model_name = \"gemma3\"\n",
    "for language, sentence in sentences.items():\n",
    "    # Pour chaque langue, tokeniser la phrase et afficher les résultats\n",
    "    tokens, token_ids = tokenize(sentence, model_name)\n",
    "    print(f\"Langue : {language}, Modèle : {model_name}\")\n",
    "    print(\"-\" * 50)  # Séparateur pour plus de clarté\n",
    "    print(\"Phrase :\", sentence)\n",
    "    print(\"Tokens :\", tokens)\n",
    "    print(\"IDs des tokens :\", token_ids)\n",
    "    print(\"Nombre de tokens :\", len(tokens))\n",
    "    print(\"Coût du token (mis à l'échelle par 1000000) :\", f'${token_cost(tokens, model_name) * 1000000:0.1f}')\n",
    "    print(\"-\" * 50)  # Séparateur pour plus de clarté"
   ]
  },
  {
   "cell_type": "markdown",
   "metadata": {
    "id": "z8EekZSfP_Lz"
   },
   "source": [
    "Qu’en est-il de l’utilisation d’un tokenizer spécifique à une langue ? Par exemple, essayez `asafaya/bert-base-arabic` sur un texte en arabe — il est conçu pour gérer bien mieux la structure et les nuances de la langue que les tokenizers généralistes. Remarquez comment le nombre de tokens — et donc le coût — diminue considérablement lorsque vous utilisez un tokenizer spécifiquement adapté à l’arabe ?\n",
    "\n",
    "> Nous utiliserons le coût du token GPT-4.1 comme base de comparaison.\n"
   ]
  },
  {
   "cell_type": "code",
   "execution_count": null,
   "metadata": {
    "id": "LjzJYNccP9uZ"
   },
   "outputs": [],
   "source": [
    "model_name = \"asafaya/bert-base-arabic\"\n",
    "language = \"Arabic\"\n",
    "sentence = sentences[language]  # Obtenir la phrase en arabe du dictionnaire\n",
    "tokens, token_ids = tokenize(sentence, model_name)\n",
    "clear_output()\n",
    "print(f\"Langue : {language}, Modèle : {model_name}\")\n",
    "print(\"-\" * 50)  # Séparateur pour plus de clarté\n",
    "print(\"Phrase :\", sentence)\n",
    "print(\"Tokens :\", tokens)\n",
    "print(\"IDs des tokens :\", token_ids)\n",
    "print(\"Nombre de tokens :\", len(tokens))\n",
    "print(\"Coût du token (mis à l'échelle par 1000000) :\", f'${token_cost(tokens, model_name) * 1000000:0.1f}')\n",
    "print(\"-\" * 50)  # Séparateur pour plus de clarté\n",
    "\n",
    "\n",
    "model_name = \"gemma3\"\n",
    "language = \"Arabic\"\n",
    "sentence = sentences[language]  # Obtenir la phrase en arabe du dictionnaire\n",
    "tokens, token_ids = tokenize(sentence, model_name)\n",
    "print(f\"Langue : {language}, Modèle : {model_name}\")\n",
    "print(\"-\" * 50)  # Séparateur pour plus de clarté\n",
    "print(\"Phrase :\", sentence)\n",
    "print(\"Tokens :\", tokens)\n",
    "print(\"IDs des tokens :\", token_ids)\n",
    "print(\"Nombre de tokens :\", len(tokens))\n",
    "print(\"Coût du token (mis à l'échelle par 1000000) :\", f'${token_cost(tokens, model_name) * 1000000:0.1f}')\n",
    "print(\"-\" * 50)  # Séparateur pour plus de clarté\n",
    "\n",
    "\n",
    "model_name = \"gpt2\"\n",
    "language = \"Arabic\"\n",
    "sentence = sentences[language]  # Obtenir la phrase en arabe du dictionnaire\n",
    "tokens, token_ids = tokenize(sentence, model_name)\n",
    "print(f\"Langue : {language}, Modèle : {model_name}\")\n",
    "print(\"-\" * 50)  # Séparateur pour plus de clarté\n",
    "print(\"Phrase :\", sentence)\n",
    "print(\"Tokens :\", tokens)\n",
    "print(\"IDs des tokens :\", token_ids)\n",
    "print(\"Nombre de tokens :\", len(tokens))\n",
    "print(\"Coût du token (mis à l'échelle par 1000000) :\", f'${token_cost(tokens, model_name) * 1000000:0.1f}')\n",
    "print(\"-\" * 50)  # Séparateur pour plus de clarté"
   ]
  },
  {
   "cell_type": "code",
   "execution_count": null,
   "metadata": {
    "id": "qH-jn4JvQGJW"
   },
   "outputs": [],
   "source": [
    "# Définir les modèles que vous voulez comparer\n",
    "models = [\"asafaya/bert-base-arabic\", \"gemma3\", \"gpt2\"]\n",
    "costs = []\n",
    "language = \"Arabic\"  # Langue à utiliser pour la comparaison des coûts\n",
    "# Calculer le coût du token pour chaque modèle en utilisant le dictionnaire des phrases\n",
    "for model in models:\n",
    "    total_cost = 0\n",
    "    tokens, _ = tokenize(sentences[language], model)\n",
    "    total_cost = token_cost(tokens, model)\n",
    "    costs.append(total_cost * 1000000)  # Mettre à l'échelle par 1 million pour l'affichage\n",
    "\n",
    "# Créer le graphique à barres\n",
    "plt.figure(figsize=(5, 4))\n",
    "plt.bar(models, costs, color='k')\n",
    "plt.xlabel('Modèle')\n",
    "plt.ylabel('Coût mis à l\\'échelle (USD)')\n",
    "plt.title(f'Comparaison des coûts des modèles pour la langue {language}')\n",
    "plt.xticks(rotation=45)\n",
    "plt.tight_layout()\n",
    "plt.show()"
   ]
  },
  {
   "cell_type": "markdown",
   "metadata": {
    "id": "WwCo9941QRo2"
   },
   "source": [
    "#### 🧵 Points clés\n",
    "\n",
    "* **Soyez conscient de la manière dont les LLM représentent votre langue**, surtout si vous utilisez des API commerciales. La façon dont votre texte est tokenisé impacte directement le coût.\n",
    "* Si vous entraînez votre propre LLM, **portez une attention particulière à la tokenisation**. Vous pourriez vouloir **adapter le tokenizer à votre langue** pour réduire le nombre de tokens et rendre la représentation plus compacte et efficace.\n",
    "* Des travaux récents de **Cohere** explorent la création d’un [**tokenizer universel**](https://arxiv.org/pdf/2506.10766) qui fonctionne bien pour plusieurs langues. Ce type de recherche cherche à niveler les inégalités.\n",
    "* À consulter également :\n",
    "\n",
    "  * 📄 *[Do All Languages Cost the Same? Tokenization in the Era of Commercial Language Models](https://aclanthology.org/2023.emnlp-main.614.pdf)*\n",
    "  * 📄 *[Language Model Tokenizers Introduce Unfairness Between Languages](https://arxiv.org/pdf/2305.154255)*\n",
    "\n",
    "Ces études ont montré dès le départ que les tokenizers introduisent une **injustice structurelle**, en particulier pour les langues peu dotées en ressources. Pour cette raison, plusieurs fournisseurs commerciaux de LLM ont depuis commencé à entraîner des **tokenizers plus représentatifs** afin de réduire les disparités de coût entre langues.\n",
    "\n",
    "En résumé : **La tokenisation n’est pas qu’un détail technique, c’est une question d’accès linguistique.**\n"
   ]
  },
  {
   "cell_type": "markdown",
   "metadata": {
    "id": "fV3YG7QOZD-B"
   },
   "source": [
    "Voici la traduction en français de ta conclusion :\n",
    "\n",
    "---\n",
    "\n",
    "# **Conclusion**\n",
    "\n",
    "**Résumé :**\n",
    "\n",
    "Vous avez maintenant acquis les bases essentielles du fonctionnement d’un Large Language Model (LLM), depuis les mécanismes d’attention jusqu’à l’entraînement de votre propre modèle ! Ces outils puissants ont le potentiel de transformer de nombreuses tâches. Cependant, comme pour tout modèle de deep learning, leur magie réside dans la capacité à les appliquer aux bons problèmes avec les bonnes données.\n",
    "\n",
    "Prêt·e à passer au niveau supérieur ? Plongez-vous dans le fine-tuning de vos propres LLMs pour libérer encore plus de potentiel ! Je recommande vivement d’explorer le practical de l’année dernière sur les méthodes de fine-tuning efficaces en paramètres pour une vue complète des techniques avancées. Le voyage ne s’arrête pas ici — il y a tellement plus à découvrir !\n",
    "\n",
    "Le monde des LLMs est à votre portée — lancez-vous et créez quelque chose d’incroyable ! 🌟🚀\n",
    "\n",
    "---\n",
    "\n",
    "**Prochaines étapes :**\n",
    "[**Fine-tuning efficace en paramètres des grands modèles de langage**](https://colab.research.google.com/drive/1_QGpdDOlKSiEyV2E1NsMQBhSqspFOs64?usp=sharing)\n",
    "\n",
    "---\n",
    "\n",
    "**Références :** Pour plus de ressources, consultez les liens référencés dans les différentes sections de ce colab.\n",
    "\n",
    "* [Article \"Attention is all you need\"](https://arxiv.org/abs/1706.03762)\n",
    "* [Qu’est-ce que les modèles Transformer et comment fonctionnent-ils ?](https://www.youtube.com/watch?v=qaWMOYf4ri8)\n",
    "* [Clés, requêtes, et valeurs : la mécanique céleste de l’attention](https://www.youtube.com/watch?v=RFdb2rKAqFw)\n",
    "* [Vidéos supplémentaires sur les Transformers](https://www.youtube.com/playlist?list=PLmZlBIcArwhOPR2s-FIR7WoqNaBML233s)\n",
    "* [LLMs pour tous DLI2023](https://colab.research.google.com/github/deep-learning-indaba/indaba-pracs-2023/blob/main/practicals/large_language_models.ipynb)\n",
    "* [Fondations des LLM DLI2024](https://github.com/deep-learning-indaba/indaba-pracs-2024/blob/main/practicals/Foundations_of_LLMs/foundations_of_llms_practical.ipynb)\n",
    "\n",
    "Pour découvrir d’autres practicals du Deep Learning Indaba, rendez-vous [ici](https://github.com/deep-learning-indaba/indaba-pracs-2025).\n",
    "\n",
    "---\n"
   ]
  },
  {
   "cell_type": "markdown",
   "metadata": {
    "id": "o1ndpYE50BpG"
   },
   "source": [
    "## Avis\n",
    "\n",
    "Merci de remplir ce formulaire, c’est une partie très importante des travaux pratiques. Vos retours nous aideront à **améliorer les sessions et compteront également pour le prix à la fin des sessions!**"
   ]
  },
  {
   "cell_type": "code",
   "execution_count": null,
   "metadata": {
    "cellView": "form",
    "collapsed": true,
    "id": "OIZvkhfRz9Jz"
   },
   "outputs": [],
   "source": [
    "# @title Générer un formulaire de commentaires. (Exécuter la cellule)\n",
    "from IPython.display import HTML\n",
    "\n",
    "HTML(\n",
    "    \"\"\"\n",
    "<iframe\n",
    "\tsrc=\"https://forms.gle/AJr8t3mzXV2WRgHy6\",\n",
    "  width=\"80%\"\n",
    "\theight=\"1200px\" >\n",
    "\tLoading...\n",
    "</iframe>\n",
    "\"\"\"\n",
    ")"
   ]
  },
  {
   "cell_type": "markdown",
   "metadata": {
    "id": "oglV4kHMWnIN"
   },
   "source": [
    "<img src=\"https://baobab.deeplearningindaba.com/static/media/indaba-logo-dark.d5a6196d.png\" width=\"50%\" />"
   ]
  },
  {
   "cell_type": "markdown",
   "metadata": {
    "id": "a7e0353a"
   },
   "source": []
  }
 ],
 "metadata": {
  "accelerator": "GPU",
  "colab": {
   "collapsed_sections": [
    "Zgn0dW3IH9NQ",
    "ElXJ1BGzH5BJ",
    "svfeQO7VIOIu",
    "AtWMaTddww65",
    "9YPYutB1TAes",
    "WNO703V9SBcI",
    "Qkh0KgRPdDf8",
    "vY02IFQouwjN",
    "5X4tRtSZxGHg",
    "tixtBEtRPZ5n",
    "QVTduxk4PdYC",
    "WwCo9941QRo2",
    "o1ndpYE50BpG"
   ],
   "gpuType": "T4",
   "provenance": []
  },
  "kernelspec": {
   "display_name": "Python 3",
   "name": "python3"
  },
  "language_info": {
   "codemirror_mode": {
    "name": "ipython",
    "version": 3
   },
   "file_extension": ".py",
   "mimetype": "text/x-python",
   "name": "python",
   "nbconvert_exporter": "python",
   "pygments_lexer": "ipython3",
   "version": "3.11.13"
  },
  "vscode": {
   "interpreter": {
    "hash": "145833166d986a8417df3c7acb65d917d84b716b5a452e57fcacdc66f1a168c9"
   }
  }
 },
 "nbformat": 4,
 "nbformat_minor": 0
}
